{
 "cells": [
  {
   "cell_type": "code",
   "execution_count": 1,
   "metadata": {},
   "outputs": [],
   "source": [
    "# Packages & Settings\n",
    "\n",
    "\n",
    "import pandas as pd\n",
    "import numpy as np\n",
    "import matplotlib.pyplot as plt\n",
    "import seaborn as sns\n",
    "from datetime import datetime\n",
    "import statsmodels.api as sm"
   ]
  },
  {
   "cell_type": "code",
   "execution_count": 2,
   "metadata": {},
   "outputs": [],
   "source": [
    "# importing Billboard CSV\n",
    "billboard_df = pd.read_csv('data/Hot_Stuff.csv')"
   ]
  },
  {
   "cell_type": "code",
   "execution_count": 3,
   "metadata": {},
   "outputs": [],
   "source": [
    "# converting WeekID to datetime\n",
    "billboard_df['WeekID'] = pd.to_datetime(billboard_df['WeekID'])"
   ]
  },
  {
   "cell_type": "code",
   "execution_count": 4,
   "metadata": {},
   "outputs": [],
   "source": [
    "# renaming columns to python standards\n",
    "\n",
    "billboard_df = billboard_df.rename(columns={\"url\": \"url\", \"WeekID\": \"week_id\", \"Week Position\": 'week_position', \"Song\": 'song', \"Performer\": \"performer\", \"SongID\": \"song_id\", \"Instance\": \"instance\", \"Previous Week Position\": \"prev_week_position\", \"Peak Position\": \"peak_position\", \"Weeks on Chart\": \"weeks_on_chart\"})"
   ]
  },
  {
   "cell_type": "code",
   "execution_count": 5,
   "metadata": {},
   "outputs": [],
   "source": [
    "#creating date/month/day/year columns\n",
    "\n",
    "\n",
    "billboard_df['date']= billboard_df['week_id'].dt.date\n",
    "billboard_df['month'] = billboard_df['week_id'].dt.month\n",
    "billboard_df['day']= billboard_df['week_id'].dt.day\n",
    "billboard_df['year'] = billboard_df['week_id'].dt.year"
   ]
  },
  {
   "cell_type": "code",
   "execution_count": 6,
   "metadata": {},
   "outputs": [],
   "source": [
    "# replacing artist names: pre string-split\n",
    "\n",
    "billboard_df[\"performer\"]= billboard_df[\"performer\"].replace(\"Elvis Presley With The Jordanaires\", \"Elvis Presley\") \n",
    "billboard_df[\"performer\"]= billboard_df[\"performer\"].replace(\"James Brown And The Famous Flames\", \"James Brown\") \n",
    "billboard_df[\"performer\"]= billboard_df[\"performer\"].replace(\"Prince and the Revolution\", \"Prince\") \n"
   ]
  },
  {
   "cell_type": "code",
   "execution_count": 7,
   "metadata": {},
   "outputs": [],
   "source": [
    "# String Split\n",
    "new = billboard_df[\"performer\"].str.split(\" Featuring \", n = 1, expand = True) \n",
    "billboard_df[\"main_performer\"]= new[0] \n",
    "billboard_df[\"featured_performer\"]= new[1] "
   ]
  },
  {
   "cell_type": "code",
   "execution_count": 8,
   "metadata": {},
   "outputs": [],
   "source": [
    "# Post-String Split replacements of artist names\n",
    "billboard_df[\"main_performer\"]= billboard_df[\"main_performer\"].replace(\"Janet Jackson\", \"Janet\")\n",
    "billboard_df[\"main_performer\"]= billboard_df[\"main_performer\"].replace(\"Jay Z\", \"Jay-Z\")\n",
    "billboard_df[\"featured_performer\"]= billboard_df[\"featured_performer\"].replace(\"Janet Jackson\", \"Janet\")\n",
    "billboard_df[\"featured_performer\"]= billboard_df[\"featured_performer\"].replace(\"Jay Z\", \"Jay-Z\")\n",
    "# Frankie Valli and the 4 Seasons\n",
    "billboard_df[\"main_performer\"]= billboard_df[\"main_performer\"].replace(\"Frankie Valli\", \"The 4 Seasons\")"
   ]
  },
  {
   "cell_type": "code",
   "execution_count": null,
   "metadata": {},
   "outputs": [],
   "source": []
  },
  {
   "cell_type": "code",
   "execution_count": 9,
   "metadata": {},
   "outputs": [],
   "source": [
    "# dropping 'URL' column- I don't think I'll reference it for now\n",
    "# Note: I might be using the URL column if I end up doing some webscraping\n",
    "billboard_df = billboard_df.drop(columns=['url'])"
   ]
  },
  {
   "cell_type": "markdown",
   "metadata": {},
   "source": [
    "# Note: This is the end of cleaning billboard_df"
   ]
  },
  {
   "cell_type": "code",
   "execution_count": 10,
   "metadata": {},
   "outputs": [],
   "source": [
    "weekly_array_groupby = billboard_df.groupby('week_id').song_id.unique().reset_index()"
   ]
  },
  {
   "cell_type": "code",
   "execution_count": 11,
   "metadata": {},
   "outputs": [],
   "source": [
    "weekly_array_groupby = weekly_array_groupby.rename(columns={\"song_id\": \"week_song_array\"})"
   ]
  },
  {
   "cell_type": "code",
   "execution_count": 12,
   "metadata": {},
   "outputs": [
    {
     "data": {
      "text/html": [
       "<div>\n",
       "<style scoped>\n",
       "    .dataframe tbody tr th:only-of-type {\n",
       "        vertical-align: middle;\n",
       "    }\n",
       "\n",
       "    .dataframe tbody tr th {\n",
       "        vertical-align: top;\n",
       "    }\n",
       "\n",
       "    .dataframe thead th {\n",
       "        text-align: right;\n",
       "    }\n",
       "</style>\n",
       "<table border=\"1\" class=\"dataframe\">\n",
       "  <thead>\n",
       "    <tr style=\"text-align: right;\">\n",
       "      <th></th>\n",
       "      <th>week_id</th>\n",
       "      <th>week_song_array</th>\n",
       "    </tr>\n",
       "  </thead>\n",
       "  <tbody>\n",
       "    <tr>\n",
       "      <th>0</th>\n",
       "      <td>1958-08-02</td>\n",
       "      <td>[Poor Little FoolRicky Nelson, PatriciaPerez P...</td>\n",
       "    </tr>\n",
       "    <tr>\n",
       "      <th>1</th>\n",
       "      <td>1958-08-09</td>\n",
       "      <td>[Susie Darlin'Robin Luke, Devoted To YouThe Ev...</td>\n",
       "    </tr>\n",
       "    <tr>\n",
       "      <th>2</th>\n",
       "      <td>1958-08-16</td>\n",
       "      <td>[How The Time FliesJerry Wallace, Down In Virg...</td>\n",
       "    </tr>\n",
       "    <tr>\n",
       "      <th>3</th>\n",
       "      <td>1958-08-23</td>\n",
       "      <td>[Down The Aisle Of LoveThe Quin-Tones, Near Yo...</td>\n",
       "    </tr>\n",
       "    <tr>\n",
       "      <th>4</th>\n",
       "      <td>1958-08-30</td>\n",
       "      <td>[Nel Blu Dipinto Di Blu (Volaré)Domenico Modug...</td>\n",
       "    </tr>\n",
       "    <tr>\n",
       "      <th>5</th>\n",
       "      <td>1958-09-06</td>\n",
       "      <td>[La PalomaBilly Vaughn And His Orchestra, No O...</td>\n",
       "    </tr>\n",
       "    <tr>\n",
       "      <th>6</th>\n",
       "      <td>1958-09-13</td>\n",
       "      <td>[Ten Commandments Of LoveHarvey &amp; The Moonglow...</td>\n",
       "    </tr>\n",
       "    <tr>\n",
       "      <th>7</th>\n",
       "      <td>1958-09-20</td>\n",
       "      <td>[Born Too LatePoni-Tails, Summertime BluesEddi...</td>\n",
       "    </tr>\n",
       "    <tr>\n",
       "      <th>8</th>\n",
       "      <td>1958-09-27</td>\n",
       "      <td>[Devoted To YouThe Everly Brothers, No One But...</td>\n",
       "    </tr>\n",
       "    <tr>\n",
       "      <th>9</th>\n",
       "      <td>1958-10-04</td>\n",
       "      <td>[Leave Me Alone (Let Me Cry)Dicky Doo And The ...</td>\n",
       "    </tr>\n",
       "    <tr>\n",
       "      <th>10</th>\n",
       "      <td>1958-10-11</td>\n",
       "      <td>[La-Do-DadaDale Hawkins, Somebody Touched MeBu...</td>\n",
       "    </tr>\n",
       "    <tr>\n",
       "      <th>11</th>\n",
       "      <td>1958-10-18</td>\n",
       "      <td>[Tea For Two Cha ChaThe Tommy Dorsey Orchestra...</td>\n",
       "    </tr>\n",
       "    <tr>\n",
       "      <th>12</th>\n",
       "      <td>1958-10-25</td>\n",
       "      <td>[No One KnowsDion &amp; The Belmonts, Jealous Hear...</td>\n",
       "    </tr>\n",
       "    <tr>\n",
       "      <th>13</th>\n",
       "      <td>1958-11-01</td>\n",
       "      <td>[For My Good FortunePat Boone, Beep BeepThe Pl...</td>\n",
       "    </tr>\n",
       "    <tr>\n",
       "      <th>14</th>\n",
       "      <td>1958-11-08</td>\n",
       "      <td>[FireflyTony Bennett, Dreamy EyesJohnny Tillot...</td>\n",
       "    </tr>\n",
       "    <tr>\n",
       "      <th>15</th>\n",
       "      <td>1958-11-15</td>\n",
       "      <td>[Pussy CatThe Ames Brothers, Pledging My LoveR...</td>\n",
       "    </tr>\n",
       "    <tr>\n",
       "      <th>16</th>\n",
       "      <td>1958-11-22</td>\n",
       "      <td>[Queen Of The HopBobby Darin, HideawayThe Four...</td>\n",
       "    </tr>\n",
       "    <tr>\n",
       "      <th>17</th>\n",
       "      <td>1958-11-29</td>\n",
       "      <td>[DonnaRitchie Valens, Look Who's BlueDon Gibso...</td>\n",
       "    </tr>\n",
       "    <tr>\n",
       "      <th>18</th>\n",
       "      <td>1958-12-06</td>\n",
       "      <td>[Don't You Know YockomoHuey \"piano\" Smith With...</td>\n",
       "    </tr>\n",
       "    <tr>\n",
       "      <th>19</th>\n",
       "      <td>1958-12-13</td>\n",
       "      <td>[DonnaRitchie Valens, Non Dimenticar (Don't Fo...</td>\n",
       "    </tr>\n",
       "    <tr>\n",
       "      <th>20</th>\n",
       "      <td>1958-12-20</td>\n",
       "      <td>[DonnaRitchie Valens, (All of a Sudden) My Hea...</td>\n",
       "    </tr>\n",
       "    <tr>\n",
       "      <th>21</th>\n",
       "      <td>1958-12-27</td>\n",
       "      <td>[DonnaRitchie Valens, BimbombeyJimmie Rodgers,...</td>\n",
       "    </tr>\n",
       "    <tr>\n",
       "      <th>22</th>\n",
       "      <td>1959-01-03</td>\n",
       "      <td>[Don't You Know YockomoHuey \"piano\" Smith With...</td>\n",
       "    </tr>\n",
       "    <tr>\n",
       "      <th>23</th>\n",
       "      <td>1959-01-10</td>\n",
       "      <td>[Don't You Know YockomoHuey \"piano\" Smith With...</td>\n",
       "    </tr>\n",
       "    <tr>\n",
       "      <th>24</th>\n",
       "      <td>1959-01-17</td>\n",
       "      <td>[Don't You Know YockomoHuey \"piano\" Smith With...</td>\n",
       "    </tr>\n",
       "    <tr>\n",
       "      <th>25</th>\n",
       "      <td>1959-01-24</td>\n",
       "      <td>[Don't You Know YockomoHuey \"piano\" Smith With...</td>\n",
       "    </tr>\n",
       "    <tr>\n",
       "      <th>26</th>\n",
       "      <td>1959-01-31</td>\n",
       "      <td>[Don't You Know YockomoHuey \"piano\" Smith With...</td>\n",
       "    </tr>\n",
       "    <tr>\n",
       "      <th>27</th>\n",
       "      <td>1959-02-07</td>\n",
       "      <td>[La BambaRitchie Valens, DonnaRitchie Valens, ...</td>\n",
       "    </tr>\n",
       "    <tr>\n",
       "      <th>28</th>\n",
       "      <td>1959-02-14</td>\n",
       "      <td>[NolaThe Morgan Brothers, DonnaRitchie Valens,...</td>\n",
       "    </tr>\n",
       "    <tr>\n",
       "      <th>29</th>\n",
       "      <td>1959-02-21</td>\n",
       "      <td>[Miss YouJaye P. Morgan, Peter GunnRay Anthony...</td>\n",
       "    </tr>\n",
       "    <tr>\n",
       "      <th>...</th>\n",
       "      <td>...</td>\n",
       "      <td>...</td>\n",
       "    </tr>\n",
       "    <tr>\n",
       "      <th>170</th>\n",
       "      <td>1961-11-04</td>\n",
       "      <td>[On Bended KneesClarence Henry, For Me And My ...</td>\n",
       "    </tr>\n",
       "    <tr>\n",
       "      <th>171</th>\n",
       "      <td>1961-11-11</td>\n",
       "      <td>[I Cried My Last TearErnie K-Doe, My Heart Bel...</td>\n",
       "    </tr>\n",
       "    <tr>\n",
       "      <th>172</th>\n",
       "      <td>1961-11-18</td>\n",
       "      <td>[Sweets For My SweetThe Drifters, Funny How Ti...</td>\n",
       "    </tr>\n",
       "    <tr>\n",
       "      <th>173</th>\n",
       "      <td>1961-11-25</td>\n",
       "      <td>[If You Gotta Make A Fool Of SomebodyJames Ray...</td>\n",
       "    </tr>\n",
       "    <tr>\n",
       "      <th>174</th>\n",
       "      <td>1961-12-02</td>\n",
       "      <td>[Let's Go Trippin'Dick Dale and The Del-Tones,...</td>\n",
       "    </tr>\n",
       "    <tr>\n",
       "      <th>175</th>\n",
       "      <td>1961-12-09</td>\n",
       "      <td>[A Wonder Like YouRick Nelson, CrazyPatsy Clin...</td>\n",
       "    </tr>\n",
       "    <tr>\n",
       "      <th>176</th>\n",
       "      <td>1961-12-16</td>\n",
       "      <td>[Irresistible YouBobby Darin, Let's Go Trippin...</td>\n",
       "    </tr>\n",
       "    <tr>\n",
       "      <th>177</th>\n",
       "      <td>1961-12-23</td>\n",
       "      <td>[Funny How Time Slips AwayJimmy Elledge, I Cou...</td>\n",
       "    </tr>\n",
       "    <tr>\n",
       "      <th>178</th>\n",
       "      <td>1961-12-30</td>\n",
       "      <td>[If You Gotta Make A Fool Of SomebodyJames Ray...</td>\n",
       "    </tr>\n",
       "    <tr>\n",
       "      <th>179</th>\n",
       "      <td>1962-01-06</td>\n",
       "      <td>[Lost SomeoneJames Brown And The Famous Flames...</td>\n",
       "    </tr>\n",
       "    <tr>\n",
       "      <th>180</th>\n",
       "      <td>1962-01-13</td>\n",
       "      <td>[Johnny WillPat Boone, Break It To Me GentlyBr...</td>\n",
       "    </tr>\n",
       "    <tr>\n",
       "      <th>181</th>\n",
       "      <td>1962-01-20</td>\n",
       "      <td>[Letter Full Of TearsGladys Knight And The Pip...</td>\n",
       "    </tr>\n",
       "    <tr>\n",
       "      <th>182</th>\n",
       "      <td>1962-01-27</td>\n",
       "      <td>[JamieEddie Holland, Dear Lady TwistGary U.S. ...</td>\n",
       "    </tr>\n",
       "    <tr>\n",
       "      <th>183</th>\n",
       "      <td>1962-02-03</td>\n",
       "      <td>[A Little Bitty TearBurl Ives, Poor FoolIke &amp; ...</td>\n",
       "    </tr>\n",
       "    <tr>\n",
       "      <th>184</th>\n",
       "      <td>1962-02-10</td>\n",
       "      <td>[MidnightJohnny Gibson, Let's GoFloyd Cramer, ...</td>\n",
       "    </tr>\n",
       "    <tr>\n",
       "      <th>185</th>\n",
       "      <td>1962-02-17</td>\n",
       "      <td>[MultiplicationBobby Darin, Lost SomeoneJames ...</td>\n",
       "    </tr>\n",
       "    <tr>\n",
       "      <th>186</th>\n",
       "      <td>1962-02-24</td>\n",
       "      <td>[It's MagicThe Platters, I Surrender, DearAret...</td>\n",
       "    </tr>\n",
       "    <tr>\n",
       "      <th>187</th>\n",
       "      <td>1962-03-03</td>\n",
       "      <td>[Percolator (Twist)Billy Joe &amp; The Checkmates,...</td>\n",
       "    </tr>\n",
       "    <tr>\n",
       "      <th>188</th>\n",
       "      <td>1962-03-10</td>\n",
       "      <td>[Lollipops And RosesJack Jones, Ida JaneFats D...</td>\n",
       "    </tr>\n",
       "    <tr>\n",
       "      <th>189</th>\n",
       "      <td>1962-03-17</td>\n",
       "      <td>[I'm Blue (The Gong-Gong Song)The Ikettes, She...</td>\n",
       "    </tr>\n",
       "    <tr>\n",
       "      <th>190</th>\n",
       "      <td>1962-03-24</td>\n",
       "      <td>[Memories Of MariaJerry Byrd, JamieEddie Holla...</td>\n",
       "    </tr>\n",
       "    <tr>\n",
       "      <th>191</th>\n",
       "      <td>1962-03-31</td>\n",
       "      <td>[He Knows I Love Him Too MuchThe Paris Sisters...</td>\n",
       "    </tr>\n",
       "    <tr>\n",
       "      <th>192</th>\n",
       "      <td>1962-04-07</td>\n",
       "      <td>[King Of ClownsNeil Sedaka, Come Back Silly Gi...</td>\n",
       "    </tr>\n",
       "    <tr>\n",
       "      <th>193</th>\n",
       "      <td>1962-04-14</td>\n",
       "      <td>[Dear OneLarry Finnegan, Good Luck CharmElvis ...</td>\n",
       "    </tr>\n",
       "    <tr>\n",
       "      <th>194</th>\n",
       "      <td>1962-04-21</td>\n",
       "      <td>[Lovesick BluesFloyd Cramer, Meet Me At The Tw...</td>\n",
       "    </tr>\n",
       "    <tr>\n",
       "      <th>195</th>\n",
       "      <td>1962-04-28</td>\n",
       "      <td>[(I've Got) BonnieBobby Rydell, Come Back Sill...</td>\n",
       "    </tr>\n",
       "    <tr>\n",
       "      <th>196</th>\n",
       "      <td>1962-05-05</td>\n",
       "      <td>[I'll Take You HomeThe Corsairs Featuring Jay ...</td>\n",
       "    </tr>\n",
       "    <tr>\n",
       "      <th>197</th>\n",
       "      <td>1962-05-12</td>\n",
       "      <td>[Shout - Part IJoey Dee &amp; the Starliters, Ginn...</td>\n",
       "    </tr>\n",
       "    <tr>\n",
       "      <th>198</th>\n",
       "      <td>1962-05-19</td>\n",
       "      <td>[P.T. 109Jimmy Dean, Imagine ThatPatsy Cline, ...</td>\n",
       "    </tr>\n",
       "    <tr>\n",
       "      <th>199</th>\n",
       "      <td>1962-05-26</td>\n",
       "      <td>[Night TrainJames Brown And The Famous Flames,...</td>\n",
       "    </tr>\n",
       "  </tbody>\n",
       "</table>\n",
       "<p>200 rows × 2 columns</p>\n",
       "</div>"
      ],
      "text/plain": [
       "       week_id                                    week_song_array\n",
       "0   1958-08-02  [Poor Little FoolRicky Nelson, PatriciaPerez P...\n",
       "1   1958-08-09  [Susie Darlin'Robin Luke, Devoted To YouThe Ev...\n",
       "2   1958-08-16  [How The Time FliesJerry Wallace, Down In Virg...\n",
       "3   1958-08-23  [Down The Aisle Of LoveThe Quin-Tones, Near Yo...\n",
       "4   1958-08-30  [Nel Blu Dipinto Di Blu (Volaré)Domenico Modug...\n",
       "5   1958-09-06  [La PalomaBilly Vaughn And His Orchestra, No O...\n",
       "6   1958-09-13  [Ten Commandments Of LoveHarvey & The Moonglow...\n",
       "7   1958-09-20  [Born Too LatePoni-Tails, Summertime BluesEddi...\n",
       "8   1958-09-27  [Devoted To YouThe Everly Brothers, No One But...\n",
       "9   1958-10-04  [Leave Me Alone (Let Me Cry)Dicky Doo And The ...\n",
       "10  1958-10-11  [La-Do-DadaDale Hawkins, Somebody Touched MeBu...\n",
       "11  1958-10-18  [Tea For Two Cha ChaThe Tommy Dorsey Orchestra...\n",
       "12  1958-10-25  [No One KnowsDion & The Belmonts, Jealous Hear...\n",
       "13  1958-11-01  [For My Good FortunePat Boone, Beep BeepThe Pl...\n",
       "14  1958-11-08  [FireflyTony Bennett, Dreamy EyesJohnny Tillot...\n",
       "15  1958-11-15  [Pussy CatThe Ames Brothers, Pledging My LoveR...\n",
       "16  1958-11-22  [Queen Of The HopBobby Darin, HideawayThe Four...\n",
       "17  1958-11-29  [DonnaRitchie Valens, Look Who's BlueDon Gibso...\n",
       "18  1958-12-06  [Don't You Know YockomoHuey \"piano\" Smith With...\n",
       "19  1958-12-13  [DonnaRitchie Valens, Non Dimenticar (Don't Fo...\n",
       "20  1958-12-20  [DonnaRitchie Valens, (All of a Sudden) My Hea...\n",
       "21  1958-12-27  [DonnaRitchie Valens, BimbombeyJimmie Rodgers,...\n",
       "22  1959-01-03  [Don't You Know YockomoHuey \"piano\" Smith With...\n",
       "23  1959-01-10  [Don't You Know YockomoHuey \"piano\" Smith With...\n",
       "24  1959-01-17  [Don't You Know YockomoHuey \"piano\" Smith With...\n",
       "25  1959-01-24  [Don't You Know YockomoHuey \"piano\" Smith With...\n",
       "26  1959-01-31  [Don't You Know YockomoHuey \"piano\" Smith With...\n",
       "27  1959-02-07  [La BambaRitchie Valens, DonnaRitchie Valens, ...\n",
       "28  1959-02-14  [NolaThe Morgan Brothers, DonnaRitchie Valens,...\n",
       "29  1959-02-21  [Miss YouJaye P. Morgan, Peter GunnRay Anthony...\n",
       "..         ...                                                ...\n",
       "170 1961-11-04  [On Bended KneesClarence Henry, For Me And My ...\n",
       "171 1961-11-11  [I Cried My Last TearErnie K-Doe, My Heart Bel...\n",
       "172 1961-11-18  [Sweets For My SweetThe Drifters, Funny How Ti...\n",
       "173 1961-11-25  [If You Gotta Make A Fool Of SomebodyJames Ray...\n",
       "174 1961-12-02  [Let's Go Trippin'Dick Dale and The Del-Tones,...\n",
       "175 1961-12-09  [A Wonder Like YouRick Nelson, CrazyPatsy Clin...\n",
       "176 1961-12-16  [Irresistible YouBobby Darin, Let's Go Trippin...\n",
       "177 1961-12-23  [Funny How Time Slips AwayJimmy Elledge, I Cou...\n",
       "178 1961-12-30  [If You Gotta Make A Fool Of SomebodyJames Ray...\n",
       "179 1962-01-06  [Lost SomeoneJames Brown And The Famous Flames...\n",
       "180 1962-01-13  [Johnny WillPat Boone, Break It To Me GentlyBr...\n",
       "181 1962-01-20  [Letter Full Of TearsGladys Knight And The Pip...\n",
       "182 1962-01-27  [JamieEddie Holland, Dear Lady TwistGary U.S. ...\n",
       "183 1962-02-03  [A Little Bitty TearBurl Ives, Poor FoolIke & ...\n",
       "184 1962-02-10  [MidnightJohnny Gibson, Let's GoFloyd Cramer, ...\n",
       "185 1962-02-17  [MultiplicationBobby Darin, Lost SomeoneJames ...\n",
       "186 1962-02-24  [It's MagicThe Platters, I Surrender, DearAret...\n",
       "187 1962-03-03  [Percolator (Twist)Billy Joe & The Checkmates,...\n",
       "188 1962-03-10  [Lollipops And RosesJack Jones, Ida JaneFats D...\n",
       "189 1962-03-17  [I'm Blue (The Gong-Gong Song)The Ikettes, She...\n",
       "190 1962-03-24  [Memories Of MariaJerry Byrd, JamieEddie Holla...\n",
       "191 1962-03-31  [He Knows I Love Him Too MuchThe Paris Sisters...\n",
       "192 1962-04-07  [King Of ClownsNeil Sedaka, Come Back Silly Gi...\n",
       "193 1962-04-14  [Dear OneLarry Finnegan, Good Luck CharmElvis ...\n",
       "194 1962-04-21  [Lovesick BluesFloyd Cramer, Meet Me At The Tw...\n",
       "195 1962-04-28  [(I've Got) BonnieBobby Rydell, Come Back Sill...\n",
       "196 1962-05-05  [I'll Take You HomeThe Corsairs Featuring Jay ...\n",
       "197 1962-05-12  [Shout - Part IJoey Dee & the Starliters, Ginn...\n",
       "198 1962-05-19  [P.T. 109Jimmy Dean, Imagine ThatPatsy Cline, ...\n",
       "199 1962-05-26  [Night TrainJames Brown And The Famous Flames,...\n",
       "\n",
       "[200 rows x 2 columns]"
      ]
     },
     "execution_count": 12,
     "metadata": {},
     "output_type": "execute_result"
    }
   ],
   "source": [
    "weekly_array_groupby.head(200)"
   ]
  },
  {
   "cell_type": "code",
   "execution_count": 13,
   "metadata": {},
   "outputs": [
    {
     "data": {
      "text/plain": [
       "week_id            datetime64[ns]\n",
       "week_song_array            object\n",
       "dtype: object"
      ]
     },
     "execution_count": 13,
     "metadata": {},
     "output_type": "execute_result"
    }
   ],
   "source": [
    "weekly_array_groupby.dtypes"
   ]
  },
  {
   "cell_type": "code",
   "execution_count": 14,
   "metadata": {},
   "outputs": [],
   "source": [
    "weekly_array_groupby['prev_week_song_array'] = weekly_array_groupby['week_song_array'].shift(periods=1)"
   ]
  },
  {
   "cell_type": "code",
   "execution_count": 15,
   "metadata": {},
   "outputs": [
    {
     "data": {
      "text/html": [
       "<div>\n",
       "<style scoped>\n",
       "    .dataframe tbody tr th:only-of-type {\n",
       "        vertical-align: middle;\n",
       "    }\n",
       "\n",
       "    .dataframe tbody tr th {\n",
       "        vertical-align: top;\n",
       "    }\n",
       "\n",
       "    .dataframe thead th {\n",
       "        text-align: right;\n",
       "    }\n",
       "</style>\n",
       "<table border=\"1\" class=\"dataframe\">\n",
       "  <thead>\n",
       "    <tr style=\"text-align: right;\">\n",
       "      <th></th>\n",
       "      <th>week_id</th>\n",
       "      <th>week_song_array</th>\n",
       "      <th>prev_week_song_array</th>\n",
       "    </tr>\n",
       "  </thead>\n",
       "  <tbody>\n",
       "    <tr>\n",
       "      <th>0</th>\n",
       "      <td>1958-08-02</td>\n",
       "      <td>[Poor Little FoolRicky Nelson, PatriciaPerez P...</td>\n",
       "      <td>NaN</td>\n",
       "    </tr>\n",
       "    <tr>\n",
       "      <th>1</th>\n",
       "      <td>1958-08-09</td>\n",
       "      <td>[Susie Darlin'Robin Luke, Devoted To YouThe Ev...</td>\n",
       "      <td>[Poor Little FoolRicky Nelson, PatriciaPerez P...</td>\n",
       "    </tr>\n",
       "    <tr>\n",
       "      <th>2</th>\n",
       "      <td>1958-08-16</td>\n",
       "      <td>[How The Time FliesJerry Wallace, Down In Virg...</td>\n",
       "      <td>[Susie Darlin'Robin Luke, Devoted To YouThe Ev...</td>\n",
       "    </tr>\n",
       "    <tr>\n",
       "      <th>3</th>\n",
       "      <td>1958-08-23</td>\n",
       "      <td>[Down The Aisle Of LoveThe Quin-Tones, Near Yo...</td>\n",
       "      <td>[How The Time FliesJerry Wallace, Down In Virg...</td>\n",
       "    </tr>\n",
       "    <tr>\n",
       "      <th>4</th>\n",
       "      <td>1958-08-30</td>\n",
       "      <td>[Nel Blu Dipinto Di Blu (Volaré)Domenico Modug...</td>\n",
       "      <td>[Down The Aisle Of LoveThe Quin-Tones, Near Yo...</td>\n",
       "    </tr>\n",
       "    <tr>\n",
       "      <th>5</th>\n",
       "      <td>1958-09-06</td>\n",
       "      <td>[La PalomaBilly Vaughn And His Orchestra, No O...</td>\n",
       "      <td>[Nel Blu Dipinto Di Blu (Volaré)Domenico Modug...</td>\n",
       "    </tr>\n",
       "    <tr>\n",
       "      <th>6</th>\n",
       "      <td>1958-09-13</td>\n",
       "      <td>[Ten Commandments Of LoveHarvey &amp; The Moonglow...</td>\n",
       "      <td>[La PalomaBilly Vaughn And His Orchestra, No O...</td>\n",
       "    </tr>\n",
       "    <tr>\n",
       "      <th>7</th>\n",
       "      <td>1958-09-20</td>\n",
       "      <td>[Born Too LatePoni-Tails, Summertime BluesEddi...</td>\n",
       "      <td>[Ten Commandments Of LoveHarvey &amp; The Moonglow...</td>\n",
       "    </tr>\n",
       "    <tr>\n",
       "      <th>8</th>\n",
       "      <td>1958-09-27</td>\n",
       "      <td>[Devoted To YouThe Everly Brothers, No One But...</td>\n",
       "      <td>[Born Too LatePoni-Tails, Summertime BluesEddi...</td>\n",
       "    </tr>\n",
       "    <tr>\n",
       "      <th>9</th>\n",
       "      <td>1958-10-04</td>\n",
       "      <td>[Leave Me Alone (Let Me Cry)Dicky Doo And The ...</td>\n",
       "      <td>[Devoted To YouThe Everly Brothers, No One But...</td>\n",
       "    </tr>\n",
       "    <tr>\n",
       "      <th>10</th>\n",
       "      <td>1958-10-11</td>\n",
       "      <td>[La-Do-DadaDale Hawkins, Somebody Touched MeBu...</td>\n",
       "      <td>[Leave Me Alone (Let Me Cry)Dicky Doo And The ...</td>\n",
       "    </tr>\n",
       "    <tr>\n",
       "      <th>11</th>\n",
       "      <td>1958-10-18</td>\n",
       "      <td>[Tea For Two Cha ChaThe Tommy Dorsey Orchestra...</td>\n",
       "      <td>[La-Do-DadaDale Hawkins, Somebody Touched MeBu...</td>\n",
       "    </tr>\n",
       "    <tr>\n",
       "      <th>12</th>\n",
       "      <td>1958-10-25</td>\n",
       "      <td>[No One KnowsDion &amp; The Belmonts, Jealous Hear...</td>\n",
       "      <td>[Tea For Two Cha ChaThe Tommy Dorsey Orchestra...</td>\n",
       "    </tr>\n",
       "    <tr>\n",
       "      <th>13</th>\n",
       "      <td>1958-11-01</td>\n",
       "      <td>[For My Good FortunePat Boone, Beep BeepThe Pl...</td>\n",
       "      <td>[No One KnowsDion &amp; The Belmonts, Jealous Hear...</td>\n",
       "    </tr>\n",
       "    <tr>\n",
       "      <th>14</th>\n",
       "      <td>1958-11-08</td>\n",
       "      <td>[FireflyTony Bennett, Dreamy EyesJohnny Tillot...</td>\n",
       "      <td>[For My Good FortunePat Boone, Beep BeepThe Pl...</td>\n",
       "    </tr>\n",
       "    <tr>\n",
       "      <th>15</th>\n",
       "      <td>1958-11-15</td>\n",
       "      <td>[Pussy CatThe Ames Brothers, Pledging My LoveR...</td>\n",
       "      <td>[FireflyTony Bennett, Dreamy EyesJohnny Tillot...</td>\n",
       "    </tr>\n",
       "    <tr>\n",
       "      <th>16</th>\n",
       "      <td>1958-11-22</td>\n",
       "      <td>[Queen Of The HopBobby Darin, HideawayThe Four...</td>\n",
       "      <td>[Pussy CatThe Ames Brothers, Pledging My LoveR...</td>\n",
       "    </tr>\n",
       "    <tr>\n",
       "      <th>17</th>\n",
       "      <td>1958-11-29</td>\n",
       "      <td>[DonnaRitchie Valens, Look Who's BlueDon Gibso...</td>\n",
       "      <td>[Queen Of The HopBobby Darin, HideawayThe Four...</td>\n",
       "    </tr>\n",
       "    <tr>\n",
       "      <th>18</th>\n",
       "      <td>1958-12-06</td>\n",
       "      <td>[Don't You Know YockomoHuey \"piano\" Smith With...</td>\n",
       "      <td>[DonnaRitchie Valens, Look Who's BlueDon Gibso...</td>\n",
       "    </tr>\n",
       "    <tr>\n",
       "      <th>19</th>\n",
       "      <td>1958-12-13</td>\n",
       "      <td>[DonnaRitchie Valens, Non Dimenticar (Don't Fo...</td>\n",
       "      <td>[Don't You Know YockomoHuey \"piano\" Smith With...</td>\n",
       "    </tr>\n",
       "    <tr>\n",
       "      <th>20</th>\n",
       "      <td>1958-12-20</td>\n",
       "      <td>[DonnaRitchie Valens, (All of a Sudden) My Hea...</td>\n",
       "      <td>[DonnaRitchie Valens, Non Dimenticar (Don't Fo...</td>\n",
       "    </tr>\n",
       "    <tr>\n",
       "      <th>21</th>\n",
       "      <td>1958-12-27</td>\n",
       "      <td>[DonnaRitchie Valens, BimbombeyJimmie Rodgers,...</td>\n",
       "      <td>[DonnaRitchie Valens, (All of a Sudden) My Hea...</td>\n",
       "    </tr>\n",
       "    <tr>\n",
       "      <th>22</th>\n",
       "      <td>1959-01-03</td>\n",
       "      <td>[Don't You Know YockomoHuey \"piano\" Smith With...</td>\n",
       "      <td>[DonnaRitchie Valens, BimbombeyJimmie Rodgers,...</td>\n",
       "    </tr>\n",
       "    <tr>\n",
       "      <th>23</th>\n",
       "      <td>1959-01-10</td>\n",
       "      <td>[Don't You Know YockomoHuey \"piano\" Smith With...</td>\n",
       "      <td>[Don't You Know YockomoHuey \"piano\" Smith With...</td>\n",
       "    </tr>\n",
       "    <tr>\n",
       "      <th>24</th>\n",
       "      <td>1959-01-17</td>\n",
       "      <td>[Don't You Know YockomoHuey \"piano\" Smith With...</td>\n",
       "      <td>[Don't You Know YockomoHuey \"piano\" Smith With...</td>\n",
       "    </tr>\n",
       "    <tr>\n",
       "      <th>25</th>\n",
       "      <td>1959-01-24</td>\n",
       "      <td>[Don't You Know YockomoHuey \"piano\" Smith With...</td>\n",
       "      <td>[Don't You Know YockomoHuey \"piano\" Smith With...</td>\n",
       "    </tr>\n",
       "    <tr>\n",
       "      <th>26</th>\n",
       "      <td>1959-01-31</td>\n",
       "      <td>[Don't You Know YockomoHuey \"piano\" Smith With...</td>\n",
       "      <td>[Don't You Know YockomoHuey \"piano\" Smith With...</td>\n",
       "    </tr>\n",
       "    <tr>\n",
       "      <th>27</th>\n",
       "      <td>1959-02-07</td>\n",
       "      <td>[La BambaRitchie Valens, DonnaRitchie Valens, ...</td>\n",
       "      <td>[Don't You Know YockomoHuey \"piano\" Smith With...</td>\n",
       "    </tr>\n",
       "    <tr>\n",
       "      <th>28</th>\n",
       "      <td>1959-02-14</td>\n",
       "      <td>[NolaThe Morgan Brothers, DonnaRitchie Valens,...</td>\n",
       "      <td>[La BambaRitchie Valens, DonnaRitchie Valens, ...</td>\n",
       "    </tr>\n",
       "    <tr>\n",
       "      <th>29</th>\n",
       "      <td>1959-02-21</td>\n",
       "      <td>[Miss YouJaye P. Morgan, Peter GunnRay Anthony...</td>\n",
       "      <td>[NolaThe Morgan Brothers, DonnaRitchie Valens,...</td>\n",
       "    </tr>\n",
       "    <tr>\n",
       "      <th>...</th>\n",
       "      <td>...</td>\n",
       "      <td>...</td>\n",
       "      <td>...</td>\n",
       "    </tr>\n",
       "    <tr>\n",
       "      <th>170</th>\n",
       "      <td>1961-11-04</td>\n",
       "      <td>[On Bended KneesClarence Henry, For Me And My ...</td>\n",
       "      <td>[Sweets For My SweetThe Drifters, Fool #1Brend...</td>\n",
       "    </tr>\n",
       "    <tr>\n",
       "      <th>171</th>\n",
       "      <td>1961-11-11</td>\n",
       "      <td>[I Cried My Last TearErnie K-Doe, My Heart Bel...</td>\n",
       "      <td>[On Bended KneesClarence Henry, For Me And My ...</td>\n",
       "    </tr>\n",
       "    <tr>\n",
       "      <th>172</th>\n",
       "      <td>1961-11-18</td>\n",
       "      <td>[Sweets For My SweetThe Drifters, Funny How Ti...</td>\n",
       "      <td>[I Cried My Last TearErnie K-Doe, My Heart Bel...</td>\n",
       "    </tr>\n",
       "    <tr>\n",
       "      <th>173</th>\n",
       "      <td>1961-11-25</td>\n",
       "      <td>[If You Gotta Make A Fool Of SomebodyJames Ray...</td>\n",
       "      <td>[Sweets For My SweetThe Drifters, Funny How Ti...</td>\n",
       "    </tr>\n",
       "    <tr>\n",
       "      <th>174</th>\n",
       "      <td>1961-12-02</td>\n",
       "      <td>[Let's Go Trippin'Dick Dale and The Del-Tones,...</td>\n",
       "      <td>[If You Gotta Make A Fool Of SomebodyJames Ray...</td>\n",
       "    </tr>\n",
       "    <tr>\n",
       "      <th>175</th>\n",
       "      <td>1961-12-09</td>\n",
       "      <td>[A Wonder Like YouRick Nelson, CrazyPatsy Clin...</td>\n",
       "      <td>[Let's Go Trippin'Dick Dale and The Del-Tones,...</td>\n",
       "    </tr>\n",
       "    <tr>\n",
       "      <th>176</th>\n",
       "      <td>1961-12-16</td>\n",
       "      <td>[Irresistible YouBobby Darin, Let's Go Trippin...</td>\n",
       "      <td>[A Wonder Like YouRick Nelson, CrazyPatsy Clin...</td>\n",
       "    </tr>\n",
       "    <tr>\n",
       "      <th>177</th>\n",
       "      <td>1961-12-23</td>\n",
       "      <td>[Funny How Time Slips AwayJimmy Elledge, I Cou...</td>\n",
       "      <td>[Irresistible YouBobby Darin, Let's Go Trippin...</td>\n",
       "    </tr>\n",
       "    <tr>\n",
       "      <th>178</th>\n",
       "      <td>1961-12-30</td>\n",
       "      <td>[If You Gotta Make A Fool Of SomebodyJames Ray...</td>\n",
       "      <td>[Funny How Time Slips AwayJimmy Elledge, I Cou...</td>\n",
       "    </tr>\n",
       "    <tr>\n",
       "      <th>179</th>\n",
       "      <td>1962-01-06</td>\n",
       "      <td>[Lost SomeoneJames Brown And The Famous Flames...</td>\n",
       "      <td>[If You Gotta Make A Fool Of SomebodyJames Ray...</td>\n",
       "    </tr>\n",
       "    <tr>\n",
       "      <th>180</th>\n",
       "      <td>1962-01-13</td>\n",
       "      <td>[Johnny WillPat Boone, Break It To Me GentlyBr...</td>\n",
       "      <td>[Lost SomeoneJames Brown And The Famous Flames...</td>\n",
       "    </tr>\n",
       "    <tr>\n",
       "      <th>181</th>\n",
       "      <td>1962-01-20</td>\n",
       "      <td>[Letter Full Of TearsGladys Knight And The Pip...</td>\n",
       "      <td>[Johnny WillPat Boone, Break It To Me GentlyBr...</td>\n",
       "    </tr>\n",
       "    <tr>\n",
       "      <th>182</th>\n",
       "      <td>1962-01-27</td>\n",
       "      <td>[JamieEddie Holland, Dear Lady TwistGary U.S. ...</td>\n",
       "      <td>[Letter Full Of TearsGladys Knight And The Pip...</td>\n",
       "    </tr>\n",
       "    <tr>\n",
       "      <th>183</th>\n",
       "      <td>1962-02-03</td>\n",
       "      <td>[A Little Bitty TearBurl Ives, Poor FoolIke &amp; ...</td>\n",
       "      <td>[JamieEddie Holland, Dear Lady TwistGary U.S. ...</td>\n",
       "    </tr>\n",
       "    <tr>\n",
       "      <th>184</th>\n",
       "      <td>1962-02-10</td>\n",
       "      <td>[MidnightJohnny Gibson, Let's GoFloyd Cramer, ...</td>\n",
       "      <td>[A Little Bitty TearBurl Ives, Poor FoolIke &amp; ...</td>\n",
       "    </tr>\n",
       "    <tr>\n",
       "      <th>185</th>\n",
       "      <td>1962-02-17</td>\n",
       "      <td>[MultiplicationBobby Darin, Lost SomeoneJames ...</td>\n",
       "      <td>[MidnightJohnny Gibson, Let's GoFloyd Cramer, ...</td>\n",
       "    </tr>\n",
       "    <tr>\n",
       "      <th>186</th>\n",
       "      <td>1962-02-24</td>\n",
       "      <td>[It's MagicThe Platters, I Surrender, DearAret...</td>\n",
       "      <td>[MultiplicationBobby Darin, Lost SomeoneJames ...</td>\n",
       "    </tr>\n",
       "    <tr>\n",
       "      <th>187</th>\n",
       "      <td>1962-03-03</td>\n",
       "      <td>[Percolator (Twist)Billy Joe &amp; The Checkmates,...</td>\n",
       "      <td>[It's MagicThe Platters, I Surrender, DearAret...</td>\n",
       "    </tr>\n",
       "    <tr>\n",
       "      <th>188</th>\n",
       "      <td>1962-03-10</td>\n",
       "      <td>[Lollipops And RosesJack Jones, Ida JaneFats D...</td>\n",
       "      <td>[Percolator (Twist)Billy Joe &amp; The Checkmates,...</td>\n",
       "    </tr>\n",
       "    <tr>\n",
       "      <th>189</th>\n",
       "      <td>1962-03-17</td>\n",
       "      <td>[I'm Blue (The Gong-Gong Song)The Ikettes, She...</td>\n",
       "      <td>[Lollipops And RosesJack Jones, Ida JaneFats D...</td>\n",
       "    </tr>\n",
       "    <tr>\n",
       "      <th>190</th>\n",
       "      <td>1962-03-24</td>\n",
       "      <td>[Memories Of MariaJerry Byrd, JamieEddie Holla...</td>\n",
       "      <td>[I'm Blue (The Gong-Gong Song)The Ikettes, She...</td>\n",
       "    </tr>\n",
       "    <tr>\n",
       "      <th>191</th>\n",
       "      <td>1962-03-31</td>\n",
       "      <td>[He Knows I Love Him Too MuchThe Paris Sisters...</td>\n",
       "      <td>[Memories Of MariaJerry Byrd, JamieEddie Holla...</td>\n",
       "    </tr>\n",
       "    <tr>\n",
       "      <th>192</th>\n",
       "      <td>1962-04-07</td>\n",
       "      <td>[King Of ClownsNeil Sedaka, Come Back Silly Gi...</td>\n",
       "      <td>[He Knows I Love Him Too MuchThe Paris Sisters...</td>\n",
       "    </tr>\n",
       "    <tr>\n",
       "      <th>193</th>\n",
       "      <td>1962-04-14</td>\n",
       "      <td>[Dear OneLarry Finnegan, Good Luck CharmElvis ...</td>\n",
       "      <td>[King Of ClownsNeil Sedaka, Come Back Silly Gi...</td>\n",
       "    </tr>\n",
       "    <tr>\n",
       "      <th>194</th>\n",
       "      <td>1962-04-21</td>\n",
       "      <td>[Lovesick BluesFloyd Cramer, Meet Me At The Tw...</td>\n",
       "      <td>[Dear OneLarry Finnegan, Good Luck CharmElvis ...</td>\n",
       "    </tr>\n",
       "    <tr>\n",
       "      <th>195</th>\n",
       "      <td>1962-04-28</td>\n",
       "      <td>[(I've Got) BonnieBobby Rydell, Come Back Sill...</td>\n",
       "      <td>[Lovesick BluesFloyd Cramer, Meet Me At The Tw...</td>\n",
       "    </tr>\n",
       "    <tr>\n",
       "      <th>196</th>\n",
       "      <td>1962-05-05</td>\n",
       "      <td>[I'll Take You HomeThe Corsairs Featuring Jay ...</td>\n",
       "      <td>[(I've Got) BonnieBobby Rydell, Come Back Sill...</td>\n",
       "    </tr>\n",
       "    <tr>\n",
       "      <th>197</th>\n",
       "      <td>1962-05-12</td>\n",
       "      <td>[Shout - Part IJoey Dee &amp; the Starliters, Ginn...</td>\n",
       "      <td>[I'll Take You HomeThe Corsairs Featuring Jay ...</td>\n",
       "    </tr>\n",
       "    <tr>\n",
       "      <th>198</th>\n",
       "      <td>1962-05-19</td>\n",
       "      <td>[P.T. 109Jimmy Dean, Imagine ThatPatsy Cline, ...</td>\n",
       "      <td>[Shout - Part IJoey Dee &amp; the Starliters, Ginn...</td>\n",
       "    </tr>\n",
       "    <tr>\n",
       "      <th>199</th>\n",
       "      <td>1962-05-26</td>\n",
       "      <td>[Night TrainJames Brown And The Famous Flames,...</td>\n",
       "      <td>[P.T. 109Jimmy Dean, Imagine ThatPatsy Cline, ...</td>\n",
       "    </tr>\n",
       "  </tbody>\n",
       "</table>\n",
       "<p>200 rows × 3 columns</p>\n",
       "</div>"
      ],
      "text/plain": [
       "       week_id                                    week_song_array  \\\n",
       "0   1958-08-02  [Poor Little FoolRicky Nelson, PatriciaPerez P...   \n",
       "1   1958-08-09  [Susie Darlin'Robin Luke, Devoted To YouThe Ev...   \n",
       "2   1958-08-16  [How The Time FliesJerry Wallace, Down In Virg...   \n",
       "3   1958-08-23  [Down The Aisle Of LoveThe Quin-Tones, Near Yo...   \n",
       "4   1958-08-30  [Nel Blu Dipinto Di Blu (Volaré)Domenico Modug...   \n",
       "5   1958-09-06  [La PalomaBilly Vaughn And His Orchestra, No O...   \n",
       "6   1958-09-13  [Ten Commandments Of LoveHarvey & The Moonglow...   \n",
       "7   1958-09-20  [Born Too LatePoni-Tails, Summertime BluesEddi...   \n",
       "8   1958-09-27  [Devoted To YouThe Everly Brothers, No One But...   \n",
       "9   1958-10-04  [Leave Me Alone (Let Me Cry)Dicky Doo And The ...   \n",
       "10  1958-10-11  [La-Do-DadaDale Hawkins, Somebody Touched MeBu...   \n",
       "11  1958-10-18  [Tea For Two Cha ChaThe Tommy Dorsey Orchestra...   \n",
       "12  1958-10-25  [No One KnowsDion & The Belmonts, Jealous Hear...   \n",
       "13  1958-11-01  [For My Good FortunePat Boone, Beep BeepThe Pl...   \n",
       "14  1958-11-08  [FireflyTony Bennett, Dreamy EyesJohnny Tillot...   \n",
       "15  1958-11-15  [Pussy CatThe Ames Brothers, Pledging My LoveR...   \n",
       "16  1958-11-22  [Queen Of The HopBobby Darin, HideawayThe Four...   \n",
       "17  1958-11-29  [DonnaRitchie Valens, Look Who's BlueDon Gibso...   \n",
       "18  1958-12-06  [Don't You Know YockomoHuey \"piano\" Smith With...   \n",
       "19  1958-12-13  [DonnaRitchie Valens, Non Dimenticar (Don't Fo...   \n",
       "20  1958-12-20  [DonnaRitchie Valens, (All of a Sudden) My Hea...   \n",
       "21  1958-12-27  [DonnaRitchie Valens, BimbombeyJimmie Rodgers,...   \n",
       "22  1959-01-03  [Don't You Know YockomoHuey \"piano\" Smith With...   \n",
       "23  1959-01-10  [Don't You Know YockomoHuey \"piano\" Smith With...   \n",
       "24  1959-01-17  [Don't You Know YockomoHuey \"piano\" Smith With...   \n",
       "25  1959-01-24  [Don't You Know YockomoHuey \"piano\" Smith With...   \n",
       "26  1959-01-31  [Don't You Know YockomoHuey \"piano\" Smith With...   \n",
       "27  1959-02-07  [La BambaRitchie Valens, DonnaRitchie Valens, ...   \n",
       "28  1959-02-14  [NolaThe Morgan Brothers, DonnaRitchie Valens,...   \n",
       "29  1959-02-21  [Miss YouJaye P. Morgan, Peter GunnRay Anthony...   \n",
       "..         ...                                                ...   \n",
       "170 1961-11-04  [On Bended KneesClarence Henry, For Me And My ...   \n",
       "171 1961-11-11  [I Cried My Last TearErnie K-Doe, My Heart Bel...   \n",
       "172 1961-11-18  [Sweets For My SweetThe Drifters, Funny How Ti...   \n",
       "173 1961-11-25  [If You Gotta Make A Fool Of SomebodyJames Ray...   \n",
       "174 1961-12-02  [Let's Go Trippin'Dick Dale and The Del-Tones,...   \n",
       "175 1961-12-09  [A Wonder Like YouRick Nelson, CrazyPatsy Clin...   \n",
       "176 1961-12-16  [Irresistible YouBobby Darin, Let's Go Trippin...   \n",
       "177 1961-12-23  [Funny How Time Slips AwayJimmy Elledge, I Cou...   \n",
       "178 1961-12-30  [If You Gotta Make A Fool Of SomebodyJames Ray...   \n",
       "179 1962-01-06  [Lost SomeoneJames Brown And The Famous Flames...   \n",
       "180 1962-01-13  [Johnny WillPat Boone, Break It To Me GentlyBr...   \n",
       "181 1962-01-20  [Letter Full Of TearsGladys Knight And The Pip...   \n",
       "182 1962-01-27  [JamieEddie Holland, Dear Lady TwistGary U.S. ...   \n",
       "183 1962-02-03  [A Little Bitty TearBurl Ives, Poor FoolIke & ...   \n",
       "184 1962-02-10  [MidnightJohnny Gibson, Let's GoFloyd Cramer, ...   \n",
       "185 1962-02-17  [MultiplicationBobby Darin, Lost SomeoneJames ...   \n",
       "186 1962-02-24  [It's MagicThe Platters, I Surrender, DearAret...   \n",
       "187 1962-03-03  [Percolator (Twist)Billy Joe & The Checkmates,...   \n",
       "188 1962-03-10  [Lollipops And RosesJack Jones, Ida JaneFats D...   \n",
       "189 1962-03-17  [I'm Blue (The Gong-Gong Song)The Ikettes, She...   \n",
       "190 1962-03-24  [Memories Of MariaJerry Byrd, JamieEddie Holla...   \n",
       "191 1962-03-31  [He Knows I Love Him Too MuchThe Paris Sisters...   \n",
       "192 1962-04-07  [King Of ClownsNeil Sedaka, Come Back Silly Gi...   \n",
       "193 1962-04-14  [Dear OneLarry Finnegan, Good Luck CharmElvis ...   \n",
       "194 1962-04-21  [Lovesick BluesFloyd Cramer, Meet Me At The Tw...   \n",
       "195 1962-04-28  [(I've Got) BonnieBobby Rydell, Come Back Sill...   \n",
       "196 1962-05-05  [I'll Take You HomeThe Corsairs Featuring Jay ...   \n",
       "197 1962-05-12  [Shout - Part IJoey Dee & the Starliters, Ginn...   \n",
       "198 1962-05-19  [P.T. 109Jimmy Dean, Imagine ThatPatsy Cline, ...   \n",
       "199 1962-05-26  [Night TrainJames Brown And The Famous Flames,...   \n",
       "\n",
       "                                  prev_week_song_array  \n",
       "0                                                  NaN  \n",
       "1    [Poor Little FoolRicky Nelson, PatriciaPerez P...  \n",
       "2    [Susie Darlin'Robin Luke, Devoted To YouThe Ev...  \n",
       "3    [How The Time FliesJerry Wallace, Down In Virg...  \n",
       "4    [Down The Aisle Of LoveThe Quin-Tones, Near Yo...  \n",
       "5    [Nel Blu Dipinto Di Blu (Volaré)Domenico Modug...  \n",
       "6    [La PalomaBilly Vaughn And His Orchestra, No O...  \n",
       "7    [Ten Commandments Of LoveHarvey & The Moonglow...  \n",
       "8    [Born Too LatePoni-Tails, Summertime BluesEddi...  \n",
       "9    [Devoted To YouThe Everly Brothers, No One But...  \n",
       "10   [Leave Me Alone (Let Me Cry)Dicky Doo And The ...  \n",
       "11   [La-Do-DadaDale Hawkins, Somebody Touched MeBu...  \n",
       "12   [Tea For Two Cha ChaThe Tommy Dorsey Orchestra...  \n",
       "13   [No One KnowsDion & The Belmonts, Jealous Hear...  \n",
       "14   [For My Good FortunePat Boone, Beep BeepThe Pl...  \n",
       "15   [FireflyTony Bennett, Dreamy EyesJohnny Tillot...  \n",
       "16   [Pussy CatThe Ames Brothers, Pledging My LoveR...  \n",
       "17   [Queen Of The HopBobby Darin, HideawayThe Four...  \n",
       "18   [DonnaRitchie Valens, Look Who's BlueDon Gibso...  \n",
       "19   [Don't You Know YockomoHuey \"piano\" Smith With...  \n",
       "20   [DonnaRitchie Valens, Non Dimenticar (Don't Fo...  \n",
       "21   [DonnaRitchie Valens, (All of a Sudden) My Hea...  \n",
       "22   [DonnaRitchie Valens, BimbombeyJimmie Rodgers,...  \n",
       "23   [Don't You Know YockomoHuey \"piano\" Smith With...  \n",
       "24   [Don't You Know YockomoHuey \"piano\" Smith With...  \n",
       "25   [Don't You Know YockomoHuey \"piano\" Smith With...  \n",
       "26   [Don't You Know YockomoHuey \"piano\" Smith With...  \n",
       "27   [Don't You Know YockomoHuey \"piano\" Smith With...  \n",
       "28   [La BambaRitchie Valens, DonnaRitchie Valens, ...  \n",
       "29   [NolaThe Morgan Brothers, DonnaRitchie Valens,...  \n",
       "..                                                 ...  \n",
       "170  [Sweets For My SweetThe Drifters, Fool #1Brend...  \n",
       "171  [On Bended KneesClarence Henry, For Me And My ...  \n",
       "172  [I Cried My Last TearErnie K-Doe, My Heart Bel...  \n",
       "173  [Sweets For My SweetThe Drifters, Funny How Ti...  \n",
       "174  [If You Gotta Make A Fool Of SomebodyJames Ray...  \n",
       "175  [Let's Go Trippin'Dick Dale and The Del-Tones,...  \n",
       "176  [A Wonder Like YouRick Nelson, CrazyPatsy Clin...  \n",
       "177  [Irresistible YouBobby Darin, Let's Go Trippin...  \n",
       "178  [Funny How Time Slips AwayJimmy Elledge, I Cou...  \n",
       "179  [If You Gotta Make A Fool Of SomebodyJames Ray...  \n",
       "180  [Lost SomeoneJames Brown And The Famous Flames...  \n",
       "181  [Johnny WillPat Boone, Break It To Me GentlyBr...  \n",
       "182  [Letter Full Of TearsGladys Knight And The Pip...  \n",
       "183  [JamieEddie Holland, Dear Lady TwistGary U.S. ...  \n",
       "184  [A Little Bitty TearBurl Ives, Poor FoolIke & ...  \n",
       "185  [MidnightJohnny Gibson, Let's GoFloyd Cramer, ...  \n",
       "186  [MultiplicationBobby Darin, Lost SomeoneJames ...  \n",
       "187  [It's MagicThe Platters, I Surrender, DearAret...  \n",
       "188  [Percolator (Twist)Billy Joe & The Checkmates,...  \n",
       "189  [Lollipops And RosesJack Jones, Ida JaneFats D...  \n",
       "190  [I'm Blue (The Gong-Gong Song)The Ikettes, She...  \n",
       "191  [Memories Of MariaJerry Byrd, JamieEddie Holla...  \n",
       "192  [He Knows I Love Him Too MuchThe Paris Sisters...  \n",
       "193  [King Of ClownsNeil Sedaka, Come Back Silly Gi...  \n",
       "194  [Dear OneLarry Finnegan, Good Luck CharmElvis ...  \n",
       "195  [Lovesick BluesFloyd Cramer, Meet Me At The Tw...  \n",
       "196  [(I've Got) BonnieBobby Rydell, Come Back Sill...  \n",
       "197  [I'll Take You HomeThe Corsairs Featuring Jay ...  \n",
       "198  [Shout - Part IJoey Dee & the Starliters, Ginn...  \n",
       "199  [P.T. 109Jimmy Dean, Imagine ThatPatsy Cline, ...  \n",
       "\n",
       "[200 rows x 3 columns]"
      ]
     },
     "execution_count": 15,
     "metadata": {},
     "output_type": "execute_result"
    }
   ],
   "source": [
    "weekly_array_groupby.head(200)"
   ]
  },
  {
   "cell_type": "code",
   "execution_count": 16,
   "metadata": {},
   "outputs": [
    {
     "data": {
      "text/plain": [
       "{\"(It's Been A Long Time) Pretty BabyGino & Gina\",\n",
       " 'A Certain SmileJohnny Mathis',\n",
       " 'All I Have To Do Is DreamThe Everly Brothers',\n",
       " 'Angel BabyDean Martin',\n",
       " 'Are You Really MineJimmie Rodgers',\n",
       " 'Baubles, Bangles And BeadsThe Kirby Stone Four',\n",
       " 'Beautiful DelilahChuck Berry',\n",
       " 'Betty Lou Got A New Pair Of ShoesBobby Freeman',\n",
       " 'Big ManThe Four Preps',\n",
       " 'Bird DogThe Everly Brothers',\n",
       " 'Blip BlopBill Doggett',\n",
       " 'Blue Blue DayDon Gibson',\n",
       " 'Blue BoyJim Reeves',\n",
       " 'Born Too LatePoni-Tails',\n",
       " 'By The Light Of The Silvery MoonJimmy Bowen with the Rhythm Orchids',\n",
       " 'Chantilly LaceBig Bopper',\n",
       " 'Come Closer To Me (Acercate Mas)Nat King Cole',\n",
       " 'Come What MayClyde McPhatter',\n",
       " 'Crazy Eyes For YouBobby Hamilton',\n",
       " 'Delicious!Jim Backus & Friend',\n",
       " 'Do You Want To DanceBobby Freeman',\n",
       " \"Don't Ask Me WhyElvis Presley With The Jordanaires\",\n",
       " \"Don't Go HomeThe Playmates\",\n",
       " 'Early In The MorningBuddy Holly',\n",
       " 'Early In The MorningThe Rinky-Dinks',\n",
       " 'Enchanted IslandThe Four Lads',\n",
       " 'Endless SleepJody Reynolds',\n",
       " 'Everybody Loves A LoverDoris Day',\n",
       " 'FeverPeggy Lee',\n",
       " \"Fool's ParadiseThe Crickets\",\n",
       " 'For Your LoveEd Townsend',\n",
       " 'For Your Precious LoveJerry Butler and The Impressions',\n",
       " 'Ginger BreadFrankie Avalon',\n",
       " 'Got A Match?Frank Gallup',\n",
       " \"Got A Match?The Daddy-O's\",\n",
       " 'Gotta Have RainEydie Gorme',\n",
       " 'Guess Things Happen That WayJohnny Cash And The Tennessee Two',\n",
       " 'Happy YearsThe Diamonds',\n",
       " 'Hard Headed WomanElvis Presley With The Jordanaires',\n",
       " 'Hey Girl - Hey BoyOscar McLollie and Jeanette Baker',\n",
       " 'High School ConfidentialJerry Lee Lewis And His Pumping Piano',\n",
       " 'I Believe In YouRobert & Johnny',\n",
       " 'I Wonder WhyDion & The Belmonts',\n",
       " \"I'll Get By (As Long As I Have You)Billy Williams\",\n",
       " 'If Dreams Came TruePat Boone',\n",
       " 'Itchy Twitchy FeelingBobby Hendricks',\n",
       " 'JealousyKitty Wells',\n",
       " 'Jennie LeeJan & Arnie',\n",
       " 'Johnny B. GoodeChuck Berry',\n",
       " 'JudyFrankie Vaughan',\n",
       " 'Just A DreamJimmy Clanton And His Rockets',\n",
       " 'Just Like In The MoviesThe Upbeats',\n",
       " 'Kathy-OThe Diamonds',\n",
       " 'Left Right Out Of Your Heart (Hi Lee Hi Lo Hi Lup Up Up)Patti Page',\n",
       " 'LeroyJack Scott',\n",
       " \"Let's Go Steady For The SummerThe Three G's\",\n",
       " 'Little MaryFats Domino',\n",
       " 'Little SerenadeThe Ames Brothers',\n",
       " 'Little StarThe Elegants',\n",
       " 'MidnightPaul Anka',\n",
       " 'Moon TalkPerry Como',\n",
       " 'My True LoveJack Scott',\n",
       " 'Nel Blu Dipinto Di Blu (Volaré)Domenico Modugno',\n",
       " 'No Chemise, PleaseGerry Granahan',\n",
       " 'One Summer NightThe Danleers',\n",
       " 'OpThe Honeycones',\n",
       " 'Over And OverBobby Day',\n",
       " 'Over And OverThurston Harris',\n",
       " 'PadreToni Arden',\n",
       " 'PatriciaPerez Prado And His Orchestra',\n",
       " 'Poor Little FoolRicky Nelson',\n",
       " \"Rebel-'rouserDuane Eddy His Twangy Guitar And The Rebels\",\n",
       " 'Return To MeDean Martin',\n",
       " 'Rock-in RobinBobby Day',\n",
       " 'SecretlyJimmie Rodgers',\n",
       " 'She Was Only Seventeen (He Was One Year More)Marty Robbins',\n",
       " 'Somebody Touched MeBuddy Knox with the Rhythm Orchids',\n",
       " 'Splish SplashBobby Darin',\n",
       " 'StayThe Ames Brothers',\n",
       " 'Stupid CupidConnie Francis',\n",
       " 'Summertime BluesEddie Cochran',\n",
       " \"That's How Much I Love YouPat Boone\",\n",
       " 'The Bird On My HeadDavid Seville',\n",
       " 'The FreezeTony And Joe',\n",
       " 'The Purple People Eater Meets The Witch DoctorJoe South',\n",
       " 'The Purple People EaterSheb Wooley',\n",
       " 'Think It OverThe Crickets',\n",
       " 'To Be LovedJackie Wilson',\n",
       " 'Try The ImpossibleLee Andrews And The Hearts',\n",
       " 'Volare (Nel Blu Dipinto Di Blu)Dean Martin',\n",
       " 'Western MoviesThe Olympics',\n",
       " 'What Am I Living ForChuck Willis',\n",
       " 'WhenKalin Twins',\n",
       " 'Willie And The Hand JiveThe Johnny Otis Show',\n",
       " 'Win Your Love For MeSam Cooke',\n",
       " 'Yakety YakThe Coasters',\n",
       " 'You CheatedThe Slades',\n",
       " 'You Need HandsEydie Gorme',\n",
       " \"You're Making A MistakeThe Platters\",\n",
       " 'Young And Warm And WonderfulTony Bennett'}"
      ]
     },
     "execution_count": 16,
     "metadata": {},
     "output_type": "execute_result"
    }
   ],
   "source": [
    "set(weekly_array_groupby.loc[0,\"week_song_array\"])"
   ]
  },
  {
   "cell_type": "code",
   "execution_count": 17,
   "metadata": {},
   "outputs": [],
   "source": [
    "# trying modified function\n",
    "\n",
    "def similarity_func_two(df):\n",
    "    try:\n",
    "        left = set(df.week_song_array)\n",
    "        right= set(df.prev_week_song_array)\n",
    "    \n",
    "        return len(left & right)/len(left | right)\n",
    "                \n",
    "    except:\n",
    "        return 1"
   ]
  },
  {
   "cell_type": "code",
   "execution_count": 18,
   "metadata": {},
   "outputs": [],
   "source": [
    "new_df = weekly_array_groupby.apply(similarity_func_two, axis=1).to_frame()"
   ]
  },
  {
   "cell_type": "code",
   "execution_count": 19,
   "metadata": {},
   "outputs": [
    {
     "data": {
      "text/html": [
       "<div>\n",
       "<style scoped>\n",
       "    .dataframe tbody tr th:only-of-type {\n",
       "        vertical-align: middle;\n",
       "    }\n",
       "\n",
       "    .dataframe tbody tr th {\n",
       "        vertical-align: top;\n",
       "    }\n",
       "\n",
       "    .dataframe thead th {\n",
       "        text-align: right;\n",
       "    }\n",
       "</style>\n",
       "<table border=\"1\" class=\"dataframe\">\n",
       "  <thead>\n",
       "    <tr style=\"text-align: right;\">\n",
       "      <th></th>\n",
       "      <th>0</th>\n",
       "    </tr>\n",
       "  </thead>\n",
       "  <tbody>\n",
       "    <tr>\n",
       "      <th>0</th>\n",
       "      <td>1.000000</td>\n",
       "    </tr>\n",
       "    <tr>\n",
       "      <th>1</th>\n",
       "      <td>0.666667</td>\n",
       "    </tr>\n",
       "    <tr>\n",
       "      <th>2</th>\n",
       "      <td>0.639344</td>\n",
       "    </tr>\n",
       "    <tr>\n",
       "      <th>3</th>\n",
       "      <td>0.724138</td>\n",
       "    </tr>\n",
       "    <tr>\n",
       "      <th>4</th>\n",
       "      <td>0.769912</td>\n",
       "    </tr>\n",
       "  </tbody>\n",
       "</table>\n",
       "</div>"
      ],
      "text/plain": [
       "          0\n",
       "0  1.000000\n",
       "1  0.666667\n",
       "2  0.639344\n",
       "3  0.724138\n",
       "4  0.769912"
      ]
     },
     "execution_count": 19,
     "metadata": {},
     "output_type": "execute_result"
    }
   ],
   "source": [
    "new_df.head()"
   ]
  },
  {
   "cell_type": "code",
   "execution_count": 20,
   "metadata": {},
   "outputs": [
    {
     "data": {
      "text/html": [
       "<div>\n",
       "<style scoped>\n",
       "    .dataframe tbody tr th:only-of-type {\n",
       "        vertical-align: middle;\n",
       "    }\n",
       "\n",
       "    .dataframe tbody tr th {\n",
       "        vertical-align: top;\n",
       "    }\n",
       "\n",
       "    .dataframe thead th {\n",
       "        text-align: right;\n",
       "    }\n",
       "</style>\n",
       "<table border=\"1\" class=\"dataframe\">\n",
       "  <thead>\n",
       "    <tr style=\"text-align: right;\">\n",
       "      <th></th>\n",
       "      <th>0</th>\n",
       "    </tr>\n",
       "  </thead>\n",
       "  <tbody>\n",
       "    <tr>\n",
       "      <th>count</th>\n",
       "      <td>3178.000000</td>\n",
       "    </tr>\n",
       "    <tr>\n",
       "      <th>mean</th>\n",
       "      <td>0.827942</td>\n",
       "    </tr>\n",
       "    <tr>\n",
       "      <th>std</th>\n",
       "      <td>0.062565</td>\n",
       "    </tr>\n",
       "    <tr>\n",
       "      <th>min</th>\n",
       "      <td>0.242236</td>\n",
       "    </tr>\n",
       "    <tr>\n",
       "      <th>25%</th>\n",
       "      <td>0.785714</td>\n",
       "    </tr>\n",
       "    <tr>\n",
       "      <th>50%</th>\n",
       "      <td>0.834862</td>\n",
       "    </tr>\n",
       "    <tr>\n",
       "      <th>75%</th>\n",
       "      <td>0.869159</td>\n",
       "    </tr>\n",
       "    <tr>\n",
       "      <th>max</th>\n",
       "      <td>1.000000</td>\n",
       "    </tr>\n",
       "  </tbody>\n",
       "</table>\n",
       "</div>"
      ],
      "text/plain": [
       "                 0\n",
       "count  3178.000000\n",
       "mean      0.827942\n",
       "std       0.062565\n",
       "min       0.242236\n",
       "25%       0.785714\n",
       "50%       0.834862\n",
       "75%       0.869159\n",
       "max       1.000000"
      ]
     },
     "execution_count": 20,
     "metadata": {},
     "output_type": "execute_result"
    }
   ],
   "source": [
    "new_df.describe()"
   ]
  },
  {
   "cell_type": "code",
   "execution_count": 36,
   "metadata": {},
   "outputs": [
    {
     "data": {
      "text/plain": [
       "([], <a list of 0 Text yticklabel objects>)"
      ]
     },
     "execution_count": 36,
     "metadata": {},
     "output_type": "execute_result"
    },
    {
     "data": {
      "image/png": "[encoded data removed]",
      "text/plain": [
       "<Figure size 432x288 with 1 Axes>"
      ]
     },
     "metadata": {},
     "output_type": "display_data"
    }
   ],
   "source": [
    "weekly_array_groupby.apply(similarity_func_two, axis=1).plot()\n",
    "\n",
    "plt.xlim(0,3000)\n",
    "plt.ylim(0,1)\n",
    "plt.xticks(range(0), ''.split())\n",
    "plt.yticks(range(0), ''.split())"
   ]
  },
  {
   "cell_type": "code",
   "execution_count": 37,
   "metadata": {},
   "outputs": [],
   "source": [
    "new_df = new_df.rename(columns={\"0\": \"similarity_score\"})"
   ]
  },
  {
   "cell_type": "code",
   "execution_count": 38,
   "metadata": {},
   "outputs": [],
   "source": [
    "new_df.columns = [\"sim_score\"]"
   ]
  },
  {
   "cell_type": "code",
   "execution_count": 39,
   "metadata": {},
   "outputs": [
    {
     "data": {
      "text/html": [
       "<div>\n",
       "<style scoped>\n",
       "    .dataframe tbody tr th:only-of-type {\n",
       "        vertical-align: middle;\n",
       "    }\n",
       "\n",
       "    .dataframe tbody tr th {\n",
       "        vertical-align: top;\n",
       "    }\n",
       "\n",
       "    .dataframe thead th {\n",
       "        text-align: right;\n",
       "    }\n",
       "</style>\n",
       "<table border=\"1\" class=\"dataframe\">\n",
       "  <thead>\n",
       "    <tr style=\"text-align: right;\">\n",
       "      <th></th>\n",
       "      <th>sim_score</th>\n",
       "    </tr>\n",
       "  </thead>\n",
       "  <tbody>\n",
       "    <tr>\n",
       "      <th>0</th>\n",
       "      <td>1.000000</td>\n",
       "    </tr>\n",
       "    <tr>\n",
       "      <th>1</th>\n",
       "      <td>0.666667</td>\n",
       "    </tr>\n",
       "    <tr>\n",
       "      <th>2</th>\n",
       "      <td>0.639344</td>\n",
       "    </tr>\n",
       "    <tr>\n",
       "      <th>3</th>\n",
       "      <td>0.724138</td>\n",
       "    </tr>\n",
       "    <tr>\n",
       "      <th>4</th>\n",
       "      <td>0.769912</td>\n",
       "    </tr>\n",
       "  </tbody>\n",
       "</table>\n",
       "</div>"
      ],
      "text/plain": [
       "   sim_score\n",
       "0   1.000000\n",
       "1   0.666667\n",
       "2   0.639344\n",
       "3   0.724138\n",
       "4   0.769912"
      ]
     },
     "execution_count": 39,
     "metadata": {},
     "output_type": "execute_result"
    }
   ],
   "source": [
    "new_df.head()"
   ]
  },
  {
   "cell_type": "code",
   "execution_count": 40,
   "metadata": {},
   "outputs": [
    {
     "data": {
      "text/plain": [
       "sim_score    0.242236\n",
       "Name: 2105, dtype: float64"
      ]
     },
     "execution_count": 40,
     "metadata": {},
     "output_type": "execute_result"
    }
   ],
   "source": [
    "new_df.loc[new_df['sim_score'].idxmin()]"
   ]
  },
  {
   "cell_type": "code",
   "execution_count": 41,
   "metadata": {},
   "outputs": [
    {
     "data": {
      "text/plain": [
       "sim_score    1.0\n",
       "Name: 0, dtype: float64"
      ]
     },
     "execution_count": 41,
     "metadata": {},
     "output_type": "execute_result"
    }
   ],
   "source": [
    "new_df.loc[new_df['sim_score'].idxmax()]"
   ]
  },
  {
   "cell_type": "code",
   "execution_count": 42,
   "metadata": {},
   "outputs": [
    {
     "data": {
      "text/plain": [
       "pandas.core.frame.DataFrame"
      ]
     },
     "execution_count": 42,
     "metadata": {},
     "output_type": "execute_result"
    }
   ],
   "source": [
    "type(new_df)"
   ]
  },
  {
   "cell_type": "code",
   "execution_count": 43,
   "metadata": {},
   "outputs": [
    {
     "data": {
      "text/plain": [
       "sim_score    float64\n",
       "dtype: object"
      ]
     },
     "execution_count": 43,
     "metadata": {},
     "output_type": "execute_result"
    }
   ],
   "source": [
    "new_df.dtypes"
   ]
  },
  {
   "cell_type": "code",
   "execution_count": 44,
   "metadata": {},
   "outputs": [
    {
     "data": {
      "text/plain": [
       "Index(['sim_score'], dtype='object')"
      ]
     },
     "execution_count": 44,
     "metadata": {},
     "output_type": "execute_result"
    }
   ],
   "source": [
    "new_df.columns"
   ]
  },
  {
   "cell_type": "code",
   "execution_count": 45,
   "metadata": {
    "scrolled": true
   },
   "outputs": [
    {
     "data": {
      "text/plain": [
       "{\"(God Must Have Spent) A Little More Time On You'N Sync\",\n",
       " '...Baby One More TimeBritney Spears',\n",
       " 'A Little Past Little RockLee Ann Womack',\n",
       " 'Absence Of The HeartDeana Carter',\n",
       " 'All The Places (I Will Kiss You)Aaron Hall',\n",
       " 'Angel In DisguiseBrandy',\n",
       " 'Angel Of MineMonica',\n",
       " 'AngelSarah McLachlan',\n",
       " 'Are You That Somebody?Aaliyah',\n",
       " 'Because Of You98 Degrees',\n",
       " 'Can I Get A...Jay-Z Featuring Amil (Of Major Coinz) & Ja',\n",
       " \"Can't Get EnoughWillie Max Featuring Raphael Saadiq\",\n",
       " 'Celebrity SkinHole',\n",
       " 'Changes2Pac',\n",
       " 'Come And Get With MeKeith Sweat Featuring Snoop Dogg',\n",
       " 'CrushJennifer Paige',\n",
       " \"Don't Laugh At MeMark Wills\",\n",
       " 'Doo Wop (That Thing)Lauryn Hill',\n",
       " \"Everything's ChangedLonestar\",\n",
       " 'Father Of MineEverclear',\n",
       " 'Fire EscapeFastball',\n",
       " 'Fly AwayLenny Kravitz',\n",
       " 'For A Little WhileTim McGraw',\n",
       " 'For You I WillAaron Tippin',\n",
       " 'From This Moment OnShania Twain',\n",
       " 'Ghetto CowboyMo Thugs Family Featuring Bone Thugs-N-Harmony',\n",
       " 'HandsJewel',\n",
       " 'Hard Knock Life (Ghetto Anthem)JAY-Z',\n",
       " 'Have You Ever?Brandy',\n",
       " 'Here We ComeTimbaland Featuring Missy \"Misdemeanor\" Elliott & Magoo',\n",
       " 'Hold MeBrian McKnight Featuring Tone & Kobe Bryant',\n",
       " 'Hold On To MeJohn Michael Montgomery',\n",
       " 'Home AloneR. Kelly Featuring Keith Murray',\n",
       " 'HoochEverything',\n",
       " 'How Deep Is Your LoveDru Hill Featuring Redman',\n",
       " 'How Do You Fall In LoveAlabama',\n",
       " 'How Do You Sleep At NightWade Hayes',\n",
       " 'Husbands And WivesBrooks & Dunn',\n",
       " \"I Don't Want To Miss A ThingAerosmith\",\n",
       " 'I Still Love YouNext',\n",
       " \"I'll BeEdwin McCain\",\n",
       " \"I'll Never Break Your HeartBackstreet Boys\",\n",
       " \"I'm Your AngelR. Kelly & Celine Dion\",\n",
       " 'If I Lost YouTravis Tritt',\n",
       " 'Inside OutEve 6',\n",
       " 'IrisGoo Goo Dolls',\n",
       " 'It Must Be LoveTy Herndon',\n",
       " \"It's The Things You DoFive\",\n",
       " \"It's Your SongGarth Brooks\",\n",
       " \"Jump Jive An' WailThe Brian Setzer Orchestra\",\n",
       " 'JumperThird Eye Blind',\n",
       " 'LatelyDivine',\n",
       " 'Lean On MeKirk Franklin Featuring Mary J. Blige, Bono, R. Kelly, Crystal Lewis & The Family',\n",
       " 'Let Me Let GoFaith Hill',\n",
       " 'Love Like ThisFaith Evans',\n",
       " 'Love Me112 Featuring Mase',\n",
       " 'LullabyShawn Mullins',\n",
       " 'MiamiWill Smith',\n",
       " \"Movin' OnMya Featuring Silkk The Shocker\",\n",
       " 'My Favorite MistakeSheryl Crow',\n",
       " 'My Little SecretXscape',\n",
       " 'Never ThereCake',\n",
       " \"Nobody's Supposed To Be HereDeborah Cox\",\n",
       " 'One WeekBarenaked Ladies',\n",
       " 'Pretty Fly (For A White Guy)The Offspring',\n",
       " \"Pushin' WeightIce Cube Featuring Mr. Short Khop\",\n",
       " 'Real Worldmatchbox 20',\n",
       " 'Right On The MoneyAlan Jackson',\n",
       " 'Rosa ParksOutKast',\n",
       " 'Save TonightEagle-Eye Cherry',\n",
       " 'SlideGoo Goo Dolls',\n",
       " 'Someone You Used To KnowCollin Raye',\n",
       " 'Spirit Of A Boy, Wisdom Of A ManRandy Travis',\n",
       " 'SplackavelliePressha',\n",
       " 'SuperThug (What What)Noreaga',\n",
       " 'Sweetest ThingU2',\n",
       " 'Take Me ThereBLACKstreet & Mya Featuring Mase & Blinky Blink',\n",
       " \"Tearin' Up My Heart'N Sync\",\n",
       " 'Thank UAlanis Morissette',\n",
       " 'The First NightMonica',\n",
       " 'The Power Of Good-ByeMadonna',\n",
       " 'There You Have ItBlackHawk',\n",
       " 'These Are The TimesDru Hill',\n",
       " \"Thinkin' Bout ItGerald Levert\",\n",
       " 'This KissFaith Hill',\n",
       " 'Time After TimeInoj',\n",
       " 'Too CloseNext',\n",
       " 'TornNatalie Imbruglia',\n",
       " 'Touch ItMonifah',\n",
       " \"Trippin'Total Featuring Missy Elliott\",\n",
       " \"We Really Shouldn't Be Doing ThisGeorge Strait\",\n",
       " 'WestsideTQ',\n",
       " 'When You BelieveWhitney Houston & Mariah Carey',\n",
       " 'Where The Green Grass GrowsTim McGraw',\n",
       " 'Wherever You GoVoices Of Theory',\n",
       " 'Wide Open SpacesDixie Chicks',\n",
       " 'Wrong AgainMartina McBride',\n",
       " 'You Get What You GiveNew Radicals',\n",
       " \"You're Beginning To Get To MeClay Walker\",\n",
       " \"You're Easy On The EyesTerri Clark\"}"
      ]
     },
     "execution_count": 45,
     "metadata": {},
     "output_type": "execute_result"
    }
   ],
   "source": [
    "set(weekly_array_groupby.loc[2105,\"week_song_array\"])"
   ]
  },
  {
   "cell_type": "code",
   "execution_count": 46,
   "metadata": {},
   "outputs": [
    {
     "data": {
      "text/html": [
       "<div>\n",
       "<style scoped>\n",
       "    .dataframe tbody tr th:only-of-type {\n",
       "        vertical-align: middle;\n",
       "    }\n",
       "\n",
       "    .dataframe tbody tr th {\n",
       "        vertical-align: top;\n",
       "    }\n",
       "\n",
       "    .dataframe thead th {\n",
       "        text-align: right;\n",
       "    }\n",
       "</style>\n",
       "<table border=\"1\" class=\"dataframe\">\n",
       "  <thead>\n",
       "    <tr style=\"text-align: right;\">\n",
       "      <th></th>\n",
       "      <th>week_id</th>\n",
       "      <th>week_position</th>\n",
       "      <th>song</th>\n",
       "      <th>performer</th>\n",
       "      <th>song_id</th>\n",
       "      <th>instance</th>\n",
       "      <th>prev_week_position</th>\n",
       "      <th>peak_position</th>\n",
       "      <th>weeks_on_chart</th>\n",
       "      <th>date</th>\n",
       "      <th>month</th>\n",
       "      <th>day</th>\n",
       "      <th>year</th>\n",
       "      <th>main_performer</th>\n",
       "      <th>featured_performer</th>\n",
       "    </tr>\n",
       "  </thead>\n",
       "  <tbody>\n",
       "    <tr>\n",
       "      <th>0</th>\n",
       "      <td>1990-02-10</td>\n",
       "      <td>75</td>\n",
       "      <td>Don't Wanna Fall In Love</td>\n",
       "      <td>Jane Child</td>\n",
       "      <td>Don't Wanna Fall In LoveJane Child</td>\n",
       "      <td>1</td>\n",
       "      <td>NaN</td>\n",
       "      <td>75</td>\n",
       "      <td>1</td>\n",
       "      <td>1990-02-10</td>\n",
       "      <td>2</td>\n",
       "      <td>10</td>\n",
       "      <td>1990</td>\n",
       "      <td>Jane Child</td>\n",
       "      <td>None</td>\n",
       "    </tr>\n",
       "    <tr>\n",
       "      <th>1</th>\n",
       "      <td>1990-02-17</td>\n",
       "      <td>53</td>\n",
       "      <td>Don't Wanna Fall In Love</td>\n",
       "      <td>Jane Child</td>\n",
       "      <td>Don't Wanna Fall In LoveJane Child</td>\n",
       "      <td>1</td>\n",
       "      <td>75.0</td>\n",
       "      <td>53</td>\n",
       "      <td>2</td>\n",
       "      <td>1990-02-17</td>\n",
       "      <td>2</td>\n",
       "      <td>17</td>\n",
       "      <td>1990</td>\n",
       "      <td>Jane Child</td>\n",
       "      <td>None</td>\n",
       "    </tr>\n",
       "    <tr>\n",
       "      <th>2</th>\n",
       "      <td>1990-02-24</td>\n",
       "      <td>43</td>\n",
       "      <td>Don't Wanna Fall In Love</td>\n",
       "      <td>Jane Child</td>\n",
       "      <td>Don't Wanna Fall In LoveJane Child</td>\n",
       "      <td>1</td>\n",
       "      <td>53.0</td>\n",
       "      <td>43</td>\n",
       "      <td>3</td>\n",
       "      <td>1990-02-24</td>\n",
       "      <td>2</td>\n",
       "      <td>24</td>\n",
       "      <td>1990</td>\n",
       "      <td>Jane Child</td>\n",
       "      <td>None</td>\n",
       "    </tr>\n",
       "    <tr>\n",
       "      <th>3</th>\n",
       "      <td>1990-03-03</td>\n",
       "      <td>37</td>\n",
       "      <td>Don't Wanna Fall In Love</td>\n",
       "      <td>Jane Child</td>\n",
       "      <td>Don't Wanna Fall In LoveJane Child</td>\n",
       "      <td>1</td>\n",
       "      <td>43.0</td>\n",
       "      <td>37</td>\n",
       "      <td>4</td>\n",
       "      <td>1990-03-03</td>\n",
       "      <td>3</td>\n",
       "      <td>3</td>\n",
       "      <td>1990</td>\n",
       "      <td>Jane Child</td>\n",
       "      <td>None</td>\n",
       "    </tr>\n",
       "    <tr>\n",
       "      <th>4</th>\n",
       "      <td>1990-03-10</td>\n",
       "      <td>27</td>\n",
       "      <td>Don't Wanna Fall In Love</td>\n",
       "      <td>Jane Child</td>\n",
       "      <td>Don't Wanna Fall In LoveJane Child</td>\n",
       "      <td>1</td>\n",
       "      <td>37.0</td>\n",
       "      <td>27</td>\n",
       "      <td>5</td>\n",
       "      <td>1990-03-10</td>\n",
       "      <td>3</td>\n",
       "      <td>10</td>\n",
       "      <td>1990</td>\n",
       "      <td>Jane Child</td>\n",
       "      <td>None</td>\n",
       "    </tr>\n",
       "  </tbody>\n",
       "</table>\n",
       "</div>"
      ],
      "text/plain": [
       "     week_id  week_position                      song   performer  \\\n",
       "0 1990-02-10             75  Don't Wanna Fall In Love  Jane Child   \n",
       "1 1990-02-17             53  Don't Wanna Fall In Love  Jane Child   \n",
       "2 1990-02-24             43  Don't Wanna Fall In Love  Jane Child   \n",
       "3 1990-03-03             37  Don't Wanna Fall In Love  Jane Child   \n",
       "4 1990-03-10             27  Don't Wanna Fall In Love  Jane Child   \n",
       "\n",
       "                              song_id  instance  prev_week_position  \\\n",
       "0  Don't Wanna Fall In LoveJane Child         1                 NaN   \n",
       "1  Don't Wanna Fall In LoveJane Child         1                75.0   \n",
       "2  Don't Wanna Fall In LoveJane Child         1                53.0   \n",
       "3  Don't Wanna Fall In LoveJane Child         1                43.0   \n",
       "4  Don't Wanna Fall In LoveJane Child         1                37.0   \n",
       "\n",
       "   peak_position  weeks_on_chart        date  month  day  year main_performer  \\\n",
       "0             75               1  1990-02-10      2   10  1990     Jane Child   \n",
       "1             53               2  1990-02-17      2   17  1990     Jane Child   \n",
       "2             43               3  1990-02-24      2   24  1990     Jane Child   \n",
       "3             37               4  1990-03-03      3    3  1990     Jane Child   \n",
       "4             27               5  1990-03-10      3   10  1990     Jane Child   \n",
       "\n",
       "  featured_performer  \n",
       "0               None  \n",
       "1               None  \n",
       "2               None  \n",
       "3               None  \n",
       "4               None  "
      ]
     },
     "execution_count": 46,
     "metadata": {},
     "output_type": "execute_result"
    }
   ],
   "source": [
    "billboard_df.head()"
   ]
  },
  {
   "cell_type": "code",
   "execution_count": 47,
   "metadata": {},
   "outputs": [
    {
     "data": {
      "text/plain": [
       "week_id                                               1998-12-05 00:00:00\n",
       "week_song_array         [Save TonightEagle-Eye Cherry, Thank UAlanis M...\n",
       "prev_week_song_array    [Doo Wop (That Thing)Lauryn Hill, I Had No Rig...\n",
       "Name: 2105, dtype: object"
      ]
     },
     "execution_count": 47,
     "metadata": {},
     "output_type": "execute_result"
    }
   ],
   "source": [
    "weekly_array_groupby.iloc[2105]"
   ]
  },
  {
   "cell_type": "code",
   "execution_count": 48,
   "metadata": {},
   "outputs": [
    {
     "data": {
      "text/plain": [
       "week_id                                               1998-11-28 00:00:00\n",
       "week_song_array         [Doo Wop (That Thing)Lauryn Hill, I Had No Rig...\n",
       "prev_week_song_array    [...Baby One More TimeBritney Spears, Let Me R...\n",
       "Name: 2104, dtype: object"
      ]
     },
     "execution_count": 48,
     "metadata": {},
     "output_type": "execute_result"
    }
   ],
   "source": [
    "weekly_array_groupby.iloc[2104]"
   ]
  },
  {
   "cell_type": "code",
   "execution_count": 49,
   "metadata": {},
   "outputs": [
    {
     "data": {
      "text/plain": [
       "<matplotlib.axes._subplots.AxesSubplot at 0x15da3c0b748>"
      ]
     },
     "execution_count": 49,
     "metadata": {},
     "output_type": "execute_result"
    },
    {
     "data": {
      "image/png": "[encoded data removed]",
      "text/plain": [
       "<Figure size 432x288 with 1 Axes>"
      ]
     },
     "metadata": {
      "needs_background": "light"
     },
     "output_type": "display_data"
    }
   ],
   "source": [
    "new_df.sim_score.plot()"
   ]
  },
  {
   "cell_type": "code",
   "execution_count": 50,
   "metadata": {},
   "outputs": [
    {
     "data": {
      "text/html": [
       "<div>\n",
       "<style scoped>\n",
       "    .dataframe tbody tr th:only-of-type {\n",
       "        vertical-align: middle;\n",
       "    }\n",
       "\n",
       "    .dataframe tbody tr th {\n",
       "        vertical-align: top;\n",
       "    }\n",
       "\n",
       "    .dataframe thead th {\n",
       "        text-align: right;\n",
       "    }\n",
       "</style>\n",
       "<table border=\"1\" class=\"dataframe\">\n",
       "  <thead>\n",
       "    <tr style=\"text-align: right;\">\n",
       "      <th></th>\n",
       "      <th>sim_score</th>\n",
       "    </tr>\n",
       "  </thead>\n",
       "  <tbody>\n",
       "    <tr>\n",
       "      <th>0</th>\n",
       "      <td>1.000000</td>\n",
       "    </tr>\n",
       "    <tr>\n",
       "      <th>1</th>\n",
       "      <td>0.666667</td>\n",
       "    </tr>\n",
       "    <tr>\n",
       "      <th>2</th>\n",
       "      <td>0.639344</td>\n",
       "    </tr>\n",
       "    <tr>\n",
       "      <th>3</th>\n",
       "      <td>0.724138</td>\n",
       "    </tr>\n",
       "    <tr>\n",
       "      <th>4</th>\n",
       "      <td>0.769912</td>\n",
       "    </tr>\n",
       "  </tbody>\n",
       "</table>\n",
       "</div>"
      ],
      "text/plain": [
       "   sim_score\n",
       "0   1.000000\n",
       "1   0.666667\n",
       "2   0.639344\n",
       "3   0.724138\n",
       "4   0.769912"
      ]
     },
     "execution_count": 50,
     "metadata": {},
     "output_type": "execute_result"
    }
   ],
   "source": [
    "new_df.head()"
   ]
  },
  {
   "cell_type": "code",
   "execution_count": null,
   "metadata": {},
   "outputs": [],
   "source": []
  },
  {
   "cell_type": "code",
   "execution_count": 51,
   "metadata": {},
   "outputs": [
    {
     "ename": "NameError",
     "evalue": "name 'also_a_new_groupby' is not defined",
     "output_type": "error",
     "traceback": [
      "\u001b[1;31m---------------------------------------------------------------------------\u001b[0m",
      "\u001b[1;31mNameError\u001b[0m                                 Traceback (most recent call last)",
      "\u001b[1;32m<ipython-input-51-f6a3c799b19d>\u001b[0m in \u001b[0;36m<module>\u001b[1;34m\u001b[0m\n\u001b[0;32m      1\u001b[0m \u001b[0mplt\u001b[0m\u001b[1;33m.\u001b[0m\u001b[0mfigure\u001b[0m\u001b[1;33m(\u001b[0m\u001b[0mfigsize\u001b[0m\u001b[1;33m=\u001b[0m\u001b[1;33m(\u001b[0m\u001b[1;36m10\u001b[0m\u001b[1;33m,\u001b[0m \u001b[1;36m6\u001b[0m\u001b[1;33m)\u001b[0m\u001b[1;33m)\u001b[0m\u001b[1;33m\u001b[0m\u001b[1;33m\u001b[0m\u001b[0m\n\u001b[1;32m----> 2\u001b[1;33m \u001b[0mplt\u001b[0m\u001b[1;33m.\u001b[0m\u001b[0mscatter\u001b[0m\u001b[1;33m(\u001b[0m\u001b[1;34m'year'\u001b[0m\u001b[1;33m,\u001b[0m \u001b[1;34m'week_id'\u001b[0m\u001b[1;33m,\u001b[0m \u001b[0mdata\u001b[0m \u001b[1;33m=\u001b[0m \u001b[0malso_a_new_groupby\u001b[0m\u001b[1;33m,\u001b[0m \u001b[0ms\u001b[0m\u001b[1;33m=\u001b[0m\u001b[1;36m10\u001b[0m\u001b[1;33m,\u001b[0m \u001b[0mc\u001b[0m\u001b[1;33m=\u001b[0m\u001b[1;34m'b'\u001b[0m\u001b[1;33m,\u001b[0m \u001b[0mmarker\u001b[0m\u001b[1;33m=\u001b[0m\u001b[1;34m\"o\"\u001b[0m\u001b[1;33m,\u001b[0m \u001b[0mlabel\u001b[0m\u001b[1;33m=\u001b[0m\u001b[1;34m'Weeks Per Performer'\u001b[0m \u001b[1;33m)\u001b[0m\u001b[1;33m\u001b[0m\u001b[1;33m\u001b[0m\u001b[0m\n\u001b[0m\u001b[0;32m      3\u001b[0m \u001b[1;33m\u001b[0m\u001b[0m\n\u001b[0;32m      4\u001b[0m \u001b[0mplt\u001b[0m\u001b[1;33m.\u001b[0m\u001b[0mxlim\u001b[0m\u001b[1;33m(\u001b[0m\u001b[1;36m1955\u001b[0m\u001b[1;33m,\u001b[0m \u001b[1;36m2021\u001b[0m\u001b[1;33m)\u001b[0m\u001b[1;33m\u001b[0m\u001b[1;33m\u001b[0m\u001b[0m\n\u001b[0;32m      5\u001b[0m \u001b[0mplt\u001b[0m\u001b[1;33m.\u001b[0m\u001b[0mylim\u001b[0m\u001b[1;33m(\u001b[0m\u001b[1;36m0\u001b[0m\u001b[1;33m,\u001b[0m \u001b[1;36m80\u001b[0m\u001b[1;33m)\u001b[0m\u001b[1;33m\u001b[0m\u001b[1;33m\u001b[0m\u001b[0m\n",
      "\u001b[1;31mNameError\u001b[0m: name 'also_a_new_groupby' is not defined"
     ]
    },
    {
     "data": {
      "text/plain": [
       "<Figure size 720x432 with 0 Axes>"
      ]
     },
     "metadata": {},
     "output_type": "display_data"
    }
   ],
   "source": [
    "\n",
    "\n"
   ]
  },
  {
   "cell_type": "code",
   "execution_count": null,
   "metadata": {},
   "outputs": [],
   "source": []
  },
  {
   "cell_type": "code",
   "execution_count": null,
   "metadata": {},
   "outputs": [],
   "source": []
  },
  {
   "cell_type": "code",
   "execution_count": null,
   "metadata": {},
   "outputs": [],
   "source": []
  },
  {
   "cell_type": "code",
   "execution_count": null,
   "metadata": {},
   "outputs": [],
   "source": []
  },
  {
   "cell_type": "code",
   "execution_count": 54,
   "metadata": {},
   "outputs": [
    {
     "data": {
      "text/plain": [
       "Text(0.5, 0, 'Similarity Score')"
      ]
     },
     "execution_count": 54,
     "metadata": {},
     "output_type": "execute_result"
    },
    {
     "data": {
      "image/png": "[encoded data removed]",
      "text/plain": [
       "<Figure size 432x288 with 1 Axes>"
      ]
     },
     "metadata": {
      "needs_background": "light"
     },
     "output_type": "display_data"
    }
   ],
   "source": [
    "ax = sns.boxplot(x=new_df[\"sim_score\"])\n",
    "plt.title('Distribution of Similarity Score, 1958-2019')\n",
    "plt.xlim(0,1)\n",
    "plt.xlabel('Similarity Score')"
   ]
  },
  {
   "cell_type": "code",
   "execution_count": 55,
   "metadata": {},
   "outputs": [
    {
     "data": {
      "text/plain": [
       "count    3178.000000\n",
       "mean        0.827942\n",
       "std         0.062565\n",
       "min         0.242236\n",
       "25%         0.785714\n",
       "50%         0.834862\n",
       "75%         0.869159\n",
       "max         1.000000\n",
       "Name: sim_score, dtype: float64"
      ]
     },
     "execution_count": 55,
     "metadata": {},
     "output_type": "execute_result"
    }
   ],
   "source": [
    "new_df.sim_score.describe()"
   ]
  },
  {
   "cell_type": "code",
   "execution_count": null,
   "metadata": {},
   "outputs": [],
   "source": [
    "new_df.head()"
   ]
  },
  {
   "cell_type": "code",
   "execution_count": 56,
   "metadata": {},
   "outputs": [
    {
     "data": {
      "text/html": [
       "<div>\n",
       "<style scoped>\n",
       "    .dataframe tbody tr th:only-of-type {\n",
       "        vertical-align: middle;\n",
       "    }\n",
       "\n",
       "    .dataframe tbody tr th {\n",
       "        vertical-align: top;\n",
       "    }\n",
       "\n",
       "    .dataframe thead th {\n",
       "        text-align: right;\n",
       "    }\n",
       "</style>\n",
       "<table border=\"1\" class=\"dataframe\">\n",
       "  <thead>\n",
       "    <tr style=\"text-align: right;\">\n",
       "      <th></th>\n",
       "      <th>sim_score</th>\n",
       "    </tr>\n",
       "  </thead>\n",
       "  <tbody>\n",
       "    <tr>\n",
       "      <th>0</th>\n",
       "      <td>1.000000</td>\n",
       "    </tr>\n",
       "    <tr>\n",
       "      <th>1</th>\n",
       "      <td>0.666667</td>\n",
       "    </tr>\n",
       "    <tr>\n",
       "      <th>2</th>\n",
       "      <td>0.639344</td>\n",
       "    </tr>\n",
       "    <tr>\n",
       "      <th>3</th>\n",
       "      <td>0.724138</td>\n",
       "    </tr>\n",
       "    <tr>\n",
       "      <th>4</th>\n",
       "      <td>0.769912</td>\n",
       "    </tr>\n",
       "  </tbody>\n",
       "</table>\n",
       "</div>"
      ],
      "text/plain": [
       "   sim_score\n",
       "0   1.000000\n",
       "1   0.666667\n",
       "2   0.639344\n",
       "3   0.724138\n",
       "4   0.769912"
      ]
     },
     "execution_count": 56,
     "metadata": {},
     "output_type": "execute_result"
    }
   ],
   "source": [
    "new_df.head()"
   ]
  },
  {
   "cell_type": "code",
   "execution_count": null,
   "metadata": {},
   "outputs": [],
   "source": []
  },
  {
   "cell_type": "code",
   "execution_count": null,
   "metadata": {},
   "outputs": [],
   "source": []
  },
  {
   "cell_type": "code",
   "execution_count": null,
   "metadata": {},
   "outputs": [],
   "source": []
  },
  {
   "cell_type": "code",
   "execution_count": 57,
   "metadata": {},
   "outputs": [],
   "source": [
    "new_df = new_df.sort_values(by=['sim_score'], ascending=True)"
   ]
  },
  {
   "cell_type": "code",
   "execution_count": 58,
   "metadata": {},
   "outputs": [
    {
     "data": {
      "text/html": [
       "<div>\n",
       "<style scoped>\n",
       "    .dataframe tbody tr th:only-of-type {\n",
       "        vertical-align: middle;\n",
       "    }\n",
       "\n",
       "    .dataframe tbody tr th {\n",
       "        vertical-align: top;\n",
       "    }\n",
       "\n",
       "    .dataframe thead th {\n",
       "        text-align: right;\n",
       "    }\n",
       "</style>\n",
       "<table border=\"1\" class=\"dataframe\">\n",
       "  <thead>\n",
       "    <tr style=\"text-align: right;\">\n",
       "      <th></th>\n",
       "      <th>sim_score</th>\n",
       "    </tr>\n",
       "  </thead>\n",
       "  <tbody>\n",
       "    <tr>\n",
       "      <th>2105</th>\n",
       "      <td>0.242236</td>\n",
       "    </tr>\n",
       "    <tr>\n",
       "      <th>3128</th>\n",
       "      <td>0.526718</td>\n",
       "    </tr>\n",
       "    <tr>\n",
       "      <th>3154</th>\n",
       "      <td>0.562500</td>\n",
       "    </tr>\n",
       "    <tr>\n",
       "      <th>3150</th>\n",
       "      <td>0.574803</td>\n",
       "    </tr>\n",
       "    <tr>\n",
       "      <th>3141</th>\n",
       "      <td>0.587302</td>\n",
       "    </tr>\n",
       "    <tr>\n",
       "      <th>398</th>\n",
       "      <td>0.612903</td>\n",
       "    </tr>\n",
       "    <tr>\n",
       "      <th>3062</th>\n",
       "      <td>0.612903</td>\n",
       "    </tr>\n",
       "    <tr>\n",
       "      <th>526</th>\n",
       "      <td>0.626016</td>\n",
       "    </tr>\n",
       "    <tr>\n",
       "      <th>212</th>\n",
       "      <td>0.626016</td>\n",
       "    </tr>\n",
       "    <tr>\n",
       "      <th>3046</th>\n",
       "      <td>0.639344</td>\n",
       "    </tr>\n",
       "    <tr>\n",
       "      <th>3085</th>\n",
       "      <td>0.639344</td>\n",
       "    </tr>\n",
       "    <tr>\n",
       "      <th>2</th>\n",
       "      <td>0.639344</td>\n",
       "    </tr>\n",
       "    <tr>\n",
       "      <th>2992</th>\n",
       "      <td>0.652893</td>\n",
       "    </tr>\n",
       "    <tr>\n",
       "      <th>3126</th>\n",
       "      <td>0.652893</td>\n",
       "    </tr>\n",
       "    <tr>\n",
       "      <th>227</th>\n",
       "      <td>0.652893</td>\n",
       "    </tr>\n",
       "    <tr>\n",
       "      <th>3133</th>\n",
       "      <td>0.652893</td>\n",
       "    </tr>\n",
       "    <tr>\n",
       "      <th>3016</th>\n",
       "      <td>0.652893</td>\n",
       "    </tr>\n",
       "    <tr>\n",
       "      <th>3118</th>\n",
       "      <td>0.652893</td>\n",
       "    </tr>\n",
       "    <tr>\n",
       "      <th>142</th>\n",
       "      <td>0.652893</td>\n",
       "    </tr>\n",
       "    <tr>\n",
       "      <th>180</th>\n",
       "      <td>0.652893</td>\n",
       "    </tr>\n",
       "    <tr>\n",
       "      <th>417</th>\n",
       "      <td>0.666667</td>\n",
       "    </tr>\n",
       "    <tr>\n",
       "      <th>330</th>\n",
       "      <td>0.666667</td>\n",
       "    </tr>\n",
       "    <tr>\n",
       "      <th>3163</th>\n",
       "      <td>0.666667</td>\n",
       "    </tr>\n",
       "    <tr>\n",
       "      <th>1</th>\n",
       "      <td>0.666667</td>\n",
       "    </tr>\n",
       "    <tr>\n",
       "      <th>219</th>\n",
       "      <td>0.666667</td>\n",
       "    </tr>\n",
       "    <tr>\n",
       "      <th>574</th>\n",
       "      <td>0.666667</td>\n",
       "    </tr>\n",
       "    <tr>\n",
       "      <th>3153</th>\n",
       "      <td>0.666667</td>\n",
       "    </tr>\n",
       "    <tr>\n",
       "      <th>191</th>\n",
       "      <td>0.666667</td>\n",
       "    </tr>\n",
       "    <tr>\n",
       "      <th>629</th>\n",
       "      <td>0.666667</td>\n",
       "    </tr>\n",
       "    <tr>\n",
       "      <th>475</th>\n",
       "      <td>0.666667</td>\n",
       "    </tr>\n",
       "    <tr>\n",
       "      <th>...</th>\n",
       "      <td>...</td>\n",
       "    </tr>\n",
       "    <tr>\n",
       "      <th>2229</th>\n",
       "      <td>0.960784</td>\n",
       "    </tr>\n",
       "    <tr>\n",
       "      <th>2076</th>\n",
       "      <td>0.960784</td>\n",
       "    </tr>\n",
       "    <tr>\n",
       "      <th>2111</th>\n",
       "      <td>0.960784</td>\n",
       "    </tr>\n",
       "    <tr>\n",
       "      <th>2441</th>\n",
       "      <td>0.960784</td>\n",
       "    </tr>\n",
       "    <tr>\n",
       "      <th>1484</th>\n",
       "      <td>0.960784</td>\n",
       "    </tr>\n",
       "    <tr>\n",
       "      <th>1171</th>\n",
       "      <td>0.960784</td>\n",
       "    </tr>\n",
       "    <tr>\n",
       "      <th>2183</th>\n",
       "      <td>0.960784</td>\n",
       "    </tr>\n",
       "    <tr>\n",
       "      <th>2190</th>\n",
       "      <td>0.960784</td>\n",
       "    </tr>\n",
       "    <tr>\n",
       "      <th>1534</th>\n",
       "      <td>0.960784</td>\n",
       "    </tr>\n",
       "    <tr>\n",
       "      <th>1954</th>\n",
       "      <td>0.960784</td>\n",
       "    </tr>\n",
       "    <tr>\n",
       "      <th>1536</th>\n",
       "      <td>0.980198</td>\n",
       "    </tr>\n",
       "    <tr>\n",
       "      <th>2091</th>\n",
       "      <td>0.980198</td>\n",
       "    </tr>\n",
       "    <tr>\n",
       "      <th>961</th>\n",
       "      <td>1.000000</td>\n",
       "    </tr>\n",
       "    <tr>\n",
       "      <th>179</th>\n",
       "      <td>1.000000</td>\n",
       "    </tr>\n",
       "    <tr>\n",
       "      <th>1639</th>\n",
       "      <td>1.000000</td>\n",
       "    </tr>\n",
       "    <tr>\n",
       "      <th>1065</th>\n",
       "      <td>1.000000</td>\n",
       "    </tr>\n",
       "    <tr>\n",
       "      <th>1117</th>\n",
       "      <td>1.000000</td>\n",
       "    </tr>\n",
       "    <tr>\n",
       "      <th>1170</th>\n",
       "      <td>1.000000</td>\n",
       "    </tr>\n",
       "    <tr>\n",
       "      <th>1222</th>\n",
       "      <td>1.000000</td>\n",
       "    </tr>\n",
       "    <tr>\n",
       "      <th>1274</th>\n",
       "      <td>1.000000</td>\n",
       "    </tr>\n",
       "    <tr>\n",
       "      <th>1326</th>\n",
       "      <td>1.000000</td>\n",
       "    </tr>\n",
       "    <tr>\n",
       "      <th>1378</th>\n",
       "      <td>1.000000</td>\n",
       "    </tr>\n",
       "    <tr>\n",
       "      <th>1431</th>\n",
       "      <td>1.000000</td>\n",
       "    </tr>\n",
       "    <tr>\n",
       "      <th>1483</th>\n",
       "      <td>1.000000</td>\n",
       "    </tr>\n",
       "    <tr>\n",
       "      <th>1535</th>\n",
       "      <td>1.000000</td>\n",
       "    </tr>\n",
       "    <tr>\n",
       "      <th>1587</th>\n",
       "      <td>1.000000</td>\n",
       "    </tr>\n",
       "    <tr>\n",
       "      <th>1743</th>\n",
       "      <td>1.000000</td>\n",
       "    </tr>\n",
       "    <tr>\n",
       "      <th>1691</th>\n",
       "      <td>1.000000</td>\n",
       "    </tr>\n",
       "    <tr>\n",
       "      <th>1013</th>\n",
       "      <td>1.000000</td>\n",
       "    </tr>\n",
       "    <tr>\n",
       "      <th>0</th>\n",
       "      <td>1.000000</td>\n",
       "    </tr>\n",
       "  </tbody>\n",
       "</table>\n",
       "<p>3178 rows × 1 columns</p>\n",
       "</div>"
      ],
      "text/plain": [
       "      sim_score\n",
       "2105   0.242236\n",
       "3128   0.526718\n",
       "3154   0.562500\n",
       "3150   0.574803\n",
       "3141   0.587302\n",
       "398    0.612903\n",
       "3062   0.612903\n",
       "526    0.626016\n",
       "212    0.626016\n",
       "3046   0.639344\n",
       "3085   0.639344\n",
       "2      0.639344\n",
       "2992   0.652893\n",
       "3126   0.652893\n",
       "227    0.652893\n",
       "3133   0.652893\n",
       "3016   0.652893\n",
       "3118   0.652893\n",
       "142    0.652893\n",
       "180    0.652893\n",
       "417    0.666667\n",
       "330    0.666667\n",
       "3163   0.666667\n",
       "1      0.666667\n",
       "219    0.666667\n",
       "574    0.666667\n",
       "3153   0.666667\n",
       "191    0.666667\n",
       "629    0.666667\n",
       "475    0.666667\n",
       "...         ...\n",
       "2229   0.960784\n",
       "2076   0.960784\n",
       "2111   0.960784\n",
       "2441   0.960784\n",
       "1484   0.960784\n",
       "1171   0.960784\n",
       "2183   0.960784\n",
       "2190   0.960784\n",
       "1534   0.960784\n",
       "1954   0.960784\n",
       "1536   0.980198\n",
       "2091   0.980198\n",
       "961    1.000000\n",
       "179    1.000000\n",
       "1639   1.000000\n",
       "1065   1.000000\n",
       "1117   1.000000\n",
       "1170   1.000000\n",
       "1222   1.000000\n",
       "1274   1.000000\n",
       "1326   1.000000\n",
       "1378   1.000000\n",
       "1431   1.000000\n",
       "1483   1.000000\n",
       "1535   1.000000\n",
       "1587   1.000000\n",
       "1743   1.000000\n",
       "1691   1.000000\n",
       "1013   1.000000\n",
       "0      1.000000\n",
       "\n",
       "[3178 rows x 1 columns]"
      ]
     },
     "execution_count": 58,
     "metadata": {},
     "output_type": "execute_result"
    }
   ],
   "source": [
    "new_df.head(3599)"
   ]
  },
  {
   "cell_type": "code",
   "execution_count": 59,
   "metadata": {},
   "outputs": [],
   "source": [
    "lower_bound = 0.785714 - (1.5 * (0.869159-0.785714))"
   ]
  },
  {
   "cell_type": "code",
   "execution_count": 60,
   "metadata": {},
   "outputs": [
    {
     "name": "stdout",
     "output_type": "stream",
     "text": [
      "0.6605465\n"
     ]
    }
   ],
   "source": [
    "print(lower_bound)"
   ]
  },
  {
   "cell_type": "code",
   "execution_count": 61,
   "metadata": {},
   "outputs": [],
   "source": [
    "lower_bound_df = new_df.sort_values(by=['sim_score'], ascending=True)"
   ]
  },
  {
   "cell_type": "code",
   "execution_count": 62,
   "metadata": {},
   "outputs": [],
   "source": [
    "lowest_df = lower_bound_df.head(20)"
   ]
  },
  {
   "cell_type": "code",
   "execution_count": 63,
   "metadata": {},
   "outputs": [
    {
     "data": {
      "text/html": [
       "<div>\n",
       "<style scoped>\n",
       "    .dataframe tbody tr th:only-of-type {\n",
       "        vertical-align: middle;\n",
       "    }\n",
       "\n",
       "    .dataframe tbody tr th {\n",
       "        vertical-align: top;\n",
       "    }\n",
       "\n",
       "    .dataframe thead th {\n",
       "        text-align: right;\n",
       "    }\n",
       "</style>\n",
       "<table border=\"1\" class=\"dataframe\">\n",
       "  <thead>\n",
       "    <tr style=\"text-align: right;\">\n",
       "      <th></th>\n",
       "      <th>sim_score</th>\n",
       "    </tr>\n",
       "  </thead>\n",
       "  <tbody>\n",
       "    <tr>\n",
       "      <th>2105</th>\n",
       "      <td>0.242236</td>\n",
       "    </tr>\n",
       "    <tr>\n",
       "      <th>3128</th>\n",
       "      <td>0.526718</td>\n",
       "    </tr>\n",
       "    <tr>\n",
       "      <th>3154</th>\n",
       "      <td>0.562500</td>\n",
       "    </tr>\n",
       "    <tr>\n",
       "      <th>3150</th>\n",
       "      <td>0.574803</td>\n",
       "    </tr>\n",
       "    <tr>\n",
       "      <th>3141</th>\n",
       "      <td>0.587302</td>\n",
       "    </tr>\n",
       "    <tr>\n",
       "      <th>398</th>\n",
       "      <td>0.612903</td>\n",
       "    </tr>\n",
       "    <tr>\n",
       "      <th>3062</th>\n",
       "      <td>0.612903</td>\n",
       "    </tr>\n",
       "    <tr>\n",
       "      <th>526</th>\n",
       "      <td>0.626016</td>\n",
       "    </tr>\n",
       "    <tr>\n",
       "      <th>212</th>\n",
       "      <td>0.626016</td>\n",
       "    </tr>\n",
       "    <tr>\n",
       "      <th>3046</th>\n",
       "      <td>0.639344</td>\n",
       "    </tr>\n",
       "    <tr>\n",
       "      <th>3085</th>\n",
       "      <td>0.639344</td>\n",
       "    </tr>\n",
       "    <tr>\n",
       "      <th>2</th>\n",
       "      <td>0.639344</td>\n",
       "    </tr>\n",
       "    <tr>\n",
       "      <th>180</th>\n",
       "      <td>0.652893</td>\n",
       "    </tr>\n",
       "    <tr>\n",
       "      <th>142</th>\n",
       "      <td>0.652893</td>\n",
       "    </tr>\n",
       "    <tr>\n",
       "      <th>3118</th>\n",
       "      <td>0.652893</td>\n",
       "    </tr>\n",
       "    <tr>\n",
       "      <th>3016</th>\n",
       "      <td>0.652893</td>\n",
       "    </tr>\n",
       "    <tr>\n",
       "      <th>2992</th>\n",
       "      <td>0.652893</td>\n",
       "    </tr>\n",
       "    <tr>\n",
       "      <th>227</th>\n",
       "      <td>0.652893</td>\n",
       "    </tr>\n",
       "    <tr>\n",
       "      <th>3126</th>\n",
       "      <td>0.652893</td>\n",
       "    </tr>\n",
       "    <tr>\n",
       "      <th>3133</th>\n",
       "      <td>0.652893</td>\n",
       "    </tr>\n",
       "  </tbody>\n",
       "</table>\n",
       "</div>"
      ],
      "text/plain": [
       "      sim_score\n",
       "2105   0.242236\n",
       "3128   0.526718\n",
       "3154   0.562500\n",
       "3150   0.574803\n",
       "3141   0.587302\n",
       "398    0.612903\n",
       "3062   0.612903\n",
       "526    0.626016\n",
       "212    0.626016\n",
       "3046   0.639344\n",
       "3085   0.639344\n",
       "2      0.639344\n",
       "180    0.652893\n",
       "142    0.652893\n",
       "3118   0.652893\n",
       "3016   0.652893\n",
       "2992   0.652893\n",
       "227    0.652893\n",
       "3126   0.652893\n",
       "3133   0.652893"
      ]
     },
     "execution_count": 63,
     "metadata": {},
     "output_type": "execute_result"
    }
   ],
   "source": [
    "lowest_df.head(30)"
   ]
  },
  {
   "cell_type": "code",
   "execution_count": 64,
   "metadata": {},
   "outputs": [
    {
     "data": {
      "text/plain": [
       "week_id                                               2018-07-14 00:00:00\n",
       "week_song_array         [Don't Matter To MeDrake Featuring Michael Jac...\n",
       "prev_week_song_array    [Done For MeCharlie Puth Featuring Kehlani, So...\n",
       "Name: 3128, dtype: object"
      ]
     },
     "execution_count": 64,
     "metadata": {},
     "output_type": "execute_result"
    }
   ],
   "source": [
    "weekly_array_groupby.iloc[3128]"
   ]
  },
  {
   "cell_type": "code",
   "execution_count": 65,
   "metadata": {},
   "outputs": [
    {
     "data": {
      "text/plain": [
       "week_id                                               2019-01-12 00:00:00\n",
       "week_song_array         [Baby SharkPinkfong, Burning ManDierks Bentley...\n",
       "prev_week_song_array    [A Lot21 Savage, Blue ChristmasElvis Presley, ...\n",
       "Name: 3154, dtype: object"
      ]
     },
     "execution_count": 65,
     "metadata": {},
     "output_type": "execute_result"
    }
   ],
   "source": [
    "weekly_array_groupby.iloc[3154]"
   ]
  },
  {
   "cell_type": "code",
   "execution_count": 66,
   "metadata": {},
   "outputs": [
    {
     "data": {
      "text/plain": [
       "week_id                                               2018-12-15 00:00:00\n",
       "week_song_array         [Rudolph The Red-Nosed ReindeerGene Autry, Goi...\n",
       "prev_week_song_array    [Best ShotJimmie Allen, MAMA6ix9ine Featuring ...\n",
       "Name: 3150, dtype: object"
      ]
     },
     "execution_count": 66,
     "metadata": {},
     "output_type": "execute_result"
    }
   ],
   "source": [
    "weekly_array_groupby.iloc[3150]\n"
   ]
  },
  {
   "cell_type": "code",
   "execution_count": 67,
   "metadata": {},
   "outputs": [
    {
     "data": {
      "text/plain": [
       "week_id                                               2018-10-13 00:00:00\n",
       "week_song_array         [Don't CryLil Wayne Featuring XXXTENTACION, De...\n",
       "prev_week_song_array    [Hangin' OnChris Young, Brokenlovelytheband, N...\n",
       "Name: 3141, dtype: object"
      ]
     },
     "execution_count": 67,
     "metadata": {},
     "output_type": "execute_result"
    }
   ],
   "source": [
    "weekly_array_groupby.iloc[3141]"
   ]
  },
  {
   "cell_type": "code",
   "execution_count": 68,
   "metadata": {},
   "outputs": [
    {
     "data": {
      "text/plain": [
       "week_id                                               1966-03-19 00:00:00\n",
       "week_song_array         [I Can't Grow Peaches On A Cherry TreeJust Us,...\n",
       "prev_week_song_array    [I Want SomeoneThe Mad Lads, Barbara AnnThe Be...\n",
       "Name: 398, dtype: object"
      ]
     },
     "execution_count": 68,
     "metadata": {},
     "output_type": "execute_result"
    }
   ],
   "source": [
    "weekly_array_groupby.iloc[398]"
   ]
  },
  {
   "cell_type": "code",
   "execution_count": 69,
   "metadata": {},
   "outputs": [
    {
     "data": {
      "text/html": [
       "<div>\n",
       "<style scoped>\n",
       "    .dataframe tbody tr th:only-of-type {\n",
       "        vertical-align: middle;\n",
       "    }\n",
       "\n",
       "    .dataframe tbody tr th {\n",
       "        vertical-align: top;\n",
       "    }\n",
       "\n",
       "    .dataframe thead th {\n",
       "        text-align: right;\n",
       "    }\n",
       "</style>\n",
       "<table border=\"1\" class=\"dataframe\">\n",
       "  <thead>\n",
       "    <tr style=\"text-align: right;\">\n",
       "      <th></th>\n",
       "      <th>week_id</th>\n",
       "      <th>week_song_array</th>\n",
       "      <th>prev_week_song_array</th>\n",
       "    </tr>\n",
       "  </thead>\n",
       "  <tbody>\n",
       "    <tr>\n",
       "      <th>0</th>\n",
       "      <td>1958-08-02</td>\n",
       "      <td>[Poor Little FoolRicky Nelson, PatriciaPerez P...</td>\n",
       "      <td>NaN</td>\n",
       "    </tr>\n",
       "    <tr>\n",
       "      <th>1</th>\n",
       "      <td>1958-08-09</td>\n",
       "      <td>[Susie Darlin'Robin Luke, Devoted To YouThe Ev...</td>\n",
       "      <td>[Poor Little FoolRicky Nelson, PatriciaPerez P...</td>\n",
       "    </tr>\n",
       "    <tr>\n",
       "      <th>2</th>\n",
       "      <td>1958-08-16</td>\n",
       "      <td>[How The Time FliesJerry Wallace, Down In Virg...</td>\n",
       "      <td>[Susie Darlin'Robin Luke, Devoted To YouThe Ev...</td>\n",
       "    </tr>\n",
       "    <tr>\n",
       "      <th>3</th>\n",
       "      <td>1958-08-23</td>\n",
       "      <td>[Down The Aisle Of LoveThe Quin-Tones, Near Yo...</td>\n",
       "      <td>[How The Time FliesJerry Wallace, Down In Virg...</td>\n",
       "    </tr>\n",
       "    <tr>\n",
       "      <th>4</th>\n",
       "      <td>1958-08-30</td>\n",
       "      <td>[Nel Blu Dipinto Di Blu (Volaré)Domenico Modug...</td>\n",
       "      <td>[Down The Aisle Of LoveThe Quin-Tones, Near Yo...</td>\n",
       "    </tr>\n",
       "  </tbody>\n",
       "</table>\n",
       "</div>"
      ],
      "text/plain": [
       "     week_id                                    week_song_array  \\\n",
       "0 1958-08-02  [Poor Little FoolRicky Nelson, PatriciaPerez P...   \n",
       "1 1958-08-09  [Susie Darlin'Robin Luke, Devoted To YouThe Ev...   \n",
       "2 1958-08-16  [How The Time FliesJerry Wallace, Down In Virg...   \n",
       "3 1958-08-23  [Down The Aisle Of LoveThe Quin-Tones, Near Yo...   \n",
       "4 1958-08-30  [Nel Blu Dipinto Di Blu (Volaré)Domenico Modug...   \n",
       "\n",
       "                                prev_week_song_array  \n",
       "0                                                NaN  \n",
       "1  [Poor Little FoolRicky Nelson, PatriciaPerez P...  \n",
       "2  [Susie Darlin'Robin Luke, Devoted To YouThe Ev...  \n",
       "3  [How The Time FliesJerry Wallace, Down In Virg...  \n",
       "4  [Down The Aisle Of LoveThe Quin-Tones, Near Yo...  "
      ]
     },
     "execution_count": 69,
     "metadata": {},
     "output_type": "execute_result"
    }
   ],
   "source": [
    "weekly_array_groupby.head()"
   ]
  },
  {
   "cell_type": "code",
   "execution_count": 70,
   "metadata": {},
   "outputs": [
    {
     "data": {
      "text/html": [
       "<div>\n",
       "<style scoped>\n",
       "    .dataframe tbody tr th:only-of-type {\n",
       "        vertical-align: middle;\n",
       "    }\n",
       "\n",
       "    .dataframe tbody tr th {\n",
       "        vertical-align: top;\n",
       "    }\n",
       "\n",
       "    .dataframe thead th {\n",
       "        text-align: right;\n",
       "    }\n",
       "</style>\n",
       "<table border=\"1\" class=\"dataframe\">\n",
       "  <thead>\n",
       "    <tr style=\"text-align: right;\">\n",
       "      <th></th>\n",
       "      <th>sim_score</th>\n",
       "    </tr>\n",
       "  </thead>\n",
       "  <tbody>\n",
       "    <tr>\n",
       "      <th>2105</th>\n",
       "      <td>0.242236</td>\n",
       "    </tr>\n",
       "    <tr>\n",
       "      <th>3128</th>\n",
       "      <td>0.526718</td>\n",
       "    </tr>\n",
       "    <tr>\n",
       "      <th>3154</th>\n",
       "      <td>0.562500</td>\n",
       "    </tr>\n",
       "    <tr>\n",
       "      <th>3150</th>\n",
       "      <td>0.574803</td>\n",
       "    </tr>\n",
       "    <tr>\n",
       "      <th>3141</th>\n",
       "      <td>0.587302</td>\n",
       "    </tr>\n",
       "    <tr>\n",
       "      <th>398</th>\n",
       "      <td>0.612903</td>\n",
       "    </tr>\n",
       "    <tr>\n",
       "      <th>3062</th>\n",
       "      <td>0.612903</td>\n",
       "    </tr>\n",
       "    <tr>\n",
       "      <th>526</th>\n",
       "      <td>0.626016</td>\n",
       "    </tr>\n",
       "    <tr>\n",
       "      <th>212</th>\n",
       "      <td>0.626016</td>\n",
       "    </tr>\n",
       "    <tr>\n",
       "      <th>3046</th>\n",
       "      <td>0.639344</td>\n",
       "    </tr>\n",
       "    <tr>\n",
       "      <th>3085</th>\n",
       "      <td>0.639344</td>\n",
       "    </tr>\n",
       "    <tr>\n",
       "      <th>2</th>\n",
       "      <td>0.639344</td>\n",
       "    </tr>\n",
       "    <tr>\n",
       "      <th>2992</th>\n",
       "      <td>0.652893</td>\n",
       "    </tr>\n",
       "    <tr>\n",
       "      <th>3126</th>\n",
       "      <td>0.652893</td>\n",
       "    </tr>\n",
       "    <tr>\n",
       "      <th>227</th>\n",
       "      <td>0.652893</td>\n",
       "    </tr>\n",
       "    <tr>\n",
       "      <th>3133</th>\n",
       "      <td>0.652893</td>\n",
       "    </tr>\n",
       "    <tr>\n",
       "      <th>3016</th>\n",
       "      <td>0.652893</td>\n",
       "    </tr>\n",
       "    <tr>\n",
       "      <th>3118</th>\n",
       "      <td>0.652893</td>\n",
       "    </tr>\n",
       "    <tr>\n",
       "      <th>142</th>\n",
       "      <td>0.652893</td>\n",
       "    </tr>\n",
       "    <tr>\n",
       "      <th>180</th>\n",
       "      <td>0.652893</td>\n",
       "    </tr>\n",
       "    <tr>\n",
       "      <th>417</th>\n",
       "      <td>0.666667</td>\n",
       "    </tr>\n",
       "    <tr>\n",
       "      <th>330</th>\n",
       "      <td>0.666667</td>\n",
       "    </tr>\n",
       "    <tr>\n",
       "      <th>3163</th>\n",
       "      <td>0.666667</td>\n",
       "    </tr>\n",
       "    <tr>\n",
       "      <th>1</th>\n",
       "      <td>0.666667</td>\n",
       "    </tr>\n",
       "    <tr>\n",
       "      <th>219</th>\n",
       "      <td>0.666667</td>\n",
       "    </tr>\n",
       "    <tr>\n",
       "      <th>574</th>\n",
       "      <td>0.666667</td>\n",
       "    </tr>\n",
       "    <tr>\n",
       "      <th>3153</th>\n",
       "      <td>0.666667</td>\n",
       "    </tr>\n",
       "    <tr>\n",
       "      <th>191</th>\n",
       "      <td>0.666667</td>\n",
       "    </tr>\n",
       "    <tr>\n",
       "      <th>629</th>\n",
       "      <td>0.666667</td>\n",
       "    </tr>\n",
       "    <tr>\n",
       "      <th>475</th>\n",
       "      <td>0.666667</td>\n",
       "    </tr>\n",
       "    <tr>\n",
       "      <th>...</th>\n",
       "      <td>...</td>\n",
       "    </tr>\n",
       "    <tr>\n",
       "      <th>2796</th>\n",
       "      <td>0.724138</td>\n",
       "    </tr>\n",
       "    <tr>\n",
       "      <th>2797</th>\n",
       "      <td>0.724138</td>\n",
       "    </tr>\n",
       "    <tr>\n",
       "      <th>269</th>\n",
       "      <td>0.724138</td>\n",
       "    </tr>\n",
       "    <tr>\n",
       "      <th>2788</th>\n",
       "      <td>0.724138</td>\n",
       "    </tr>\n",
       "    <tr>\n",
       "      <th>292</th>\n",
       "      <td>0.724138</td>\n",
       "    </tr>\n",
       "    <tr>\n",
       "      <th>295</th>\n",
       "      <td>0.724138</td>\n",
       "    </tr>\n",
       "    <tr>\n",
       "      <th>2803</th>\n",
       "      <td>0.724138</td>\n",
       "    </tr>\n",
       "    <tr>\n",
       "      <th>204</th>\n",
       "      <td>0.724138</td>\n",
       "    </tr>\n",
       "    <tr>\n",
       "      <th>3137</th>\n",
       "      <td>0.724138</td>\n",
       "    </tr>\n",
       "    <tr>\n",
       "      <th>443</th>\n",
       "      <td>0.724138</td>\n",
       "    </tr>\n",
       "    <tr>\n",
       "      <th>1390</th>\n",
       "      <td>0.724138</td>\n",
       "    </tr>\n",
       "    <tr>\n",
       "      <th>303</th>\n",
       "      <td>0.724138</td>\n",
       "    </tr>\n",
       "    <tr>\n",
       "      <th>304</th>\n",
       "      <td>0.724138</td>\n",
       "    </tr>\n",
       "    <tr>\n",
       "      <th>308</th>\n",
       "      <td>0.724138</td>\n",
       "    </tr>\n",
       "    <tr>\n",
       "      <th>742</th>\n",
       "      <td>0.724138</td>\n",
       "    </tr>\n",
       "    <tr>\n",
       "      <th>256</th>\n",
       "      <td>0.724138</td>\n",
       "    </tr>\n",
       "    <tr>\n",
       "      <th>423</th>\n",
       "      <td>0.724138</td>\n",
       "    </tr>\n",
       "    <tr>\n",
       "      <th>316</th>\n",
       "      <td>0.724138</td>\n",
       "    </tr>\n",
       "    <tr>\n",
       "      <th>450</th>\n",
       "      <td>0.724138</td>\n",
       "    </tr>\n",
       "    <tr>\n",
       "      <th>321</th>\n",
       "      <td>0.724138</td>\n",
       "    </tr>\n",
       "    <tr>\n",
       "      <th>322</th>\n",
       "      <td>0.724138</td>\n",
       "    </tr>\n",
       "    <tr>\n",
       "      <th>418</th>\n",
       "      <td>0.724138</td>\n",
       "    </tr>\n",
       "    <tr>\n",
       "      <th>243</th>\n",
       "      <td>0.724138</td>\n",
       "    </tr>\n",
       "    <tr>\n",
       "      <th>242</th>\n",
       "      <td>0.724138</td>\n",
       "    </tr>\n",
       "    <tr>\n",
       "      <th>333</th>\n",
       "      <td>0.724138</td>\n",
       "    </tr>\n",
       "    <tr>\n",
       "      <th>454</th>\n",
       "      <td>0.724138</td>\n",
       "    </tr>\n",
       "    <tr>\n",
       "      <th>340</th>\n",
       "      <td>0.724138</td>\n",
       "    </tr>\n",
       "    <tr>\n",
       "      <th>409</th>\n",
       "      <td>0.724138</td>\n",
       "    </tr>\n",
       "    <tr>\n",
       "      <th>407</th>\n",
       "      <td>0.724138</td>\n",
       "    </tr>\n",
       "    <tr>\n",
       "      <th>298</th>\n",
       "      <td>0.724138</td>\n",
       "    </tr>\n",
       "  </tbody>\n",
       "</table>\n",
       "<p>200 rows × 1 columns</p>\n",
       "</div>"
      ],
      "text/plain": [
       "      sim_score\n",
       "2105   0.242236\n",
       "3128   0.526718\n",
       "3154   0.562500\n",
       "3150   0.574803\n",
       "3141   0.587302\n",
       "398    0.612903\n",
       "3062   0.612903\n",
       "526    0.626016\n",
       "212    0.626016\n",
       "3046   0.639344\n",
       "3085   0.639344\n",
       "2      0.639344\n",
       "2992   0.652893\n",
       "3126   0.652893\n",
       "227    0.652893\n",
       "3133   0.652893\n",
       "3016   0.652893\n",
       "3118   0.652893\n",
       "142    0.652893\n",
       "180    0.652893\n",
       "417    0.666667\n",
       "330    0.666667\n",
       "3163   0.666667\n",
       "1      0.666667\n",
       "219    0.666667\n",
       "574    0.666667\n",
       "3153   0.666667\n",
       "191    0.666667\n",
       "629    0.666667\n",
       "475    0.666667\n",
       "...         ...\n",
       "2796   0.724138\n",
       "2797   0.724138\n",
       "269    0.724138\n",
       "2788   0.724138\n",
       "292    0.724138\n",
       "295    0.724138\n",
       "2803   0.724138\n",
       "204    0.724138\n",
       "3137   0.724138\n",
       "443    0.724138\n",
       "1390   0.724138\n",
       "303    0.724138\n",
       "304    0.724138\n",
       "308    0.724138\n",
       "742    0.724138\n",
       "256    0.724138\n",
       "423    0.724138\n",
       "316    0.724138\n",
       "450    0.724138\n",
       "321    0.724138\n",
       "322    0.724138\n",
       "418    0.724138\n",
       "243    0.724138\n",
       "242    0.724138\n",
       "333    0.724138\n",
       "454    0.724138\n",
       "340    0.724138\n",
       "409    0.724138\n",
       "407    0.724138\n",
       "298    0.724138\n",
       "\n",
       "[200 rows x 1 columns]"
      ]
     },
     "execution_count": 70,
     "metadata": {},
     "output_type": "execute_result"
    }
   ],
   "source": [
    "new_df.head(200)"
   ]
  },
  {
   "cell_type": "code",
   "execution_count": 71,
   "metadata": {},
   "outputs": [],
   "source": [
    "new_df = new_df.reset_index()"
   ]
  },
  {
   "cell_type": "code",
   "execution_count": 72,
   "metadata": {},
   "outputs": [
    {
     "data": {
      "text/html": [
       "<div>\n",
       "<style scoped>\n",
       "    .dataframe tbody tr th:only-of-type {\n",
       "        vertical-align: middle;\n",
       "    }\n",
       "\n",
       "    .dataframe tbody tr th {\n",
       "        vertical-align: top;\n",
       "    }\n",
       "\n",
       "    .dataframe thead th {\n",
       "        text-align: right;\n",
       "    }\n",
       "</style>\n",
       "<table border=\"1\" class=\"dataframe\">\n",
       "  <thead>\n",
       "    <tr style=\"text-align: right;\">\n",
       "      <th></th>\n",
       "      <th>index</th>\n",
       "      <th>sim_score</th>\n",
       "    </tr>\n",
       "  </thead>\n",
       "  <tbody>\n",
       "    <tr>\n",
       "      <th>0</th>\n",
       "      <td>2105</td>\n",
       "      <td>0.242236</td>\n",
       "    </tr>\n",
       "    <tr>\n",
       "      <th>1</th>\n",
       "      <td>3128</td>\n",
       "      <td>0.526718</td>\n",
       "    </tr>\n",
       "    <tr>\n",
       "      <th>2</th>\n",
       "      <td>3154</td>\n",
       "      <td>0.562500</td>\n",
       "    </tr>\n",
       "    <tr>\n",
       "      <th>3</th>\n",
       "      <td>3150</td>\n",
       "      <td>0.574803</td>\n",
       "    </tr>\n",
       "    <tr>\n",
       "      <th>4</th>\n",
       "      <td>3141</td>\n",
       "      <td>0.587302</td>\n",
       "    </tr>\n",
       "  </tbody>\n",
       "</table>\n",
       "</div>"
      ],
      "text/plain": [
       "   index  sim_score\n",
       "0   2105   0.242236\n",
       "1   3128   0.526718\n",
       "2   3154   0.562500\n",
       "3   3150   0.574803\n",
       "4   3141   0.587302"
      ]
     },
     "execution_count": 72,
     "metadata": {},
     "output_type": "execute_result"
    }
   ],
   "source": [
    "new_df.head()"
   ]
  },
  {
   "cell_type": "code",
   "execution_count": null,
   "metadata": {},
   "outputs": [],
   "source": []
  },
  {
   "cell_type": "code",
   "execution_count": 73,
   "metadata": {},
   "outputs": [],
   "source": [
    "new_df = new_df.sort_values(by=['sim_score'], ascending=False)"
   ]
  },
  {
   "cell_type": "code",
   "execution_count": 74,
   "metadata": {},
   "outputs": [
    {
     "data": {
      "text/plain": [
       "count    3178.000000\n",
       "mean        0.827942\n",
       "std         0.062565\n",
       "min         0.242236\n",
       "25%         0.785714\n",
       "50%         0.834862\n",
       "75%         0.869159\n",
       "max         1.000000\n",
       "Name: sim_score, dtype: float64"
      ]
     },
     "execution_count": 74,
     "metadata": {},
     "output_type": "execute_result"
    }
   ],
   "source": [
    "new_df.sim_score.describe()"
   ]
  },
  {
   "cell_type": "code",
   "execution_count": 75,
   "metadata": {},
   "outputs": [],
   "source": [
    "upper_bound = 0.869159 + (1.5 * (0.869159-0.785714))"
   ]
  },
  {
   "cell_type": "code",
   "execution_count": 76,
   "metadata": {},
   "outputs": [
    {
     "name": "stdout",
     "output_type": "stream",
     "text": [
      "0.9943265\n"
     ]
    }
   ],
   "source": [
    "print(upper_bound)"
   ]
  },
  {
   "cell_type": "code",
   "execution_count": 77,
   "metadata": {},
   "outputs": [
    {
     "data": {
      "text/plain": [
       "week_id                                               1977-01-01 00:00:00\n",
       "week_song_array         [Heart On My SleeveBryan Ferry, Ha Cha Cha (fu...\n",
       "prev_week_song_array    [Keep Me Cryin'Al Green, MademoiselleStyx, Los...\n",
       "Name: 961, dtype: object"
      ]
     },
     "execution_count": 77,
     "metadata": {},
     "output_type": "execute_result"
    }
   ],
   "source": [
    "weekly_array_groupby.iloc[961]"
   ]
  },
  {
   "cell_type": "code",
   "execution_count": null,
   "metadata": {},
   "outputs": [],
   "source": []
  },
  {
   "cell_type": "code",
   "execution_count": 78,
   "metadata": {},
   "outputs": [
    {
     "data": {
      "text/html": [
       "<div>\n",
       "<style scoped>\n",
       "    .dataframe tbody tr th:only-of-type {\n",
       "        vertical-align: middle;\n",
       "    }\n",
       "\n",
       "    .dataframe tbody tr th {\n",
       "        vertical-align: top;\n",
       "    }\n",
       "\n",
       "    .dataframe thead th {\n",
       "        text-align: right;\n",
       "    }\n",
       "</style>\n",
       "<table border=\"1\" class=\"dataframe\">\n",
       "  <thead>\n",
       "    <tr style=\"text-align: right;\">\n",
       "      <th></th>\n",
       "      <th>index</th>\n",
       "      <th>sim_score</th>\n",
       "    </tr>\n",
       "  </thead>\n",
       "  <tbody>\n",
       "    <tr>\n",
       "      <th>3177</th>\n",
       "      <td>0</td>\n",
       "      <td>1.000000</td>\n",
       "    </tr>\n",
       "    <tr>\n",
       "      <th>3168</th>\n",
       "      <td>1326</td>\n",
       "      <td>1.000000</td>\n",
       "    </tr>\n",
       "    <tr>\n",
       "      <th>3160</th>\n",
       "      <td>961</td>\n",
       "      <td>1.000000</td>\n",
       "    </tr>\n",
       "    <tr>\n",
       "      <th>3161</th>\n",
       "      <td>179</td>\n",
       "      <td>1.000000</td>\n",
       "    </tr>\n",
       "    <tr>\n",
       "      <th>3162</th>\n",
       "      <td>1639</td>\n",
       "      <td>1.000000</td>\n",
       "    </tr>\n",
       "    <tr>\n",
       "      <th>3163</th>\n",
       "      <td>1065</td>\n",
       "      <td>1.000000</td>\n",
       "    </tr>\n",
       "    <tr>\n",
       "      <th>3165</th>\n",
       "      <td>1170</td>\n",
       "      <td>1.000000</td>\n",
       "    </tr>\n",
       "    <tr>\n",
       "      <th>3166</th>\n",
       "      <td>1222</td>\n",
       "      <td>1.000000</td>\n",
       "    </tr>\n",
       "    <tr>\n",
       "      <th>3167</th>\n",
       "      <td>1274</td>\n",
       "      <td>1.000000</td>\n",
       "    </tr>\n",
       "    <tr>\n",
       "      <th>3164</th>\n",
       "      <td>1117</td>\n",
       "      <td>1.000000</td>\n",
       "    </tr>\n",
       "    <tr>\n",
       "      <th>3169</th>\n",
       "      <td>1378</td>\n",
       "      <td>1.000000</td>\n",
       "    </tr>\n",
       "    <tr>\n",
       "      <th>3170</th>\n",
       "      <td>1431</td>\n",
       "      <td>1.000000</td>\n",
       "    </tr>\n",
       "    <tr>\n",
       "      <th>3171</th>\n",
       "      <td>1483</td>\n",
       "      <td>1.000000</td>\n",
       "    </tr>\n",
       "    <tr>\n",
       "      <th>3172</th>\n",
       "      <td>1535</td>\n",
       "      <td>1.000000</td>\n",
       "    </tr>\n",
       "    <tr>\n",
       "      <th>3173</th>\n",
       "      <td>1587</td>\n",
       "      <td>1.000000</td>\n",
       "    </tr>\n",
       "    <tr>\n",
       "      <th>3174</th>\n",
       "      <td>1743</td>\n",
       "      <td>1.000000</td>\n",
       "    </tr>\n",
       "    <tr>\n",
       "      <th>3175</th>\n",
       "      <td>1691</td>\n",
       "      <td>1.000000</td>\n",
       "    </tr>\n",
       "    <tr>\n",
       "      <th>3176</th>\n",
       "      <td>1013</td>\n",
       "      <td>1.000000</td>\n",
       "    </tr>\n",
       "    <tr>\n",
       "      <th>3158</th>\n",
       "      <td>1536</td>\n",
       "      <td>0.980198</td>\n",
       "    </tr>\n",
       "    <tr>\n",
       "      <th>3159</th>\n",
       "      <td>2091</td>\n",
       "      <td>0.980198</td>\n",
       "    </tr>\n",
       "  </tbody>\n",
       "</table>\n",
       "</div>"
      ],
      "text/plain": [
       "      index  sim_score\n",
       "3177      0   1.000000\n",
       "3168   1326   1.000000\n",
       "3160    961   1.000000\n",
       "3161    179   1.000000\n",
       "3162   1639   1.000000\n",
       "3163   1065   1.000000\n",
       "3165   1170   1.000000\n",
       "3166   1222   1.000000\n",
       "3167   1274   1.000000\n",
       "3164   1117   1.000000\n",
       "3169   1378   1.000000\n",
       "3170   1431   1.000000\n",
       "3171   1483   1.000000\n",
       "3172   1535   1.000000\n",
       "3173   1587   1.000000\n",
       "3174   1743   1.000000\n",
       "3175   1691   1.000000\n",
       "3176   1013   1.000000\n",
       "3158   1536   0.980198\n",
       "3159   2091   0.980198"
      ]
     },
     "execution_count": 78,
     "metadata": {},
     "output_type": "execute_result"
    }
   ],
   "source": [
    "new_df.head(20)"
   ]
  },
  {
   "cell_type": "code",
   "execution_count": null,
   "metadata": {},
   "outputs": [],
   "source": []
  },
  {
   "cell_type": "code",
   "execution_count": null,
   "metadata": {},
   "outputs": [],
   "source": []
  },
  {
   "cell_type": "code",
   "execution_count": 79,
   "metadata": {},
   "outputs": [],
   "source": [
    "weekly_groupby = billboard_df.groupby('week_id').min().reset_index().reset_index()"
   ]
  },
  {
   "cell_type": "code",
   "execution_count": 80,
   "metadata": {},
   "outputs": [
    {
     "data": {
      "text/plain": [
       "(3178, 15)"
      ]
     },
     "execution_count": 80,
     "metadata": {},
     "output_type": "execute_result"
    }
   ],
   "source": [
    "weekly_groupby.shape"
   ]
  },
  {
   "cell_type": "code",
   "execution_count": 81,
   "metadata": {},
   "outputs": [
    {
     "data": {
      "text/html": [
       "<div>\n",
       "<style scoped>\n",
       "    .dataframe tbody tr th:only-of-type {\n",
       "        vertical-align: middle;\n",
       "    }\n",
       "\n",
       "    .dataframe tbody tr th {\n",
       "        vertical-align: top;\n",
       "    }\n",
       "\n",
       "    .dataframe thead th {\n",
       "        text-align: right;\n",
       "    }\n",
       "</style>\n",
       "<table border=\"1\" class=\"dataframe\">\n",
       "  <thead>\n",
       "    <tr style=\"text-align: right;\">\n",
       "      <th></th>\n",
       "      <th>index</th>\n",
       "      <th>week_id</th>\n",
       "      <th>week_position</th>\n",
       "      <th>song</th>\n",
       "      <th>performer</th>\n",
       "      <th>song_id</th>\n",
       "      <th>instance</th>\n",
       "      <th>prev_week_position</th>\n",
       "      <th>peak_position</th>\n",
       "      <th>weeks_on_chart</th>\n",
       "      <th>date</th>\n",
       "      <th>month</th>\n",
       "      <th>day</th>\n",
       "      <th>year</th>\n",
       "      <th>main_performer</th>\n",
       "    </tr>\n",
       "  </thead>\n",
       "  <tbody>\n",
       "    <tr>\n",
       "      <th>0</th>\n",
       "      <td>0</td>\n",
       "      <td>1958-08-02</td>\n",
       "      <td>1</td>\n",
       "      <td>(It's Been A Long Time) Pretty Baby</td>\n",
       "      <td>Big Bopper</td>\n",
       "      <td>(It's Been A Long Time) Pretty BabyGino &amp; Gina</td>\n",
       "      <td>1</td>\n",
       "      <td>NaN</td>\n",
       "      <td>1</td>\n",
       "      <td>1</td>\n",
       "      <td>1958-08-02</td>\n",
       "      <td>8</td>\n",
       "      <td>2</td>\n",
       "      <td>1958</td>\n",
       "      <td>Big Bopper</td>\n",
       "    </tr>\n",
       "    <tr>\n",
       "      <th>1</th>\n",
       "      <td>1</td>\n",
       "      <td>1958-08-09</td>\n",
       "      <td>1</td>\n",
       "      <td>A Certain Smile</td>\n",
       "      <td>Big Bopper</td>\n",
       "      <td>A Certain SmileJohnny Mathis</td>\n",
       "      <td>1</td>\n",
       "      <td>1.0</td>\n",
       "      <td>1</td>\n",
       "      <td>1</td>\n",
       "      <td>1958-08-09</td>\n",
       "      <td>8</td>\n",
       "      <td>9</td>\n",
       "      <td>1958</td>\n",
       "      <td>Big Bopper</td>\n",
       "    </tr>\n",
       "    <tr>\n",
       "      <th>2</th>\n",
       "      <td>2</td>\n",
       "      <td>1958-08-16</td>\n",
       "      <td>1</td>\n",
       "      <td>A Certain Smile</td>\n",
       "      <td>Betty Madigan</td>\n",
       "      <td>A Certain SmileJohnny Mathis</td>\n",
       "      <td>1</td>\n",
       "      <td>1.0</td>\n",
       "      <td>1</td>\n",
       "      <td>1</td>\n",
       "      <td>1958-08-16</td>\n",
       "      <td>8</td>\n",
       "      <td>16</td>\n",
       "      <td>1958</td>\n",
       "      <td>Betty Madigan</td>\n",
       "    </tr>\n",
       "    <tr>\n",
       "      <th>3</th>\n",
       "      <td>3</td>\n",
       "      <td>1958-08-23</td>\n",
       "      <td>1</td>\n",
       "      <td>A Certain Smile</td>\n",
       "      <td>Betty Madigan</td>\n",
       "      <td>A Certain SmileJohnny Mathis</td>\n",
       "      <td>1</td>\n",
       "      <td>1.0</td>\n",
       "      <td>1</td>\n",
       "      <td>1</td>\n",
       "      <td>1958-08-23</td>\n",
       "      <td>8</td>\n",
       "      <td>23</td>\n",
       "      <td>1958</td>\n",
       "      <td>Betty Madigan</td>\n",
       "    </tr>\n",
       "    <tr>\n",
       "      <th>4</th>\n",
       "      <td>4</td>\n",
       "      <td>1958-08-30</td>\n",
       "      <td>1</td>\n",
       "      <td>A Certain Smile</td>\n",
       "      <td>Andy Williams</td>\n",
       "      <td>A Certain SmileJohnny Mathis</td>\n",
       "      <td>1</td>\n",
       "      <td>1.0</td>\n",
       "      <td>1</td>\n",
       "      <td>1</td>\n",
       "      <td>1958-08-30</td>\n",
       "      <td>8</td>\n",
       "      <td>30</td>\n",
       "      <td>1958</td>\n",
       "      <td>Andy Williams</td>\n",
       "    </tr>\n",
       "  </tbody>\n",
       "</table>\n",
       "</div>"
      ],
      "text/plain": [
       "   index    week_id  week_position                                 song  \\\n",
       "0      0 1958-08-02              1  (It's Been A Long Time) Pretty Baby   \n",
       "1      1 1958-08-09              1                      A Certain Smile   \n",
       "2      2 1958-08-16              1                      A Certain Smile   \n",
       "3      3 1958-08-23              1                      A Certain Smile   \n",
       "4      4 1958-08-30              1                      A Certain Smile   \n",
       "\n",
       "       performer                                         song_id  instance  \\\n",
       "0     Big Bopper  (It's Been A Long Time) Pretty BabyGino & Gina         1   \n",
       "1     Big Bopper                    A Certain SmileJohnny Mathis         1   \n",
       "2  Betty Madigan                    A Certain SmileJohnny Mathis         1   \n",
       "3  Betty Madigan                    A Certain SmileJohnny Mathis         1   \n",
       "4  Andy Williams                    A Certain SmileJohnny Mathis         1   \n",
       "\n",
       "   prev_week_position  peak_position  weeks_on_chart        date  month  day  \\\n",
       "0                 NaN              1               1  1958-08-02      8    2   \n",
       "1                 1.0              1               1  1958-08-09      8    9   \n",
       "2                 1.0              1               1  1958-08-16      8   16   \n",
       "3                 1.0              1               1  1958-08-23      8   23   \n",
       "4                 1.0              1               1  1958-08-30      8   30   \n",
       "\n",
       "   year main_performer  \n",
       "0  1958     Big Bopper  \n",
       "1  1958     Big Bopper  \n",
       "2  1958  Betty Madigan  \n",
       "3  1958  Betty Madigan  \n",
       "4  1958  Andy Williams  "
      ]
     },
     "execution_count": 81,
     "metadata": {},
     "output_type": "execute_result"
    }
   ],
   "source": [
    "weekly_groupby.head()"
   ]
  },
  {
   "cell_type": "code",
   "execution_count": 82,
   "metadata": {},
   "outputs": [
    {
     "data": {
      "text/plain": [
       "index                                                              2105\n",
       "week_id                                             1998-12-05 00:00:00\n",
       "week_position                                                         1\n",
       "song                    (God Must Have Spent) A Little More Time On You\n",
       "performer                                                       'N Sync\n",
       "song_id               (God Must Have Spent) A Little More Time On Yo...\n",
       "instance                                                              1\n",
       "prev_week_position                                                    1\n",
       "peak_position                                                         1\n",
       "weeks_on_chart                                                        1\n",
       "date                                                         1998-12-05\n",
       "month                                                                12\n",
       "day                                                                   5\n",
       "year                                                               1998\n",
       "main_performer                                                  'N Sync\n",
       "Name: 2105, dtype: object"
      ]
     },
     "execution_count": 82,
     "metadata": {},
     "output_type": "execute_result"
    }
   ],
   "source": [
    "weekly_groupby.iloc[2105]"
   ]
  },
  {
   "cell_type": "code",
   "execution_count": 83,
   "metadata": {},
   "outputs": [],
   "source": [
    "weekly_groupby = weekly_groupby.drop(columns=['week_position', 'song', 'performer', 'song_id', 'instance', 'prev_week_position', 'peak_position', 'weeks_on_chart', 'date', 'month', 'day'])"
   ]
  },
  {
   "cell_type": "code",
   "execution_count": 84,
   "metadata": {},
   "outputs": [
    {
     "data": {
      "text/html": [
       "<div>\n",
       "<style scoped>\n",
       "    .dataframe tbody tr th:only-of-type {\n",
       "        vertical-align: middle;\n",
       "    }\n",
       "\n",
       "    .dataframe tbody tr th {\n",
       "        vertical-align: top;\n",
       "    }\n",
       "\n",
       "    .dataframe thead th {\n",
       "        text-align: right;\n",
       "    }\n",
       "</style>\n",
       "<table border=\"1\" class=\"dataframe\">\n",
       "  <thead>\n",
       "    <tr style=\"text-align: right;\">\n",
       "      <th></th>\n",
       "      <th>index</th>\n",
       "      <th>week_id</th>\n",
       "      <th>year</th>\n",
       "      <th>main_performer</th>\n",
       "    </tr>\n",
       "  </thead>\n",
       "  <tbody>\n",
       "    <tr>\n",
       "      <th>0</th>\n",
       "      <td>0</td>\n",
       "      <td>1958-08-02</td>\n",
       "      <td>1958</td>\n",
       "      <td>Big Bopper</td>\n",
       "    </tr>\n",
       "    <tr>\n",
       "      <th>1</th>\n",
       "      <td>1</td>\n",
       "      <td>1958-08-09</td>\n",
       "      <td>1958</td>\n",
       "      <td>Big Bopper</td>\n",
       "    </tr>\n",
       "    <tr>\n",
       "      <th>2</th>\n",
       "      <td>2</td>\n",
       "      <td>1958-08-16</td>\n",
       "      <td>1958</td>\n",
       "      <td>Betty Madigan</td>\n",
       "    </tr>\n",
       "    <tr>\n",
       "      <th>3</th>\n",
       "      <td>3</td>\n",
       "      <td>1958-08-23</td>\n",
       "      <td>1958</td>\n",
       "      <td>Betty Madigan</td>\n",
       "    </tr>\n",
       "    <tr>\n",
       "      <th>4</th>\n",
       "      <td>4</td>\n",
       "      <td>1958-08-30</td>\n",
       "      <td>1958</td>\n",
       "      <td>Andy Williams</td>\n",
       "    </tr>\n",
       "  </tbody>\n",
       "</table>\n",
       "</div>"
      ],
      "text/plain": [
       "   index    week_id  year main_performer\n",
       "0      0 1958-08-02  1958     Big Bopper\n",
       "1      1 1958-08-09  1958     Big Bopper\n",
       "2      2 1958-08-16  1958  Betty Madigan\n",
       "3      3 1958-08-23  1958  Betty Madigan\n",
       "4      4 1958-08-30  1958  Andy Williams"
      ]
     },
     "execution_count": 84,
     "metadata": {},
     "output_type": "execute_result"
    }
   ],
   "source": [
    "weekly_groupby.head()"
   ]
  },
  {
   "cell_type": "code",
   "execution_count": 85,
   "metadata": {},
   "outputs": [],
   "source": [
    "newest_df = new_df.set_index('index').join(weekly_groupby.set_index('index'))"
   ]
  },
  {
   "cell_type": "code",
   "execution_count": 86,
   "metadata": {},
   "outputs": [
    {
     "data": {
      "text/html": [
       "<div>\n",
       "<style scoped>\n",
       "    .dataframe tbody tr th:only-of-type {\n",
       "        vertical-align: middle;\n",
       "    }\n",
       "\n",
       "    .dataframe tbody tr th {\n",
       "        vertical-align: top;\n",
       "    }\n",
       "\n",
       "    .dataframe thead th {\n",
       "        text-align: right;\n",
       "    }\n",
       "</style>\n",
       "<table border=\"1\" class=\"dataframe\">\n",
       "  <thead>\n",
       "    <tr style=\"text-align: right;\">\n",
       "      <th></th>\n",
       "      <th>sim_score</th>\n",
       "      <th>week_id</th>\n",
       "      <th>year</th>\n",
       "      <th>main_performer</th>\n",
       "    </tr>\n",
       "    <tr>\n",
       "      <th>index</th>\n",
       "      <th></th>\n",
       "      <th></th>\n",
       "      <th></th>\n",
       "      <th></th>\n",
       "    </tr>\n",
       "  </thead>\n",
       "  <tbody>\n",
       "    <tr>\n",
       "      <th>0</th>\n",
       "      <td>1.0</td>\n",
       "      <td>1958-08-02</td>\n",
       "      <td>1958</td>\n",
       "      <td>Big Bopper</td>\n",
       "    </tr>\n",
       "    <tr>\n",
       "      <th>1326</th>\n",
       "      <td>1.0</td>\n",
       "      <td>1983-12-31</td>\n",
       "      <td>1983</td>\n",
       "      <td>Air Supply</td>\n",
       "    </tr>\n",
       "    <tr>\n",
       "      <th>961</th>\n",
       "      <td>1.0</td>\n",
       "      <td>1977-01-01</td>\n",
       "      <td>1977</td>\n",
       "      <td>ABBA</td>\n",
       "    </tr>\n",
       "    <tr>\n",
       "      <th>179</th>\n",
       "      <td>1.0</td>\n",
       "      <td>1962-01-06</td>\n",
       "      <td>1962</td>\n",
       "      <td>Ace Cannon</td>\n",
       "    </tr>\n",
       "    <tr>\n",
       "      <th>1639</th>\n",
       "      <td>1.0</td>\n",
       "      <td>1989-12-30</td>\n",
       "      <td>1989</td>\n",
       "      <td>Abstrac'</td>\n",
       "    </tr>\n",
       "  </tbody>\n",
       "</table>\n",
       "</div>"
      ],
      "text/plain": [
       "       sim_score    week_id  year main_performer\n",
       "index                                           \n",
       "0            1.0 1958-08-02  1958     Big Bopper\n",
       "1326         1.0 1983-12-31  1983     Air Supply\n",
       "961          1.0 1977-01-01  1977           ABBA\n",
       "179          1.0 1962-01-06  1962     Ace Cannon\n",
       "1639         1.0 1989-12-30  1989       Abstrac'"
      ]
     },
     "execution_count": 86,
     "metadata": {},
     "output_type": "execute_result"
    }
   ],
   "source": [
    "newest_df.head()"
   ]
  },
  {
   "cell_type": "code",
   "execution_count": 87,
   "metadata": {},
   "outputs": [],
   "source": [
    "yet_another_groupby = newest_df.groupby('year').mean()"
   ]
  },
  {
   "cell_type": "code",
   "execution_count": null,
   "metadata": {
    "scrolled": true
   },
   "outputs": [],
   "source": []
  },
  {
   "cell_type": "code",
   "execution_count": null,
   "metadata": {},
   "outputs": [],
   "source": []
  },
  {
   "cell_type": "code",
   "execution_count": 88,
   "metadata": {},
   "outputs": [
    {
     "data": {
      "image/png": "[encoded data removed]",
      "text/plain": [
       "<Figure size 432x288 with 1 Axes>"
      ]
     },
     "metadata": {
      "needs_background": "light"
     },
     "output_type": "display_data"
    }
   ],
   "source": [
    "\n",
    "ax = sns.boxplot(x=\"sim_score\", data=yet_another_groupby)"
   ]
  },
  {
   "cell_type": "code",
   "execution_count": 89,
   "metadata": {},
   "outputs": [
    {
     "data": {
      "text/html": [
       "<div>\n",
       "<style scoped>\n",
       "    .dataframe tbody tr th:only-of-type {\n",
       "        vertical-align: middle;\n",
       "    }\n",
       "\n",
       "    .dataframe tbody tr th {\n",
       "        vertical-align: top;\n",
       "    }\n",
       "\n",
       "    .dataframe thead th {\n",
       "        text-align: right;\n",
       "    }\n",
       "</style>\n",
       "<table border=\"1\" class=\"dataframe\">\n",
       "  <thead>\n",
       "    <tr style=\"text-align: right;\">\n",
       "      <th></th>\n",
       "      <th>sim_score</th>\n",
       "    </tr>\n",
       "    <tr>\n",
       "      <th>year</th>\n",
       "      <th></th>\n",
       "    </tr>\n",
       "  </thead>\n",
       "  <tbody>\n",
       "    <tr>\n",
       "      <th>1958</th>\n",
       "      <td>0.775468</td>\n",
       "    </tr>\n",
       "    <tr>\n",
       "      <th>1959</th>\n",
       "      <td>0.788437</td>\n",
       "    </tr>\n",
       "    <tr>\n",
       "      <th>1960</th>\n",
       "      <td>0.781908</td>\n",
       "    </tr>\n",
       "    <tr>\n",
       "      <th>1961</th>\n",
       "      <td>0.751702</td>\n",
       "    </tr>\n",
       "    <tr>\n",
       "      <th>1962</th>\n",
       "      <td>0.753737</td>\n",
       "    </tr>\n",
       "  </tbody>\n",
       "</table>\n",
       "</div>"
      ],
      "text/plain": [
       "      sim_score\n",
       "year           \n",
       "1958   0.775468\n",
       "1959   0.788437\n",
       "1960   0.781908\n",
       "1961   0.751702\n",
       "1962   0.753737"
      ]
     },
     "execution_count": 89,
     "metadata": {},
     "output_type": "execute_result"
    }
   ],
   "source": [
    "yet_another_groupby.head()"
   ]
  },
  {
   "cell_type": "code",
   "execution_count": 90,
   "metadata": {},
   "outputs": [],
   "source": [
    "yet_another_groupby = yet_another_groupby.reset_index()"
   ]
  },
  {
   "cell_type": "code",
   "execution_count": 91,
   "metadata": {},
   "outputs": [
    {
     "data": {
      "text/html": [
       "<div>\n",
       "<style scoped>\n",
       "    .dataframe tbody tr th:only-of-type {\n",
       "        vertical-align: middle;\n",
       "    }\n",
       "\n",
       "    .dataframe tbody tr th {\n",
       "        vertical-align: top;\n",
       "    }\n",
       "\n",
       "    .dataframe thead th {\n",
       "        text-align: right;\n",
       "    }\n",
       "</style>\n",
       "<table border=\"1\" class=\"dataframe\">\n",
       "  <thead>\n",
       "    <tr style=\"text-align: right;\">\n",
       "      <th></th>\n",
       "      <th>year</th>\n",
       "      <th>sim_score</th>\n",
       "    </tr>\n",
       "  </thead>\n",
       "  <tbody>\n",
       "    <tr>\n",
       "      <th>0</th>\n",
       "      <td>1958</td>\n",
       "      <td>0.775468</td>\n",
       "    </tr>\n",
       "    <tr>\n",
       "      <th>1</th>\n",
       "      <td>1959</td>\n",
       "      <td>0.788437</td>\n",
       "    </tr>\n",
       "    <tr>\n",
       "      <th>2</th>\n",
       "      <td>1960</td>\n",
       "      <td>0.781908</td>\n",
       "    </tr>\n",
       "    <tr>\n",
       "      <th>3</th>\n",
       "      <td>1961</td>\n",
       "      <td>0.751702</td>\n",
       "    </tr>\n",
       "    <tr>\n",
       "      <th>4</th>\n",
       "      <td>1962</td>\n",
       "      <td>0.753737</td>\n",
       "    </tr>\n",
       "  </tbody>\n",
       "</table>\n",
       "</div>"
      ],
      "text/plain": [
       "   year  sim_score\n",
       "0  1958   0.775468\n",
       "1  1959   0.788437\n",
       "2  1960   0.781908\n",
       "3  1961   0.751702\n",
       "4  1962   0.753737"
      ]
     },
     "execution_count": 91,
     "metadata": {},
     "output_type": "execute_result"
    }
   ],
   "source": [
    "yet_another_groupby.head()"
   ]
  },
  {
   "cell_type": "code",
   "execution_count": 92,
   "metadata": {},
   "outputs": [
    {
     "data": {
      "text/plain": [
       "count    62.000000\n",
       "mean      0.827033\n",
       "std       0.044419\n",
       "min       0.746958\n",
       "25%       0.790135\n",
       "50%       0.836035\n",
       "75%       0.863189\n",
       "max       0.889652\n",
       "Name: sim_score, dtype: float64"
      ]
     },
     "execution_count": 92,
     "metadata": {},
     "output_type": "execute_result"
    }
   ],
   "source": [
    "yet_another_groupby.sim_score.describe()"
   ]
  },
  {
   "cell_type": "code",
   "execution_count": null,
   "metadata": {},
   "outputs": [],
   "source": []
  },
  {
   "cell_type": "code",
   "execution_count": null,
   "metadata": {},
   "outputs": [],
   "source": []
  },
  {
   "cell_type": "markdown",
   "metadata": {},
   "source": [
    "# Ok, yet_another_groupby is our groupby for plotting. Let's make some nice plots."
   ]
  },
  {
   "cell_type": "code",
   "execution_count": 93,
   "metadata": {},
   "outputs": [
    {
     "data": {
      "image/png": "[encoded data removed]",
      "text/plain": [
       "<Figure size 720x432 with 1 Axes>"
      ]
     },
     "metadata": {
      "needs_background": "light"
     },
     "output_type": "display_data"
    }
   ],
   "source": [
    "plt.figure(figsize=(10, 6))\n",
    "plt.scatter('year', 'sim_score', data = yet_another_groupby, s=10, label='Similarity Score')\n",
    "#plt.hlines(y=25, xmin = 0, xmax = 250, color = 'orange')\n",
    "#plt.hlines(y=30, xmin = 0, xmax = 250, color = 'red')\n",
    "plt.xlim(1955, 2021)\n",
    "plt.ylim(0, 1)\n",
    "#plt.annotate(s = 'overweight', xy = (0, 25))\n",
    "#plt.annotate(s = 'obese', xy = (0, 30))\n",
    "plt.hlines(y=.827, xmin = 1957, xmax = 2025, color = 'red')\n",
    "\n",
    "plt.annotate(s = 'mean = 0.83', xy = (1956,.84))\n",
    "plt.xlabel('Year')\n",
    "plt.ylabel('Similarity Score')\n",
    "\n",
    "plt.title('Jaccard Similarity Score: Weekly Homogeneity');\n",
    "\n",
    "plt.legend(loc='lower right');"
   ]
  },
  {
   "cell_type": "code",
   "execution_count": null,
   "metadata": {},
   "outputs": [],
   "source": []
  },
  {
   "cell_type": "code",
   "execution_count": null,
   "metadata": {},
   "outputs": [],
   "source": []
  },
  {
   "cell_type": "code",
   "execution_count": null,
   "metadata": {},
   "outputs": [],
   "source": []
  },
  {
   "cell_type": "markdown",
   "metadata": {},
   "source": [
    "# Ok, now let's make a decades grouping for our boxplots"
   ]
  },
  {
   "cell_type": "code",
   "execution_count": 94,
   "metadata": {},
   "outputs": [],
   "source": [
    "yet_another_groupby['decade'] = yet_another_groupby.year//10*10"
   ]
  },
  {
   "cell_type": "code",
   "execution_count": 95,
   "metadata": {},
   "outputs": [],
   "source": [
    "yet_another_groupby['decade_str'] = yet_another_groupby.decade.astype(str) + 's'"
   ]
  },
  {
   "cell_type": "code",
   "execution_count": 96,
   "metadata": {},
   "outputs": [],
   "source": [
    "yet_another_groupby = yet_another_groupby.sort_values(by=['decade_str'], ascending=True)"
   ]
  },
  {
   "cell_type": "code",
   "execution_count": 97,
   "metadata": {},
   "outputs": [
    {
     "data": {
      "text/html": [
       "<div>\n",
       "<style scoped>\n",
       "    .dataframe tbody tr th:only-of-type {\n",
       "        vertical-align: middle;\n",
       "    }\n",
       "\n",
       "    .dataframe tbody tr th {\n",
       "        vertical-align: top;\n",
       "    }\n",
       "\n",
       "    .dataframe thead th {\n",
       "        text-align: right;\n",
       "    }\n",
       "</style>\n",
       "<table border=\"1\" class=\"dataframe\">\n",
       "  <thead>\n",
       "    <tr style=\"text-align: right;\">\n",
       "      <th></th>\n",
       "      <th>year</th>\n",
       "      <th>sim_score</th>\n",
       "      <th>decade</th>\n",
       "      <th>decade_str</th>\n",
       "    </tr>\n",
       "  </thead>\n",
       "  <tbody>\n",
       "    <tr>\n",
       "      <th>0</th>\n",
       "      <td>1958</td>\n",
       "      <td>0.775468</td>\n",
       "      <td>1950</td>\n",
       "      <td>1950s</td>\n",
       "    </tr>\n",
       "    <tr>\n",
       "      <th>1</th>\n",
       "      <td>1959</td>\n",
       "      <td>0.788437</td>\n",
       "      <td>1950</td>\n",
       "      <td>1950s</td>\n",
       "    </tr>\n",
       "    <tr>\n",
       "      <th>11</th>\n",
       "      <td>1969</td>\n",
       "      <td>0.767304</td>\n",
       "      <td>1960</td>\n",
       "      <td>1960s</td>\n",
       "    </tr>\n",
       "    <tr>\n",
       "      <th>10</th>\n",
       "      <td>1968</td>\n",
       "      <td>0.766407</td>\n",
       "      <td>1960</td>\n",
       "      <td>1960s</td>\n",
       "    </tr>\n",
       "    <tr>\n",
       "      <th>9</th>\n",
       "      <td>1967</td>\n",
       "      <td>0.746958</td>\n",
       "      <td>1960</td>\n",
       "      <td>1960s</td>\n",
       "    </tr>\n",
       "  </tbody>\n",
       "</table>\n",
       "</div>"
      ],
      "text/plain": [
       "    year  sim_score  decade decade_str\n",
       "0   1958   0.775468    1950      1950s\n",
       "1   1959   0.788437    1950      1950s\n",
       "11  1969   0.767304    1960      1960s\n",
       "10  1968   0.766407    1960      1960s\n",
       "9   1967   0.746958    1960      1960s"
      ]
     },
     "execution_count": 97,
     "metadata": {},
     "output_type": "execute_result"
    }
   ],
   "source": [
    "yet_another_groupby.head()"
   ]
  },
  {
   "cell_type": "code",
   "execution_count": 98,
   "metadata": {},
   "outputs": [],
   "source": [
    "yet_another_groupby['decade_str'] = yet_another_groupby['decade_str'].str.replace('1950s','1960s')"
   ]
  },
  {
   "cell_type": "code",
   "execution_count": 141,
   "metadata": {},
   "outputs": [
    {
     "data": {
      "text/plain": [
       "Text(0, 0.5, 'Similarity Score')"
      ]
     },
     "execution_count": 141,
     "metadata": {},
     "output_type": "execute_result"
    },
    {
     "data": {
      "image/png": "[encoded data removed]",
      "text/plain": [
       "<Figure size 432x288 with 1 Axes>"
      ]
     },
     "metadata": {
      "needs_background": "light"
     },
     "output_type": "display_data"
    }
   ],
   "source": [
    "eda_boxplot = sns.boxplot(y=\"sim_score\", x = \"decade_str\", data=yet_another_groupby)\n",
    "plt.title('Similarity Score by Decade, 1958-2019')\n",
    "\n",
    "#plt.xlim(1955, 2021)\n",
    "plt.ylim(0, 1)\n",
    "\n",
    "plt.xlabel('Decade')\n",
    "plt.ylabel('Similarity Score')\n"
   ]
  },
  {
   "cell_type": "code",
   "execution_count": null,
   "metadata": {},
   "outputs": [],
   "source": []
  },
  {
   "cell_type": "code",
   "execution_count": null,
   "metadata": {},
   "outputs": [],
   "source": []
  },
  {
   "cell_type": "code",
   "execution_count": null,
   "metadata": {},
   "outputs": [],
   "source": []
  },
  {
   "cell_type": "code",
   "execution_count": null,
   "metadata": {},
   "outputs": [],
   "source": []
  },
  {
   "cell_type": "code",
   "execution_count": null,
   "metadata": {},
   "outputs": [],
   "source": []
  },
  {
   "cell_type": "markdown",
   "metadata": {},
   "source": [
    "# Note: everything below here is by quintile, which I'm not using"
   ]
  },
  {
   "cell_type": "code",
   "execution_count": 100,
   "metadata": {},
   "outputs": [
    {
     "name": "stderr",
     "output_type": "stream",
     "text": [
      "C:\\Users\\dingw\\Anaconda3_new\\lib\\site-packages\\numpy\\core\\fromnumeric.py:2389: FutureWarning: Method .ptp is deprecated and will be removed in a future version. Use numpy.ptp instead.\n",
      "  return ptp(axis=axis, out=out, **kwargs)\n"
     ]
    },
    {
     "data": {
      "text/html": [
       "<table class=\"simpletable\">\n",
       "<caption>OLS Regression Results</caption>\n",
       "<tr>\n",
       "  <th>Dep. Variable:</th>        <td>sim_score</td>    <th>  R-squared:         </th> <td>   0.236</td>\n",
       "</tr>\n",
       "<tr>\n",
       "  <th>Model:</th>                   <td>OLS</td>       <th>  Adj. R-squared:    </th> <td>   0.223</td>\n",
       "</tr>\n",
       "<tr>\n",
       "  <th>Method:</th>             <td>Least Squares</td>  <th>  F-statistic:       </th> <td>   18.53</td>\n",
       "</tr>\n",
       "<tr>\n",
       "  <th>Date:</th>             <td>Wed, 08 Jan 2020</td> <th>  Prob (F-statistic):</th> <td>6.28e-05</td>\n",
       "</tr>\n",
       "<tr>\n",
       "  <th>Time:</th>                 <td>11:20:33</td>     <th>  Log-Likelihood:    </th> <td>  113.95</td>\n",
       "</tr>\n",
       "<tr>\n",
       "  <th>No. Observations:</th>      <td>    62</td>      <th>  AIC:               </th> <td>  -223.9</td>\n",
       "</tr>\n",
       "<tr>\n",
       "  <th>Df Residuals:</th>          <td>    60</td>      <th>  BIC:               </th> <td>  -219.6</td>\n",
       "</tr>\n",
       "<tr>\n",
       "  <th>Df Model:</th>              <td>     1</td>      <th>                     </th>     <td> </td>   \n",
       "</tr>\n",
       "<tr>\n",
       "  <th>Covariance Type:</th>      <td>nonrobust</td>    <th>                     </th>     <td> </td>   \n",
       "</tr>\n",
       "</table>\n",
       "<table class=\"simpletable\">\n",
       "<tr>\n",
       "    <td></td>       <th>coef</th>     <th>std err</th>      <th>t</th>      <th>P>|t|</th>  <th>[0.025</th>    <th>0.975]</th>  \n",
       "</tr>\n",
       "<tr>\n",
       "  <th>const</th> <td>   -1.5511</td> <td>    0.552</td> <td>   -2.808</td> <td> 0.007</td> <td>   -2.656</td> <td>   -0.446</td>\n",
       "</tr>\n",
       "<tr>\n",
       "  <th>year</th>  <td>    0.0012</td> <td>    0.000</td> <td>    4.305</td> <td> 0.000</td> <td>    0.001</td> <td>    0.002</td>\n",
       "</tr>\n",
       "</table>\n",
       "<table class=\"simpletable\">\n",
       "<tr>\n",
       "  <th>Omnibus:</th>       <td> 4.979</td> <th>  Durbin-Watson:     </th> <td>   0.514</td>\n",
       "</tr>\n",
       "<tr>\n",
       "  <th>Prob(Omnibus):</th> <td> 0.083</td> <th>  Jarque-Bera (JB):  </th> <td>   4.242</td>\n",
       "</tr>\n",
       "<tr>\n",
       "  <th>Skew:</th>          <td>-0.545</td> <th>  Prob(JB):          </th> <td>   0.120</td>\n",
       "</tr>\n",
       "<tr>\n",
       "  <th>Kurtosis:</th>      <td> 2.325</td> <th>  Cond. No.          </th> <td>2.21e+05</td>\n",
       "</tr>\n",
       "</table><br/><br/>Warnings:<br/>[1] Standard Errors assume that the covariance matrix of the errors is correctly specified.<br/>[2] The condition number is large, 2.21e+05. This might indicate that there are<br/>strong multicollinearity or other numerical problems."
      ],
      "text/plain": [
       "<class 'statsmodels.iolib.summary.Summary'>\n",
       "\"\"\"\n",
       "                            OLS Regression Results                            \n",
       "==============================================================================\n",
       "Dep. Variable:              sim_score   R-squared:                       0.236\n",
       "Model:                            OLS   Adj. R-squared:                  0.223\n",
       "Method:                 Least Squares   F-statistic:                     18.53\n",
       "Date:                Wed, 08 Jan 2020   Prob (F-statistic):           6.28e-05\n",
       "Time:                        11:20:33   Log-Likelihood:                 113.95\n",
       "No. Observations:                  62   AIC:                            -223.9\n",
       "Df Residuals:                      60   BIC:                            -219.6\n",
       "Df Model:                           1                                         \n",
       "Covariance Type:            nonrobust                                         \n",
       "==============================================================================\n",
       "                 coef    std err          t      P>|t|      [0.025      0.975]\n",
       "------------------------------------------------------------------------------\n",
       "const         -1.5511      0.552     -2.808      0.007      -2.656      -0.446\n",
       "year           0.0012      0.000      4.305      0.000       0.001       0.002\n",
       "==============================================================================\n",
       "Omnibus:                        4.979   Durbin-Watson:                   0.514\n",
       "Prob(Omnibus):                  0.083   Jarque-Bera (JB):                4.242\n",
       "Skew:                          -0.545   Prob(JB):                        0.120\n",
       "Kurtosis:                       2.325   Cond. No.                     2.21e+05\n",
       "==============================================================================\n",
       "\n",
       "Warnings:\n",
       "[1] Standard Errors assume that the covariance matrix of the errors is correctly specified.\n",
       "[2] The condition number is large, 2.21e+05. This might indicate that there are\n",
       "strong multicollinearity or other numerical problems.\n",
       "\"\"\""
      ]
     },
     "execution_count": 100,
     "metadata": {},
     "output_type": "execute_result"
    }
   ],
   "source": [
    "\n",
    "\n",
    "X = yet_another_groupby[\"year\"] ## X usually means our input variables (or independent variables)\n",
    "y = yet_another_groupby[\"sim_score\"] ## Y usually means our output/dependent variable\n",
    "X = sm.add_constant(X) ## let's add an intercept (beta_0) to our model\n",
    "\n",
    "# Note the difference in argument order\n",
    "model = sm.OLS(y, X).fit() ## sm.OLS(output, input)\n",
    "predictions = model.predict(X)\n",
    "\n",
    "# Print out the statistics\n",
    "model.summary()"
   ]
  },
  {
   "cell_type": "code",
   "execution_count": 101,
   "metadata": {},
   "outputs": [],
   "source": [
    "first_quintile_df = billboard_df[(billboard_df.week_position >= 1) & (billboard_df.week_position <= 20)]\n",
    "second_quintile_df = billboard_df[(billboard_df.week_position >= 21) & (billboard_df.week_position <= 40)]\n",
    "third_quintile_df = billboard_df[(billboard_df.week_position >= 41) & (billboard_df.week_position <= 60)]\n",
    "fourth_quintile_df = billboard_df[(billboard_df.week_position >= 61) & (billboard_df.week_position <= 80)]\n",
    "fifth_quintile_df = billboard_df[(billboard_df.week_position >= 81) & (billboard_df.week_position <= 100)]"
   ]
  },
  {
   "cell_type": "code",
   "execution_count": 102,
   "metadata": {},
   "outputs": [],
   "source": [
    "first_quintile_weekly_array_groupby = first_quintile_df.groupby('week_id').song_id.unique().reset_index()\n",
    "second_quintile_weekly_array_groupby = second_quintile_df.groupby('week_id').song_id.unique().reset_index()\n",
    "third_quintile_weekly_array_groupby = third_quintile_df.groupby('week_id').song_id.unique().reset_index()\n",
    "fourth_quintile_weekly_array_groupby = fourth_quintile_df.groupby('week_id').song_id.unique().reset_index()\n",
    "fifth_quintile_weekly_array_groupby =fifth_quintile_df.groupby('week_id').song_id.unique().reset_index()"
   ]
  },
  {
   "cell_type": "code",
   "execution_count": 103,
   "metadata": {},
   "outputs": [],
   "source": [
    "first_quintile_weekly_array_groupby = first_quintile_weekly_array_groupby.rename(columns={\"song_id\": \"week_song_array\"})\n",
    "second_quintile_weekly_array_groupby = second_quintile_weekly_array_groupby.rename(columns={\"song_id\": \"week_song_array\"})\n",
    "third_quintile_weekly_array_groupby = third_quintile_weekly_array_groupby.rename(columns={\"song_id\": \"week_song_array\"})\n",
    "fourth_quintile_weekly_array_groupby = fourth_quintile_weekly_array_groupby.rename(columns={\"song_id\": \"week_song_array\"})\n",
    "fifth_quintile_weekly_array_groupby = fifth_quintile_weekly_array_groupby.rename(columns={\"song_id\": \"week_song_array\"})"
   ]
  },
  {
   "cell_type": "code",
   "execution_count": 104,
   "metadata": {},
   "outputs": [],
   "source": [
    "first_quintile_weekly_array_groupby['prev_week_song_array'] = first_quintile_weekly_array_groupby['week_song_array'].shift(periods=1)\n",
    "\n",
    "second_quintile_weekly_array_groupby['prev_week_song_array'] = second_quintile_weekly_array_groupby['week_song_array'].shift(periods=1)\n",
    "third_quintile_weekly_array_groupby['prev_week_song_array'] = third_quintile_weekly_array_groupby['week_song_array'].shift(periods=1)\n",
    "fourth_quintile_weekly_array_groupby['prev_week_song_array'] = fourth_quintile_weekly_array_groupby['week_song_array'].shift(periods=1)\n",
    "fifth_quintile_weekly_array_groupby['prev_week_song_array'] = fifth_quintile_weekly_array_groupby['week_song_array'].shift(periods=1)\n",
    "\n",
    "\n"
   ]
  },
  {
   "cell_type": "code",
   "execution_count": 105,
   "metadata": {},
   "outputs": [],
   "source": [
    "first_new_df = first_quintile_weekly_array_groupby.apply(similarity_func_two, axis=1).to_frame()\n",
    "second_new_df = second_quintile_weekly_array_groupby.apply(similarity_func_two, axis=1).to_frame()\n",
    "third_new_df = third_quintile_weekly_array_groupby.apply(similarity_func_two, axis=1).to_frame()\n",
    "fourth_new_df = fourth_quintile_weekly_array_groupby.apply(similarity_func_two, axis=1).to_frame()\n",
    "fifth_new_df = fifth_quintile_weekly_array_groupby.apply(similarity_func_two, axis=1).to_frame()"
   ]
  },
  {
   "cell_type": "code",
   "execution_count": 106,
   "metadata": {},
   "outputs": [],
   "source": [
    "first_new_df.columns = [\"sim_score\"]\n",
    "second_new_df.columns = [\"sim_score\"]\n",
    "third_new_df.columns = [\"sim_score\"]\n",
    "fourth_new_df.columns = [\"sim_score\"]\n",
    "fifth_new_df.columns = [\"sim_score\"]"
   ]
  },
  {
   "cell_type": "code",
   "execution_count": 107,
   "metadata": {},
   "outputs": [],
   "source": [
    "first_quintile_weekly_groupby = first_quintile_df.groupby('week_id').min().reset_index().reset_index()\n",
    "second_quintile_weekly_groupby = second_quintile_df.groupby('week_id').min().reset_index().reset_index()\n",
    "third_quintile_weekly_groupby = third_quintile_df.groupby('week_id').min().reset_index().reset_index()\n",
    "fourth_quintile_weekly_groupby = fourth_quintile_df.groupby('week_id').min().reset_index().reset_index()\n",
    "fifth_quintile_weekly_groupby = fifth_quintile_df.groupby('week_id').min().reset_index().reset_index()\n"
   ]
  },
  {
   "cell_type": "code",
   "execution_count": 108,
   "metadata": {},
   "outputs": [],
   "source": [
    "first_new_df = first_new_df.reset_index()\n",
    "second_new_df = second_new_df.reset_index()\n",
    "third_new_df = third_new_df.reset_index()\n",
    "fourth_new_df = fourth_new_df.reset_index()\n",
    "fifth_new_df = fifth_new_df.reset_index()"
   ]
  },
  {
   "cell_type": "code",
   "execution_count": 109,
   "metadata": {},
   "outputs": [],
   "source": [
    "first_quintile_weekly_groupby = first_quintile_weekly_groupby.drop(columns=['week_position', 'song', 'performer', 'song_id', 'instance', 'prev_week_position', 'peak_position', 'weeks_on_chart', 'date', 'month', 'day'])\n",
    "second_quintile_weekly_groupby = second_quintile_weekly_groupby.drop(columns=['week_position', 'song', 'performer', 'song_id', 'instance', 'prev_week_position', 'peak_position', 'weeks_on_chart', 'date', 'month', 'day'])\n",
    "third_quintile_weekly_groupby = third_quintile_weekly_groupby.drop(columns=['week_position', 'song', 'performer', 'song_id', 'instance', 'prev_week_position', 'peak_position', 'weeks_on_chart', 'date', 'month', 'day'])\n",
    "fourth_quintile_weekly_groupby = fourth_quintile_weekly_groupby.drop(columns=['week_position', 'song', 'performer', 'song_id', 'instance', 'prev_week_position', 'peak_position', 'weeks_on_chart', 'date', 'month', 'day'])\n",
    "fifth_quintile_weekly_groupby = fifth_quintile_weekly_groupby.drop(columns=['week_position', 'song', 'performer', 'song_id', 'instance', 'prev_week_position', 'peak_position', 'weeks_on_chart', 'date', 'month', 'day'])"
   ]
  },
  {
   "cell_type": "code",
   "execution_count": 110,
   "metadata": {},
   "outputs": [],
   "source": [
    "first_quintile_newest_df = first_new_df.set_index('index').join(first_quintile_weekly_groupby.set_index('index'))\n",
    "second_quintile_newest_df = second_new_df.set_index('index').join(second_quintile_weekly_groupby.set_index('index'))\n",
    "third_quintile_newest_df = third_new_df.set_index('index').join(third_quintile_weekly_groupby.set_index('index'))\n",
    "fourth_quintile_newest_df = fourth_new_df.set_index('index').join(fourth_quintile_weekly_groupby.set_index('index'))\n",
    "fifth_quintile_newest_df = fifth_new_df.set_index('index').join(fifth_quintile_weekly_groupby.set_index('index'))"
   ]
  },
  {
   "cell_type": "code",
   "execution_count": 111,
   "metadata": {},
   "outputs": [],
   "source": [
    "first_quintile_yet_another_groupby = first_quintile_newest_df.groupby('year').mean()\n",
    "second_quintile_yet_another_groupby = second_quintile_newest_df.groupby('year').mean()\n",
    "third_quintile_yet_another_groupby = third_quintile_newest_df.groupby('year').mean()\n",
    "fourth_quintile_yet_another_groupby = fourth_quintile_newest_df.groupby('year').mean()\n",
    "fifth_quintile_yet_another_groupby = fifth_quintile_newest_df.groupby('year').mean()"
   ]
  },
  {
   "cell_type": "code",
   "execution_count": 143,
   "metadata": {},
   "outputs": [
    {
     "data": {
      "text/html": [
       "<div>\n",
       "<style scoped>\n",
       "    .dataframe tbody tr th:only-of-type {\n",
       "        vertical-align: middle;\n",
       "    }\n",
       "\n",
       "    .dataframe tbody tr th {\n",
       "        vertical-align: top;\n",
       "    }\n",
       "\n",
       "    .dataframe thead th {\n",
       "        text-align: right;\n",
       "    }\n",
       "</style>\n",
       "<table border=\"1\" class=\"dataframe\">\n",
       "  <thead>\n",
       "    <tr style=\"text-align: right;\">\n",
       "      <th></th>\n",
       "      <th>year</th>\n",
       "      <th>sim_score</th>\n",
       "    </tr>\n",
       "  </thead>\n",
       "  <tbody>\n",
       "    <tr>\n",
       "      <th>0</th>\n",
       "      <td>1958</td>\n",
       "      <td>0.752485</td>\n",
       "    </tr>\n",
       "    <tr>\n",
       "      <th>1</th>\n",
       "      <td>1959</td>\n",
       "      <td>0.744198</td>\n",
       "    </tr>\n",
       "    <tr>\n",
       "      <th>2</th>\n",
       "      <td>1960</td>\n",
       "      <td>0.750144</td>\n",
       "    </tr>\n",
       "    <tr>\n",
       "      <th>3</th>\n",
       "      <td>1961</td>\n",
       "      <td>0.713682</td>\n",
       "    </tr>\n",
       "    <tr>\n",
       "      <th>4</th>\n",
       "      <td>1962</td>\n",
       "      <td>0.717183</td>\n",
       "    </tr>\n",
       "  </tbody>\n",
       "</table>\n",
       "</div>"
      ],
      "text/plain": [
       "   year  sim_score\n",
       "0  1958   0.752485\n",
       "1  1959   0.744198\n",
       "2  1960   0.750144\n",
       "3  1961   0.713682\n",
       "4  1962   0.717183"
      ]
     },
     "execution_count": 143,
     "metadata": {},
     "output_type": "execute_result"
    }
   ],
   "source": [
    "first_quintile_yet_another_groupby.head()"
   ]
  },
  {
   "cell_type": "code",
   "execution_count": null,
   "metadata": {},
   "outputs": [],
   "source": []
  },
  {
   "cell_type": "code",
   "execution_count": 142,
   "metadata": {},
   "outputs": [
    {
     "data": {
      "text/plain": [
       "(0, 1)"
      ]
     },
     "execution_count": 142,
     "metadata": {},
     "output_type": "execute_result"
    },
    {
     "data": {
      "image/png": "[encoded data removed]",
      "text/plain": [
       "<Figure size 432x288 with 1 Axes>"
      ]
     },
     "metadata": {
      "needs_background": "light"
     },
     "output_type": "display_data"
    }
   ],
   "source": [
    "first_quintile_yet_another_groupby.plot()\n",
    "plt.ylim(0,1)"
   ]
  },
  {
   "cell_type": "code",
   "execution_count": 113,
   "metadata": {},
   "outputs": [
    {
     "data": {
      "text/plain": [
       "<matplotlib.axes._subplots.AxesSubplot at 0x15da6fc0f28>"
      ]
     },
     "execution_count": 113,
     "metadata": {},
     "output_type": "execute_result"
    },
    {
     "data": {
      "image/png": "[encoded data removed]",
      "text/plain": [
       "<Figure size 432x288 with 1 Axes>"
      ]
     },
     "metadata": {
      "needs_background": "light"
     },
     "output_type": "display_data"
    }
   ],
   "source": [
    "second_quintile_yet_another_groupby.plot()"
   ]
  },
  {
   "cell_type": "code",
   "execution_count": 114,
   "metadata": {},
   "outputs": [
    {
     "data": {
      "text/plain": [
       "<matplotlib.axes._subplots.AxesSubplot at 0x15da2574b38>"
      ]
     },
     "execution_count": 114,
     "metadata": {},
     "output_type": "execute_result"
    },
    {
     "data": {
      "image/png": "[encoded data removed]",
      "text/plain": [
       "<Figure size 432x288 with 1 Axes>"
      ]
     },
     "metadata": {
      "needs_background": "light"
     },
     "output_type": "display_data"
    }
   ],
   "source": [
    "third_quintile_yet_another_groupby.plot()"
   ]
  },
  {
   "cell_type": "code",
   "execution_count": 115,
   "metadata": {},
   "outputs": [
    {
     "data": {
      "text/plain": [
       "<matplotlib.axes._subplots.AxesSubplot at 0x15da78515c0>"
      ]
     },
     "execution_count": 115,
     "metadata": {},
     "output_type": "execute_result"
    },
    {
     "data": {
      "image/png": "[encoded data removed]",
      "text/plain": [
       "<Figure size 432x288 with 1 Axes>"
      ]
     },
     "metadata": {
      "needs_background": "light"
     },
     "output_type": "display_data"
    }
   ],
   "source": [
    "fourth_quintile_yet_another_groupby.plot()"
   ]
  },
  {
   "cell_type": "code",
   "execution_count": 116,
   "metadata": {},
   "outputs": [
    {
     "data": {
      "text/plain": [
       "<matplotlib.axes._subplots.AxesSubplot at 0x15da6e5fa90>"
      ]
     },
     "execution_count": 116,
     "metadata": {},
     "output_type": "execute_result"
    },
    {
     "data": {
      "image/png": "[encoded data removed]",
      "text/plain": [
       "<Figure size 432x288 with 1 Axes>"
      ]
     },
     "metadata": {
      "needs_background": "light"
     },
     "output_type": "display_data"
    }
   ],
   "source": [
    "fifth_quintile_yet_another_groupby.plot()"
   ]
  },
  {
   "cell_type": "code",
   "execution_count": 160,
   "metadata": {},
   "outputs": [
    {
     "data": {
      "image/png": "[encoded data removed]",
      "text/plain": [
       "<Figure size 432x288 with 1 Axes>"
      ]
     },
     "metadata": {
      "needs_background": "light"
     },
     "output_type": "display_data"
    }
   ],
   "source": [
    "\n",
    "fig = plt.figure()\n",
    "ax1 = fig.add_subplot(111)\n",
    "\n",
    "ax1.scatter(first_quintile_yet_another_groupby.year, first_quintile_yet_another_groupby.sim_score, s=10, c='b', marker=\"o\", label='Q1')\n",
    "ax1.scatter(second_quintile_yet_another_groupby.year, second_quintile_yet_another_groupby.sim_score, s=10, c='g', marker=\"o\", label='Q2')\n",
    "ax1.scatter(third_quintile_yet_another_groupby.year, third_quintile_yet_another_groupby.sim_score, s=10, c='y', marker=\"o\", label='Q3')\n",
    "ax1.scatter(fourth_quintile_yet_another_groupby.year, fourth_quintile_yet_another_groupby.sim_score, s=10, c='orange', marker=\"o\", label='Q4')\n",
    "ax1.scatter(fifth_quintile_yet_another_groupby.year, fifth_quintile_yet_another_groupby.sim_score, s=10, c='gray', marker=\"o\", label='Q5')\n",
    "\n",
    "plt.xlim(1955, 2020)\n",
    "plt.ylim(0, 1)\n",
    "#plt.hlines(y=553, xmin = 1955, xmax = 2020, color = 'red')\n",
    "#plt.hlines(y=321, xmin = 1955, xmax = 2020, color = 'purple')\n",
    "#plt.hlines(y=128, xmin = 1955, xmax = 2020, color = 'black')\n",
    "#plt.annotate(s = 'mean = 321', xy = (2020, 285))\n",
    "#plt.annotate(s = 'mean = 554', xy = (2020, 530))\n",
    "#plt.annotate(s = 'mean = 128', xy = (2020, 115))\n",
    "plt.xlabel('Year')\n",
    "\n",
    "plt.ylabel('Similarity Score')\n",
    "\n",
    "plt.title('1958-2019: Similarity Score by Quintile')\n",
    "plt.legend(loc='upper left');"
   ]
  },
  {
   "cell_type": "code",
   "execution_count": null,
   "metadata": {},
   "outputs": [],
   "source": []
  },
  {
   "cell_type": "code",
   "execution_count": null,
   "metadata": {},
   "outputs": [],
   "source": []
  },
  {
   "cell_type": "code",
   "execution_count": null,
   "metadata": {},
   "outputs": [],
   "source": []
  },
  {
   "cell_type": "code",
   "execution_count": null,
   "metadata": {},
   "outputs": [],
   "source": []
  },
  {
   "cell_type": "code",
   "execution_count": 117,
   "metadata": {},
   "outputs": [
    {
     "data": {
      "text/html": [
       "<div>\n",
       "<style scoped>\n",
       "    .dataframe tbody tr th:only-of-type {\n",
       "        vertical-align: middle;\n",
       "    }\n",
       "\n",
       "    .dataframe tbody tr th {\n",
       "        vertical-align: top;\n",
       "    }\n",
       "\n",
       "    .dataframe thead th {\n",
       "        text-align: right;\n",
       "    }\n",
       "</style>\n",
       "<table border=\"1\" class=\"dataframe\">\n",
       "  <thead>\n",
       "    <tr style=\"text-align: right;\">\n",
       "      <th></th>\n",
       "      <th>sim_score</th>\n",
       "    </tr>\n",
       "  </thead>\n",
       "  <tbody>\n",
       "    <tr>\n",
       "      <th>count</th>\n",
       "      <td>62.000000</td>\n",
       "    </tr>\n",
       "    <tr>\n",
       "      <th>mean</th>\n",
       "      <td>0.776402</td>\n",
       "    </tr>\n",
       "    <tr>\n",
       "      <th>std</th>\n",
       "      <td>0.043404</td>\n",
       "    </tr>\n",
       "    <tr>\n",
       "      <th>min</th>\n",
       "      <td>0.688983</td>\n",
       "    </tr>\n",
       "    <tr>\n",
       "      <th>25%</th>\n",
       "      <td>0.744273</td>\n",
       "    </tr>\n",
       "    <tr>\n",
       "      <th>50%</th>\n",
       "      <td>0.774210</td>\n",
       "    </tr>\n",
       "    <tr>\n",
       "      <th>75%</th>\n",
       "      <td>0.811685</td>\n",
       "    </tr>\n",
       "    <tr>\n",
       "      <th>max</th>\n",
       "      <td>0.851068</td>\n",
       "    </tr>\n",
       "  </tbody>\n",
       "</table>\n",
       "</div>"
      ],
      "text/plain": [
       "       sim_score\n",
       "count  62.000000\n",
       "mean    0.776402\n",
       "std     0.043404\n",
       "min     0.688983\n",
       "25%     0.744273\n",
       "50%     0.774210\n",
       "75%     0.811685\n",
       "max     0.851068"
      ]
     },
     "execution_count": 117,
     "metadata": {},
     "output_type": "execute_result"
    }
   ],
   "source": [
    "first_quintile_yet_another_groupby.describe()"
   ]
  },
  {
   "cell_type": "code",
   "execution_count": 118,
   "metadata": {},
   "outputs": [
    {
     "data": {
      "text/html": [
       "<div>\n",
       "<style scoped>\n",
       "    .dataframe tbody tr th:only-of-type {\n",
       "        vertical-align: middle;\n",
       "    }\n",
       "\n",
       "    .dataframe tbody tr th {\n",
       "        vertical-align: top;\n",
       "    }\n",
       "\n",
       "    .dataframe thead th {\n",
       "        text-align: right;\n",
       "    }\n",
       "</style>\n",
       "<table border=\"1\" class=\"dataframe\">\n",
       "  <thead>\n",
       "    <tr style=\"text-align: right;\">\n",
       "      <th></th>\n",
       "      <th>sim_score</th>\n",
       "    </tr>\n",
       "  </thead>\n",
       "  <tbody>\n",
       "    <tr>\n",
       "      <th>count</th>\n",
       "      <td>62.000000</td>\n",
       "    </tr>\n",
       "    <tr>\n",
       "      <th>mean</th>\n",
       "      <td>0.526362</td>\n",
       "    </tr>\n",
       "    <tr>\n",
       "      <th>std</th>\n",
       "      <td>0.083034</td>\n",
       "    </tr>\n",
       "    <tr>\n",
       "      <th>min</th>\n",
       "      <td>0.363981</td>\n",
       "    </tr>\n",
       "    <tr>\n",
       "      <th>25%</th>\n",
       "      <td>0.467340</td>\n",
       "    </tr>\n",
       "    <tr>\n",
       "      <th>50%</th>\n",
       "      <td>0.522909</td>\n",
       "    </tr>\n",
       "    <tr>\n",
       "      <th>75%</th>\n",
       "      <td>0.597858</td>\n",
       "    </tr>\n",
       "    <tr>\n",
       "      <th>max</th>\n",
       "      <td>0.669743</td>\n",
       "    </tr>\n",
       "  </tbody>\n",
       "</table>\n",
       "</div>"
      ],
      "text/plain": [
       "       sim_score\n",
       "count  62.000000\n",
       "mean    0.526362\n",
       "std     0.083034\n",
       "min     0.363981\n",
       "25%     0.467340\n",
       "50%     0.522909\n",
       "75%     0.597858\n",
       "max     0.669743"
      ]
     },
     "execution_count": 118,
     "metadata": {},
     "output_type": "execute_result"
    }
   ],
   "source": [
    "second_quintile_yet_another_groupby.describe()"
   ]
  },
  {
   "cell_type": "code",
   "execution_count": 119,
   "metadata": {},
   "outputs": [
    {
     "data": {
      "text/html": [
       "<div>\n",
       "<style scoped>\n",
       "    .dataframe tbody tr th:only-of-type {\n",
       "        vertical-align: middle;\n",
       "    }\n",
       "\n",
       "    .dataframe tbody tr th {\n",
       "        vertical-align: top;\n",
       "    }\n",
       "\n",
       "    .dataframe thead th {\n",
       "        text-align: right;\n",
       "    }\n",
       "</style>\n",
       "<table border=\"1\" class=\"dataframe\">\n",
       "  <thead>\n",
       "    <tr style=\"text-align: right;\">\n",
       "      <th></th>\n",
       "      <th>sim_score</th>\n",
       "    </tr>\n",
       "  </thead>\n",
       "  <tbody>\n",
       "    <tr>\n",
       "      <th>count</th>\n",
       "      <td>62.000000</td>\n",
       "    </tr>\n",
       "    <tr>\n",
       "      <th>mean</th>\n",
       "      <td>0.414552</td>\n",
       "    </tr>\n",
       "    <tr>\n",
       "      <th>std</th>\n",
       "      <td>0.075169</td>\n",
       "    </tr>\n",
       "    <tr>\n",
       "      <th>min</th>\n",
       "      <td>0.245952</td>\n",
       "    </tr>\n",
       "    <tr>\n",
       "      <th>25%</th>\n",
       "      <td>0.375358</td>\n",
       "    </tr>\n",
       "    <tr>\n",
       "      <th>50%</th>\n",
       "      <td>0.421916</td>\n",
       "    </tr>\n",
       "    <tr>\n",
       "      <th>75%</th>\n",
       "      <td>0.472931</td>\n",
       "    </tr>\n",
       "    <tr>\n",
       "      <th>max</th>\n",
       "      <td>0.569815</td>\n",
       "    </tr>\n",
       "  </tbody>\n",
       "</table>\n",
       "</div>"
      ],
      "text/plain": [
       "       sim_score\n",
       "count  62.000000\n",
       "mean    0.414552\n",
       "std     0.075169\n",
       "min     0.245952\n",
       "25%     0.375358\n",
       "50%     0.421916\n",
       "75%     0.472931\n",
       "max     0.569815"
      ]
     },
     "execution_count": 119,
     "metadata": {},
     "output_type": "execute_result"
    }
   ],
   "source": [
    "third_quintile_yet_another_groupby.describe()"
   ]
  },
  {
   "cell_type": "code",
   "execution_count": 120,
   "metadata": {},
   "outputs": [
    {
     "data": {
      "text/html": [
       "<div>\n",
       "<style scoped>\n",
       "    .dataframe tbody tr th:only-of-type {\n",
       "        vertical-align: middle;\n",
       "    }\n",
       "\n",
       "    .dataframe tbody tr th {\n",
       "        vertical-align: top;\n",
       "    }\n",
       "\n",
       "    .dataframe thead th {\n",
       "        text-align: right;\n",
       "    }\n",
       "</style>\n",
       "<table border=\"1\" class=\"dataframe\">\n",
       "  <thead>\n",
       "    <tr style=\"text-align: right;\">\n",
       "      <th></th>\n",
       "      <th>sim_score</th>\n",
       "    </tr>\n",
       "  </thead>\n",
       "  <tbody>\n",
       "    <tr>\n",
       "      <th>count</th>\n",
       "      <td>62.000000</td>\n",
       "    </tr>\n",
       "    <tr>\n",
       "      <th>mean</th>\n",
       "      <td>0.373816</td>\n",
       "    </tr>\n",
       "    <tr>\n",
       "      <th>std</th>\n",
       "      <td>0.075807</td>\n",
       "    </tr>\n",
       "    <tr>\n",
       "      <th>min</th>\n",
       "      <td>0.214605</td>\n",
       "    </tr>\n",
       "    <tr>\n",
       "      <th>25%</th>\n",
       "      <td>0.318253</td>\n",
       "    </tr>\n",
       "    <tr>\n",
       "      <th>50%</th>\n",
       "      <td>0.361038</td>\n",
       "    </tr>\n",
       "    <tr>\n",
       "      <th>75%</th>\n",
       "      <td>0.439918</td>\n",
       "    </tr>\n",
       "    <tr>\n",
       "      <th>max</th>\n",
       "      <td>0.542027</td>\n",
       "    </tr>\n",
       "  </tbody>\n",
       "</table>\n",
       "</div>"
      ],
      "text/plain": [
       "       sim_score\n",
       "count  62.000000\n",
       "mean    0.373816\n",
       "std     0.075807\n",
       "min     0.214605\n",
       "25%     0.318253\n",
       "50%     0.361038\n",
       "75%     0.439918\n",
       "max     0.542027"
      ]
     },
     "execution_count": 120,
     "metadata": {},
     "output_type": "execute_result"
    }
   ],
   "source": [
    "fourth_quintile_yet_another_groupby.describe()"
   ]
  },
  {
   "cell_type": "code",
   "execution_count": 121,
   "metadata": {},
   "outputs": [
    {
     "data": {
      "text/html": [
       "<div>\n",
       "<style scoped>\n",
       "    .dataframe tbody tr th:only-of-type {\n",
       "        vertical-align: middle;\n",
       "    }\n",
       "\n",
       "    .dataframe tbody tr th {\n",
       "        vertical-align: top;\n",
       "    }\n",
       "\n",
       "    .dataframe thead th {\n",
       "        text-align: right;\n",
       "    }\n",
       "</style>\n",
       "<table border=\"1\" class=\"dataframe\">\n",
       "  <thead>\n",
       "    <tr style=\"text-align: right;\">\n",
       "      <th></th>\n",
       "      <th>sim_score</th>\n",
       "    </tr>\n",
       "  </thead>\n",
       "  <tbody>\n",
       "    <tr>\n",
       "      <th>count</th>\n",
       "      <td>62.000000</td>\n",
       "    </tr>\n",
       "    <tr>\n",
       "      <th>mean</th>\n",
       "      <td>0.347247</td>\n",
       "    </tr>\n",
       "    <tr>\n",
       "      <th>std</th>\n",
       "      <td>0.096662</td>\n",
       "    </tr>\n",
       "    <tr>\n",
       "      <th>min</th>\n",
       "      <td>0.201208</td>\n",
       "    </tr>\n",
       "    <tr>\n",
       "      <th>25%</th>\n",
       "      <td>0.283953</td>\n",
       "    </tr>\n",
       "    <tr>\n",
       "      <th>50%</th>\n",
       "      <td>0.325482</td>\n",
       "    </tr>\n",
       "    <tr>\n",
       "      <th>75%</th>\n",
       "      <td>0.389364</td>\n",
       "    </tr>\n",
       "    <tr>\n",
       "      <th>max</th>\n",
       "      <td>0.585649</td>\n",
       "    </tr>\n",
       "  </tbody>\n",
       "</table>\n",
       "</div>"
      ],
      "text/plain": [
       "       sim_score\n",
       "count  62.000000\n",
       "mean    0.347247\n",
       "std     0.096662\n",
       "min     0.201208\n",
       "25%     0.283953\n",
       "50%     0.325482\n",
       "75%     0.389364\n",
       "max     0.585649"
      ]
     },
     "execution_count": 121,
     "metadata": {},
     "output_type": "execute_result"
    }
   ],
   "source": [
    "fifth_quintile_yet_another_groupby.describe()"
   ]
  },
  {
   "cell_type": "markdown",
   "metadata": {},
   "source": []
  },
  {
   "cell_type": "code",
   "execution_count": 122,
   "metadata": {},
   "outputs": [
    {
     "data": {
      "image/png": "[encoded data removed]",
      "text/plain": [
       "<Figure size 432x288 with 1 Axes>"
      ]
     },
     "metadata": {
      "needs_background": "light"
     },
     "output_type": "display_data"
    }
   ],
   "source": [
    "ax = sns.boxplot(x=\"sim_score\", data=first_quintile_yet_another_groupby)"
   ]
  },
  {
   "cell_type": "code",
   "execution_count": 123,
   "metadata": {},
   "outputs": [
    {
     "data": {
      "image/png": "[encoded data removed]",
      "text/plain": [
       "<Figure size 432x288 with 1 Axes>"
      ]
     },
     "metadata": {
      "needs_background": "light"
     },
     "output_type": "display_data"
    }
   ],
   "source": [
    "ax = sns.boxplot(x=\"sim_score\", data=second_quintile_yet_another_groupby)"
   ]
  },
  {
   "cell_type": "code",
   "execution_count": 124,
   "metadata": {},
   "outputs": [
    {
     "data": {
      "image/png": "[encoded data removed]",
      "text/plain": [
       "<Figure size 432x288 with 1 Axes>"
      ]
     },
     "metadata": {
      "needs_background": "light"
     },
     "output_type": "display_data"
    }
   ],
   "source": [
    "ax = sns.boxplot(x=\"sim_score\", data=third_quintile_yet_another_groupby)"
   ]
  },
  {
   "cell_type": "code",
   "execution_count": 125,
   "metadata": {},
   "outputs": [
    {
     "data": {
      "image/png": "[encoded data removed]",
      "text/plain": [
       "<Figure size 432x288 with 1 Axes>"
      ]
     },
     "metadata": {
      "needs_background": "light"
     },
     "output_type": "display_data"
    }
   ],
   "source": [
    "ax = sns.boxplot(x=\"sim_score\", data=fourth_quintile_yet_another_groupby)"
   ]
  },
  {
   "cell_type": "code",
   "execution_count": 126,
   "metadata": {},
   "outputs": [
    {
     "data": {
      "image/png": "[encoded data removed]",
      "text/plain": [
       "<Figure size 432x288 with 1 Axes>"
      ]
     },
     "metadata": {
      "needs_background": "light"
     },
     "output_type": "display_data"
    }
   ],
   "source": [
    "ax = sns.boxplot(x=\"sim_score\", data=fifth_quintile_yet_another_groupby)"
   ]
  },
  {
   "cell_type": "code",
   "execution_count": 127,
   "metadata": {},
   "outputs": [
    {
     "data": {
      "text/html": [
       "<div>\n",
       "<style scoped>\n",
       "    .dataframe tbody tr th:only-of-type {\n",
       "        vertical-align: middle;\n",
       "    }\n",
       "\n",
       "    .dataframe tbody tr th {\n",
       "        vertical-align: top;\n",
       "    }\n",
       "\n",
       "    .dataframe thead th {\n",
       "        text-align: right;\n",
       "    }\n",
       "</style>\n",
       "<table border=\"1\" class=\"dataframe\">\n",
       "  <thead>\n",
       "    <tr style=\"text-align: right;\">\n",
       "      <th></th>\n",
       "      <th>sim_score</th>\n",
       "    </tr>\n",
       "    <tr>\n",
       "      <th>year</th>\n",
       "      <th></th>\n",
       "    </tr>\n",
       "  </thead>\n",
       "  <tbody>\n",
       "    <tr>\n",
       "      <th>1958</th>\n",
       "      <td>0.201208</td>\n",
       "    </tr>\n",
       "    <tr>\n",
       "      <th>1959</th>\n",
       "      <td>0.208353</td>\n",
       "    </tr>\n",
       "    <tr>\n",
       "      <th>1960</th>\n",
       "      <td>0.220232</td>\n",
       "    </tr>\n",
       "    <tr>\n",
       "      <th>1961</th>\n",
       "      <td>0.230900</td>\n",
       "    </tr>\n",
       "    <tr>\n",
       "      <th>1962</th>\n",
       "      <td>0.261230</td>\n",
       "    </tr>\n",
       "  </tbody>\n",
       "</table>\n",
       "</div>"
      ],
      "text/plain": [
       "      sim_score\n",
       "year           \n",
       "1958   0.201208\n",
       "1959   0.208353\n",
       "1960   0.220232\n",
       "1961   0.230900\n",
       "1962   0.261230"
      ]
     },
     "execution_count": 127,
     "metadata": {},
     "output_type": "execute_result"
    }
   ],
   "source": [
    "fifth_quintile_yet_another_groupby.head()"
   ]
  },
  {
   "cell_type": "code",
   "execution_count": 128,
   "metadata": {},
   "outputs": [],
   "source": [
    "fifth_quintile_yet_another_groupby = fifth_quintile_yet_another_groupby.sort_values(by=['sim_score'], ascending=False)"
   ]
  },
  {
   "cell_type": "code",
   "execution_count": null,
   "metadata": {},
   "outputs": [],
   "source": []
  },
  {
   "cell_type": "code",
   "execution_count": null,
   "metadata": {},
   "outputs": [],
   "source": []
  },
  {
   "cell_type": "code",
   "execution_count": null,
   "metadata": {},
   "outputs": [],
   "source": []
  },
  {
   "cell_type": "code",
   "execution_count": null,
   "metadata": {},
   "outputs": [],
   "source": []
  },
  {
   "cell_type": "code",
   "execution_count": null,
   "metadata": {},
   "outputs": [],
   "source": []
  },
  {
   "cell_type": "code",
   "execution_count": 129,
   "metadata": {},
   "outputs": [],
   "source": [
    "first_quintile_yet_another_groupby = first_quintile_yet_another_groupby.reset_index()"
   ]
  },
  {
   "cell_type": "code",
   "execution_count": 130,
   "metadata": {},
   "outputs": [],
   "source": [
    "second_quintile_yet_another_groupby = second_quintile_yet_another_groupby.reset_index()"
   ]
  },
  {
   "cell_type": "code",
   "execution_count": 131,
   "metadata": {},
   "outputs": [],
   "source": [
    "third_quintile_yet_another_groupby = third_quintile_yet_another_groupby.reset_index()"
   ]
  },
  {
   "cell_type": "code",
   "execution_count": 132,
   "metadata": {},
   "outputs": [],
   "source": [
    "fourth_quintile_yet_another_groupby = fourth_quintile_yet_another_groupby.reset_index()"
   ]
  },
  {
   "cell_type": "code",
   "execution_count": 133,
   "metadata": {},
   "outputs": [],
   "source": [
    "fifth_quintile_yet_another_groupby = fifth_quintile_yet_another_groupby.reset_index()"
   ]
  },
  {
   "cell_type": "code",
   "execution_count": 134,
   "metadata": {},
   "outputs": [
    {
     "name": "stderr",
     "output_type": "stream",
     "text": [
      "C:\\Users\\dingw\\Anaconda3_new\\lib\\site-packages\\numpy\\core\\fromnumeric.py:2389: FutureWarning: Method .ptp is deprecated and will be removed in a future version. Use numpy.ptp instead.\n",
      "  return ptp(axis=axis, out=out, **kwargs)\n"
     ]
    },
    {
     "data": {
      "text/html": [
       "<table class=\"simpletable\">\n",
       "<caption>OLS Regression Results</caption>\n",
       "<tr>\n",
       "  <th>Dep. Variable:</th>        <td>sim_score</td>    <th>  R-squared:         </th> <td>   0.500</td>\n",
       "</tr>\n",
       "<tr>\n",
       "  <th>Model:</th>                   <td>OLS</td>       <th>  Adj. R-squared:    </th> <td>   0.492</td>\n",
       "</tr>\n",
       "<tr>\n",
       "  <th>Method:</th>             <td>Least Squares</td>  <th>  F-statistic:       </th> <td>   60.04</td>\n",
       "</tr>\n",
       "<tr>\n",
       "  <th>Date:</th>             <td>Wed, 08 Jan 2020</td> <th>  Prob (F-statistic):</th> <td>1.32e-10</td>\n",
       "</tr>\n",
       "<tr>\n",
       "  <th>Time:</th>                 <td>11:21:00</td>     <th>  Log-Likelihood:    </th> <td>  128.54</td>\n",
       "</tr>\n",
       "<tr>\n",
       "  <th>No. Observations:</th>      <td>    62</td>      <th>  AIC:               </th> <td>  -253.1</td>\n",
       "</tr>\n",
       "<tr>\n",
       "  <th>Df Residuals:</th>          <td>    60</td>      <th>  BIC:               </th> <td>  -248.8</td>\n",
       "</tr>\n",
       "<tr>\n",
       "  <th>Df Model:</th>              <td>     1</td>      <th>                     </th>     <td> </td>   \n",
       "</tr>\n",
       "<tr>\n",
       "  <th>Covariance Type:</th>      <td>nonrobust</td>    <th>                     </th>     <td> </td>   \n",
       "</tr>\n",
       "</table>\n",
       "<table class=\"simpletable\">\n",
       "<tr>\n",
       "    <td></td>       <th>coef</th>     <th>std err</th>      <th>t</th>      <th>P>|t|</th>  <th>[0.025</th>    <th>0.975]</th>  \n",
       "</tr>\n",
       "<tr>\n",
       "  <th>const</th> <td>   -2.6069</td> <td>    0.437</td> <td>   -5.970</td> <td> 0.000</td> <td>   -3.480</td> <td>   -1.733</td>\n",
       "</tr>\n",
       "<tr>\n",
       "  <th>year</th>  <td>    0.0017</td> <td>    0.000</td> <td>    7.749</td> <td> 0.000</td> <td>    0.001</td> <td>    0.002</td>\n",
       "</tr>\n",
       "</table>\n",
       "<table class=\"simpletable\">\n",
       "<tr>\n",
       "  <th>Omnibus:</th>       <td> 1.036</td> <th>  Durbin-Watson:     </th> <td>   0.585</td>\n",
       "</tr>\n",
       "<tr>\n",
       "  <th>Prob(Omnibus):</th> <td> 0.596</td> <th>  Jarque-Bera (JB):  </th> <td>   0.520</td>\n",
       "</tr>\n",
       "<tr>\n",
       "  <th>Skew:</th>          <td>-0.196</td> <th>  Prob(JB):          </th> <td>   0.771</td>\n",
       "</tr>\n",
       "<tr>\n",
       "  <th>Kurtosis:</th>      <td> 3.218</td> <th>  Cond. No.          </th> <td>2.21e+05</td>\n",
       "</tr>\n",
       "</table><br/><br/>Warnings:<br/>[1] Standard Errors assume that the covariance matrix of the errors is correctly specified.<br/>[2] The condition number is large, 2.21e+05. This might indicate that there are<br/>strong multicollinearity or other numerical problems."
      ],
      "text/plain": [
       "<class 'statsmodels.iolib.summary.Summary'>\n",
       "\"\"\"\n",
       "                            OLS Regression Results                            \n",
       "==============================================================================\n",
       "Dep. Variable:              sim_score   R-squared:                       0.500\n",
       "Model:                            OLS   Adj. R-squared:                  0.492\n",
       "Method:                 Least Squares   F-statistic:                     60.04\n",
       "Date:                Wed, 08 Jan 2020   Prob (F-statistic):           1.32e-10\n",
       "Time:                        11:21:00   Log-Likelihood:                 128.54\n",
       "No. Observations:                  62   AIC:                            -253.1\n",
       "Df Residuals:                      60   BIC:                            -248.8\n",
       "Df Model:                           1                                         \n",
       "Covariance Type:            nonrobust                                         \n",
       "==============================================================================\n",
       "                 coef    std err          t      P>|t|      [0.025      0.975]\n",
       "------------------------------------------------------------------------------\n",
       "const         -2.6069      0.437     -5.970      0.000      -3.480      -1.733\n",
       "year           0.0017      0.000      7.749      0.000       0.001       0.002\n",
       "==============================================================================\n",
       "Omnibus:                        1.036   Durbin-Watson:                   0.585\n",
       "Prob(Omnibus):                  0.596   Jarque-Bera (JB):                0.520\n",
       "Skew:                          -0.196   Prob(JB):                        0.771\n",
       "Kurtosis:                       3.218   Cond. No.                     2.21e+05\n",
       "==============================================================================\n",
       "\n",
       "Warnings:\n",
       "[1] Standard Errors assume that the covariance matrix of the errors is correctly specified.\n",
       "[2] The condition number is large, 2.21e+05. This might indicate that there are\n",
       "strong multicollinearity or other numerical problems.\n",
       "\"\"\""
      ]
     },
     "execution_count": 134,
     "metadata": {},
     "output_type": "execute_result"
    }
   ],
   "source": [
    "\n",
    "\n",
    "X = first_quintile_yet_another_groupby[\"year\"] ## X usually means our input variables (or independent variables)\n",
    "y = first_quintile_yet_another_groupby[\"sim_score\"] ## Y usually means our output/dependent variable\n",
    "X = sm.add_constant(X) ## let's add an intercept (beta_0) to our model\n",
    "\n",
    "# Note the difference in argument order\n",
    "model = sm.OLS(y, X).fit() ## sm.OLS(output, input)\n",
    "predictions = model.predict(X)\n",
    "\n",
    "# Print out the statistics\n",
    "model.summary()"
   ]
  },
  {
   "cell_type": "code",
   "execution_count": 135,
   "metadata": {},
   "outputs": [
    {
     "data": {
      "text/html": [
       "<table class=\"simpletable\">\n",
       "<caption>OLS Regression Results</caption>\n",
       "<tr>\n",
       "  <th>Dep. Variable:</th>        <td>sim_score</td>    <th>  R-squared:         </th> <td>   0.706</td>\n",
       "</tr>\n",
       "<tr>\n",
       "  <th>Model:</th>                   <td>OLS</td>       <th>  Adj. R-squared:    </th> <td>   0.701</td>\n",
       "</tr>\n",
       "<tr>\n",
       "  <th>Method:</th>             <td>Least Squares</td>  <th>  F-statistic:       </th> <td>   143.9</td>\n",
       "</tr>\n",
       "<tr>\n",
       "  <th>Date:</th>             <td>Wed, 08 Jan 2020</td> <th>  Prob (F-statistic):</th> <td>1.39e-17</td>\n",
       "</tr>\n",
       "<tr>\n",
       "  <th>Time:</th>                 <td>11:21:00</td>     <th>  Log-Likelihood:    </th> <td>  104.74</td>\n",
       "</tr>\n",
       "<tr>\n",
       "  <th>No. Observations:</th>      <td>    62</td>      <th>  AIC:               </th> <td>  -205.5</td>\n",
       "</tr>\n",
       "<tr>\n",
       "  <th>Df Residuals:</th>          <td>    60</td>      <th>  BIC:               </th> <td>  -201.2</td>\n",
       "</tr>\n",
       "<tr>\n",
       "  <th>Df Model:</th>              <td>     1</td>      <th>                     </th>     <td> </td>   \n",
       "</tr>\n",
       "<tr>\n",
       "  <th>Covariance Type:</th>      <td>nonrobust</td>    <th>                     </th>     <td> </td>   \n",
       "</tr>\n",
       "</table>\n",
       "<table class=\"simpletable\">\n",
       "<tr>\n",
       "    <td></td>       <th>coef</th>     <th>std err</th>      <th>t</th>      <th>P>|t|</th>  <th>[0.025</th>    <th>0.975]</th>  \n",
       "</tr>\n",
       "<tr>\n",
       "  <th>const</th> <td>   -7.1621</td> <td>    0.641</td> <td>  -11.175</td> <td> 0.000</td> <td>   -8.444</td> <td>   -5.880</td>\n",
       "</tr>\n",
       "<tr>\n",
       "  <th>year</th>  <td>    0.0039</td> <td>    0.000</td> <td>   11.997</td> <td> 0.000</td> <td>    0.003</td> <td>    0.005</td>\n",
       "</tr>\n",
       "</table>\n",
       "<table class=\"simpletable\">\n",
       "<tr>\n",
       "  <th>Omnibus:</th>       <td> 1.973</td> <th>  Durbin-Watson:     </th> <td>   0.465</td>\n",
       "</tr>\n",
       "<tr>\n",
       "  <th>Prob(Omnibus):</th> <td> 0.373</td> <th>  Jarque-Bera (JB):  </th> <td>   1.337</td>\n",
       "</tr>\n",
       "<tr>\n",
       "  <th>Skew:</th>          <td> 0.342</td> <th>  Prob(JB):          </th> <td>   0.512</td>\n",
       "</tr>\n",
       "<tr>\n",
       "  <th>Kurtosis:</th>      <td> 3.225</td> <th>  Cond. No.          </th> <td>2.21e+05</td>\n",
       "</tr>\n",
       "</table><br/><br/>Warnings:<br/>[1] Standard Errors assume that the covariance matrix of the errors is correctly specified.<br/>[2] The condition number is large, 2.21e+05. This might indicate that there are<br/>strong multicollinearity or other numerical problems."
      ],
      "text/plain": [
       "<class 'statsmodels.iolib.summary.Summary'>\n",
       "\"\"\"\n",
       "                            OLS Regression Results                            \n",
       "==============================================================================\n",
       "Dep. Variable:              sim_score   R-squared:                       0.706\n",
       "Model:                            OLS   Adj. R-squared:                  0.701\n",
       "Method:                 Least Squares   F-statistic:                     143.9\n",
       "Date:                Wed, 08 Jan 2020   Prob (F-statistic):           1.39e-17\n",
       "Time:                        11:21:00   Log-Likelihood:                 104.74\n",
       "No. Observations:                  62   AIC:                            -205.5\n",
       "Df Residuals:                      60   BIC:                            -201.2\n",
       "Df Model:                           1                                         \n",
       "Covariance Type:            nonrobust                                         \n",
       "==============================================================================\n",
       "                 coef    std err          t      P>|t|      [0.025      0.975]\n",
       "------------------------------------------------------------------------------\n",
       "const         -7.1621      0.641    -11.175      0.000      -8.444      -5.880\n",
       "year           0.0039      0.000     11.997      0.000       0.003       0.005\n",
       "==============================================================================\n",
       "Omnibus:                        1.973   Durbin-Watson:                   0.465\n",
       "Prob(Omnibus):                  0.373   Jarque-Bera (JB):                1.337\n",
       "Skew:                           0.342   Prob(JB):                        0.512\n",
       "Kurtosis:                       3.225   Cond. No.                     2.21e+05\n",
       "==============================================================================\n",
       "\n",
       "Warnings:\n",
       "[1] Standard Errors assume that the covariance matrix of the errors is correctly specified.\n",
       "[2] The condition number is large, 2.21e+05. This might indicate that there are\n",
       "strong multicollinearity or other numerical problems.\n",
       "\"\"\""
      ]
     },
     "execution_count": 135,
     "metadata": {},
     "output_type": "execute_result"
    }
   ],
   "source": [
    "\n",
    "\n",
    "X = second_quintile_yet_another_groupby[\"year\"] ## X usually means our input variables (or independent variables)\n",
    "y = second_quintile_yet_another_groupby[\"sim_score\"] ## Y usually means our output/dependent variable\n",
    "X = sm.add_constant(X) ## let's add an intercept (beta_0) to our model\n",
    "\n",
    "# Note the difference in argument order\n",
    "model = sm.OLS(y, X).fit() ## sm.OLS(output, input)\n",
    "predictions = model.predict(X)\n",
    "\n",
    "# Print out the statistics\n",
    "model.summary()"
   ]
  },
  {
   "cell_type": "code",
   "execution_count": 136,
   "metadata": {},
   "outputs": [
    {
     "data": {
      "text/html": [
       "<table class=\"simpletable\">\n",
       "<caption>OLS Regression Results</caption>\n",
       "<tr>\n",
       "  <th>Dep. Variable:</th>        <td>sim_score</td>    <th>  R-squared:         </th> <td>   0.575</td>\n",
       "</tr>\n",
       "<tr>\n",
       "  <th>Model:</th>                   <td>OLS</td>       <th>  Adj. R-squared:    </th> <td>   0.568</td>\n",
       "</tr>\n",
       "<tr>\n",
       "  <th>Method:</th>             <td>Least Squares</td>  <th>  F-statistic:       </th> <td>   81.07</td>\n",
       "</tr>\n",
       "<tr>\n",
       "  <th>Date:</th>             <td>Wed, 08 Jan 2020</td> <th>  Prob (F-statistic):</th> <td>9.73e-13</td>\n",
       "</tr>\n",
       "<tr>\n",
       "  <th>Time:</th>                 <td>11:21:00</td>     <th>  Log-Likelihood:    </th> <td>  99.488</td>\n",
       "</tr>\n",
       "<tr>\n",
       "  <th>No. Observations:</th>      <td>    62</td>      <th>  AIC:               </th> <td>  -195.0</td>\n",
       "</tr>\n",
       "<tr>\n",
       "  <th>Df Residuals:</th>          <td>    60</td>      <th>  BIC:               </th> <td>  -190.7</td>\n",
       "</tr>\n",
       "<tr>\n",
       "  <th>Df Model:</th>              <td>     1</td>      <th>                     </th>     <td> </td>   \n",
       "</tr>\n",
       "<tr>\n",
       "  <th>Covariance Type:</th>      <td>nonrobust</td>    <th>                     </th>     <td> </td>   \n",
       "</tr>\n",
       "</table>\n",
       "<table class=\"simpletable\">\n",
       "<tr>\n",
       "    <td></td>       <th>coef</th>     <th>std err</th>      <th>t</th>      <th>P>|t|</th>  <th>[0.025</th>    <th>0.975]</th>  \n",
       "</tr>\n",
       "<tr>\n",
       "  <th>const</th> <td>   -5.8660</td> <td>    0.698</td> <td>   -8.409</td> <td> 0.000</td> <td>   -7.261</td> <td>   -4.471</td>\n",
       "</tr>\n",
       "<tr>\n",
       "  <th>year</th>  <td>    0.0032</td> <td>    0.000</td> <td>    9.004</td> <td> 0.000</td> <td>    0.002</td> <td>    0.004</td>\n",
       "</tr>\n",
       "</table>\n",
       "<table class=\"simpletable\">\n",
       "<tr>\n",
       "  <th>Omnibus:</th>       <td> 3.432</td> <th>  Durbin-Watson:     </th> <td>   0.463</td>\n",
       "</tr>\n",
       "<tr>\n",
       "  <th>Prob(Omnibus):</th> <td> 0.180</td> <th>  Jarque-Bera (JB):  </th> <td>   2.558</td>\n",
       "</tr>\n",
       "<tr>\n",
       "  <th>Skew:</th>          <td> 0.457</td> <th>  Prob(JB):          </th> <td>   0.278</td>\n",
       "</tr>\n",
       "<tr>\n",
       "  <th>Kurtosis:</th>      <td> 3.393</td> <th>  Cond. No.          </th> <td>2.21e+05</td>\n",
       "</tr>\n",
       "</table><br/><br/>Warnings:<br/>[1] Standard Errors assume that the covariance matrix of the errors is correctly specified.<br/>[2] The condition number is large, 2.21e+05. This might indicate that there are<br/>strong multicollinearity or other numerical problems."
      ],
      "text/plain": [
       "<class 'statsmodels.iolib.summary.Summary'>\n",
       "\"\"\"\n",
       "                            OLS Regression Results                            \n",
       "==============================================================================\n",
       "Dep. Variable:              sim_score   R-squared:                       0.575\n",
       "Model:                            OLS   Adj. R-squared:                  0.568\n",
       "Method:                 Least Squares   F-statistic:                     81.07\n",
       "Date:                Wed, 08 Jan 2020   Prob (F-statistic):           9.73e-13\n",
       "Time:                        11:21:00   Log-Likelihood:                 99.488\n",
       "No. Observations:                  62   AIC:                            -195.0\n",
       "Df Residuals:                      60   BIC:                            -190.7\n",
       "Df Model:                           1                                         \n",
       "Covariance Type:            nonrobust                                         \n",
       "==============================================================================\n",
       "                 coef    std err          t      P>|t|      [0.025      0.975]\n",
       "------------------------------------------------------------------------------\n",
       "const         -5.8660      0.698     -8.409      0.000      -7.261      -4.471\n",
       "year           0.0032      0.000      9.004      0.000       0.002       0.004\n",
       "==============================================================================\n",
       "Omnibus:                        3.432   Durbin-Watson:                   0.463\n",
       "Prob(Omnibus):                  0.180   Jarque-Bera (JB):                2.558\n",
       "Skew:                           0.457   Prob(JB):                        0.278\n",
       "Kurtosis:                       3.393   Cond. No.                     2.21e+05\n",
       "==============================================================================\n",
       "\n",
       "Warnings:\n",
       "[1] Standard Errors assume that the covariance matrix of the errors is correctly specified.\n",
       "[2] The condition number is large, 2.21e+05. This might indicate that there are\n",
       "strong multicollinearity or other numerical problems.\n",
       "\"\"\""
      ]
     },
     "execution_count": 136,
     "metadata": {},
     "output_type": "execute_result"
    }
   ],
   "source": [
    "\n",
    "\n",
    "X = third_quintile_yet_another_groupby[\"year\"] ## X usually means our input variables (or independent variables)\n",
    "y = third_quintile_yet_another_groupby[\"sim_score\"] ## Y usually means our output/dependent variable\n",
    "X = sm.add_constant(X) ## let's add an intercept (beta_0) to our model\n",
    "\n",
    "# Note the difference in argument order\n",
    "model = sm.OLS(y, X).fit() ## sm.OLS(output, input)\n",
    "predictions = model.predict(X)\n",
    "\n",
    "# Print out the statistics\n",
    "model.summary()"
   ]
  },
  {
   "cell_type": "code",
   "execution_count": 137,
   "metadata": {},
   "outputs": [
    {
     "data": {
      "text/html": [
       "<table class=\"simpletable\">\n",
       "<caption>OLS Regression Results</caption>\n",
       "<tr>\n",
       "  <th>Dep. Variable:</th>        <td>sim_score</td>    <th>  R-squared:         </th> <td>   0.503</td>\n",
       "</tr>\n",
       "<tr>\n",
       "  <th>Model:</th>                   <td>OLS</td>       <th>  Adj. R-squared:    </th> <td>   0.494</td>\n",
       "</tr>\n",
       "<tr>\n",
       "  <th>Method:</th>             <td>Least Squares</td>  <th>  F-statistic:       </th> <td>   60.63</td>\n",
       "</tr>\n",
       "<tr>\n",
       "  <th>Date:</th>             <td>Wed, 08 Jan 2020</td> <th>  Prob (F-statistic):</th> <td>1.13e-10</td>\n",
       "</tr>\n",
       "<tr>\n",
       "  <th>Time:</th>                 <td>11:21:00</td>     <th>  Log-Likelihood:    </th> <td>  94.113</td>\n",
       "</tr>\n",
       "<tr>\n",
       "  <th>No. Observations:</th>      <td>    62</td>      <th>  AIC:               </th> <td>  -184.2</td>\n",
       "</tr>\n",
       "<tr>\n",
       "  <th>Df Residuals:</th>          <td>    60</td>      <th>  BIC:               </th> <td>  -180.0</td>\n",
       "</tr>\n",
       "<tr>\n",
       "  <th>Df Model:</th>              <td>     1</td>      <th>                     </th>     <td> </td>   \n",
       "</tr>\n",
       "<tr>\n",
       "  <th>Covariance Type:</th>      <td>nonrobust</td>    <th>                     </th>     <td> </td>   \n",
       "</tr>\n",
       "</table>\n",
       "<table class=\"simpletable\">\n",
       "<tr>\n",
       "    <td></td>       <th>coef</th>     <th>std err</th>      <th>t</th>      <th>P>|t|</th>  <th>[0.025</th>    <th>0.975]</th>  \n",
       "</tr>\n",
       "<tr>\n",
       "  <th>const</th> <td>   -5.5496</td> <td>    0.761</td> <td>   -7.295</td> <td> 0.000</td> <td>   -7.071</td> <td>   -4.028</td>\n",
       "</tr>\n",
       "<tr>\n",
       "  <th>year</th>  <td>    0.0030</td> <td>    0.000</td> <td>    7.787</td> <td> 0.000</td> <td>    0.002</td> <td>    0.004</td>\n",
       "</tr>\n",
       "</table>\n",
       "<table class=\"simpletable\">\n",
       "<tr>\n",
       "  <th>Omnibus:</th>       <td> 3.880</td> <th>  Durbin-Watson:     </th> <td>   0.352</td>\n",
       "</tr>\n",
       "<tr>\n",
       "  <th>Prob(Omnibus):</th> <td> 0.144</td> <th>  Jarque-Bera (JB):  </th> <td>   3.134</td>\n",
       "</tr>\n",
       "<tr>\n",
       "  <th>Skew:</th>          <td> 0.538</td> <th>  Prob(JB):          </th> <td>   0.209</td>\n",
       "</tr>\n",
       "<tr>\n",
       "  <th>Kurtosis:</th>      <td> 3.237</td> <th>  Cond. No.          </th> <td>2.21e+05</td>\n",
       "</tr>\n",
       "</table><br/><br/>Warnings:<br/>[1] Standard Errors assume that the covariance matrix of the errors is correctly specified.<br/>[2] The condition number is large, 2.21e+05. This might indicate that there are<br/>strong multicollinearity or other numerical problems."
      ],
      "text/plain": [
       "<class 'statsmodels.iolib.summary.Summary'>\n",
       "\"\"\"\n",
       "                            OLS Regression Results                            \n",
       "==============================================================================\n",
       "Dep. Variable:              sim_score   R-squared:                       0.503\n",
       "Model:                            OLS   Adj. R-squared:                  0.494\n",
       "Method:                 Least Squares   F-statistic:                     60.63\n",
       "Date:                Wed, 08 Jan 2020   Prob (F-statistic):           1.13e-10\n",
       "Time:                        11:21:00   Log-Likelihood:                 94.113\n",
       "No. Observations:                  62   AIC:                            -184.2\n",
       "Df Residuals:                      60   BIC:                            -180.0\n",
       "Df Model:                           1                                         \n",
       "Covariance Type:            nonrobust                                         \n",
       "==============================================================================\n",
       "                 coef    std err          t      P>|t|      [0.025      0.975]\n",
       "------------------------------------------------------------------------------\n",
       "const         -5.5496      0.761     -7.295      0.000      -7.071      -4.028\n",
       "year           0.0030      0.000      7.787      0.000       0.002       0.004\n",
       "==============================================================================\n",
       "Omnibus:                        3.880   Durbin-Watson:                   0.352\n",
       "Prob(Omnibus):                  0.144   Jarque-Bera (JB):                3.134\n",
       "Skew:                           0.538   Prob(JB):                        0.209\n",
       "Kurtosis:                       3.237   Cond. No.                     2.21e+05\n",
       "==============================================================================\n",
       "\n",
       "Warnings:\n",
       "[1] Standard Errors assume that the covariance matrix of the errors is correctly specified.\n",
       "[2] The condition number is large, 2.21e+05. This might indicate that there are\n",
       "strong multicollinearity or other numerical problems.\n",
       "\"\"\""
      ]
     },
     "execution_count": 137,
     "metadata": {},
     "output_type": "execute_result"
    }
   ],
   "source": [
    "\n",
    "\n",
    "X = fourth_quintile_yet_another_groupby[\"year\"] ## X usually means our input variables (or independent variables)\n",
    "y = fourth_quintile_yet_another_groupby[\"sim_score\"] ## Y usually means our output/dependent variable\n",
    "X = sm.add_constant(X) ## let's add an intercept (beta_0) to our model\n",
    "\n",
    "# Note the difference in argument order\n",
    "model = sm.OLS(y, X).fit() ## sm.OLS(output, input)\n",
    "predictions = model.predict(X)\n",
    "\n",
    "# Print out the statistics\n",
    "model.summary()"
   ]
  },
  {
   "cell_type": "code",
   "execution_count": null,
   "metadata": {},
   "outputs": [],
   "source": []
  },
  {
   "cell_type": "code",
   "execution_count": 138,
   "metadata": {},
   "outputs": [
    {
     "data": {
      "text/html": [
       "<table class=\"simpletable\">\n",
       "<caption>OLS Regression Results</caption>\n",
       "<tr>\n",
       "  <th>Dep. Variable:</th>        <td>sim_score</td>    <th>  R-squared:         </th> <td>   0.253</td>\n",
       "</tr>\n",
       "<tr>\n",
       "  <th>Model:</th>                   <td>OLS</td>       <th>  Adj. R-squared:    </th> <td>   0.240</td>\n",
       "</tr>\n",
       "<tr>\n",
       "  <th>Method:</th>             <td>Least Squares</td>  <th>  F-statistic:       </th> <td>   20.27</td>\n",
       "</tr>\n",
       "<tr>\n",
       "  <th>Date:</th>             <td>Wed, 08 Jan 2020</td> <th>  Prob (F-statistic):</th> <td>3.15e-05</td>\n",
       "</tr>\n",
       "<tr>\n",
       "  <th>Time:</th>                 <td>11:21:00</td>     <th>  Log-Likelihood:    </th> <td>  66.418</td>\n",
       "</tr>\n",
       "<tr>\n",
       "  <th>No. Observations:</th>      <td>    62</td>      <th>  AIC:               </th> <td>  -128.8</td>\n",
       "</tr>\n",
       "<tr>\n",
       "  <th>Df Residuals:</th>          <td>    60</td>      <th>  BIC:               </th> <td>  -124.6</td>\n",
       "</tr>\n",
       "<tr>\n",
       "  <th>Df Model:</th>              <td>     1</td>      <th>                     </th>     <td> </td>   \n",
       "</tr>\n",
       "<tr>\n",
       "  <th>Covariance Type:</th>      <td>nonrobust</td>    <th>                     </th>     <td> </td>   \n",
       "</tr>\n",
       "</table>\n",
       "<table class=\"simpletable\">\n",
       "<tr>\n",
       "    <td></td>       <th>coef</th>     <th>std err</th>      <th>t</th>      <th>P>|t|</th>  <th>[0.025</th>    <th>0.975]</th>  \n",
       "</tr>\n",
       "<tr>\n",
       "  <th>const</th> <td>   -5.0065</td> <td>    1.189</td> <td>   -4.210</td> <td> 0.000</td> <td>   -7.385</td> <td>   -2.628</td>\n",
       "</tr>\n",
       "<tr>\n",
       "  <th>year</th>  <td>    0.0027</td> <td>    0.001</td> <td>    4.502</td> <td> 0.000</td> <td>    0.001</td> <td>    0.004</td>\n",
       "</tr>\n",
       "</table>\n",
       "<table class=\"simpletable\">\n",
       "<tr>\n",
       "  <th>Omnibus:</th>       <td> 7.025</td> <th>  Durbin-Watson:     </th> <td>   0.631</td>\n",
       "</tr>\n",
       "<tr>\n",
       "  <th>Prob(Omnibus):</th> <td> 0.030</td> <th>  Jarque-Bera (JB):  </th> <td>   7.115</td>\n",
       "</tr>\n",
       "<tr>\n",
       "  <th>Skew:</th>          <td> 0.828</td> <th>  Prob(JB):          </th> <td>  0.0285</td>\n",
       "</tr>\n",
       "<tr>\n",
       "  <th>Kurtosis:</th>      <td> 2.898</td> <th>  Cond. No.          </th> <td>2.21e+05</td>\n",
       "</tr>\n",
       "</table><br/><br/>Warnings:<br/>[1] Standard Errors assume that the covariance matrix of the errors is correctly specified.<br/>[2] The condition number is large, 2.21e+05. This might indicate that there are<br/>strong multicollinearity or other numerical problems."
      ],
      "text/plain": [
       "<class 'statsmodels.iolib.summary.Summary'>\n",
       "\"\"\"\n",
       "                            OLS Regression Results                            \n",
       "==============================================================================\n",
       "Dep. Variable:              sim_score   R-squared:                       0.253\n",
       "Model:                            OLS   Adj. R-squared:                  0.240\n",
       "Method:                 Least Squares   F-statistic:                     20.27\n",
       "Date:                Wed, 08 Jan 2020   Prob (F-statistic):           3.15e-05\n",
       "Time:                        11:21:00   Log-Likelihood:                 66.418\n",
       "No. Observations:                  62   AIC:                            -128.8\n",
       "Df Residuals:                      60   BIC:                            -124.6\n",
       "Df Model:                           1                                         \n",
       "Covariance Type:            nonrobust                                         \n",
       "==============================================================================\n",
       "                 coef    std err          t      P>|t|      [0.025      0.975]\n",
       "------------------------------------------------------------------------------\n",
       "const         -5.0065      1.189     -4.210      0.000      -7.385      -2.628\n",
       "year           0.0027      0.001      4.502      0.000       0.001       0.004\n",
       "==============================================================================\n",
       "Omnibus:                        7.025   Durbin-Watson:                   0.631\n",
       "Prob(Omnibus):                  0.030   Jarque-Bera (JB):                7.115\n",
       "Skew:                           0.828   Prob(JB):                       0.0285\n",
       "Kurtosis:                       2.898   Cond. No.                     2.21e+05\n",
       "==============================================================================\n",
       "\n",
       "Warnings:\n",
       "[1] Standard Errors assume that the covariance matrix of the errors is correctly specified.\n",
       "[2] The condition number is large, 2.21e+05. This might indicate that there are\n",
       "strong multicollinearity or other numerical problems.\n",
       "\"\"\""
      ]
     },
     "execution_count": 138,
     "metadata": {},
     "output_type": "execute_result"
    }
   ],
   "source": [
    "\n",
    "\n",
    "X = fifth_quintile_yet_another_groupby[\"year\"] ## X usually means our input variables (or independent variables)\n",
    "y = fifth_quintile_yet_another_groupby[\"sim_score\"] ## Y usually means our output/dependent variable\n",
    "X = sm.add_constant(X) ## let's add an intercept (beta_0) to our model\n",
    "\n",
    "# Note the difference in argument order\n",
    "model = sm.OLS(y, X).fit() ## sm.OLS(output, input)\n",
    "predictions = model.predict(X)\n",
    "\n",
    "# Print out the statistics\n",
    "model.summary()"
   ]
  },
  {
   "cell_type": "markdown",
   "metadata": {},
   "source": [
    "# This is the end of this notebook."
   ]
  },
  {
   "cell_type": "code",
   "execution_count": null,
   "metadata": {},
   "outputs": [],
   "source": []
  },
  {
   "cell_type": "code",
   "execution_count": null,
   "metadata": {},
   "outputs": [],
   "source": []
  },
  {
   "cell_type": "code",
   "execution_count": null,
   "metadata": {},
   "outputs": [],
   "source": []
  }
 ],
 "metadata": {
  "kernelspec": {
   "display_name": "Python 3",
   "language": "python",
   "name": "python3"
  },
  "language_info": {
   "codemirror_mode": {
    "name": "ipython",
    "version": 3
   },
   "file_extension": ".py",
   "mimetype": "text/x-python",
   "name": "python",
   "nbconvert_exporter": "python",
   "pygments_lexer": "ipython3",
   "version": "3.7.3"
  }
 },
 "nbformat": 4,
 "nbformat_minor": 2
}
